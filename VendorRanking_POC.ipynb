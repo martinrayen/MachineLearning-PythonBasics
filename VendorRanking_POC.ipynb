{
 "cells": [
  {
   "cell_type": "code",
   "execution_count": null,
   "metadata": {},
   "outputs": [],
   "source": []
  },
  {
   "cell_type": "markdown",
   "metadata": {},
   "source": [
    "### [1.00]: Import the required modules."
   ]
  },
  {
   "cell_type": "code",
   "execution_count": 1,
   "metadata": {},
   "outputs": [],
   "source": [
    "# Import the required modules.\n",
    "import os\n",
    "import re\n",
    "import wx  # Install it with pip.\n",
    "import sys\n",
    "import json\n",
    "import shutil\n",
    "import numpy as np\n",
    "import pandas as pd\n",
    "from os import path\n",
    "from datetime import datetime"
   ]
  },
  {
   "cell_type": "markdown",
   "metadata": {},
   "source": [
    "### [1.10]: Instantiate the ML pipeline class."
   ]
  },
  {
   "cell_type": "code",
   "execution_count": 2,
   "metadata": {},
   "outputs": [],
   "source": [
    "# Function to prompt the user to upload the file.\n",
    "def get_path(wildcard):\n",
    "    app = wx.App(None)\n",
    "    style = wx.FD_OPEN | wx.FD_FILE_MUST_EXIST\n",
    "    dialog = wx.FileDialog(None, 'Choose a training file.', wildcard=wildcard, style=style)\n",
    "    if dialog.ShowModal() == wx.ID_OK:\n",
    "        path = dialog.GetPath()\n",
    "    else:\n",
    "        path = None\n",
    "    dialog.Destroy()\n",
    "    return path"
   ]
  },
  {
   "cell_type": "code",
   "execution_count": 3,
   "metadata": {},
   "outputs": [],
   "source": [
    "try:\n",
    "    # Call the funtion to get the input files.\n",
    "    s_infile = get_path('*.csv')\n",
    "    s_infile = s_infile.replace(\"\\\\\",\"\\\\\\\\\")\n",
    "\n",
    "    # Get the current working directory.\n",
    "    s_path = os.getcwd()\n",
    "    s_path = s_path.replace(\"\\\\\",\"\\\\\\\\\")\n",
    "    s_basefile = os.path.basename(s_infile)\n",
    "\n",
    "    # Check, if path exists in system path,else add.\n",
    "    if s_path in os.environ:\n",
    "        sys.path.append(s_path)\n",
    "\n",
    "    # Instantiate and Consume the class.\n",
    "    from classMLModelingPipeline import *\n",
    "    # Open and read the App Configuration using json.\n",
    "    with open(s_path + '\\\\AppConfig.txt') as json_file:\n",
    "        # Load the App config details.\n",
    "        data = json.load(json_file)\n",
    "        # For each entry in json, extract App config parameters.\n",
    "        for p in data['AppConfig']:\n",
    "            applConfig = modMLModelingPipeline  (  p['Id'],\n",
    "                                                    p['Name'],\n",
    "                                                    p['Source'],\n",
    "                                                    p['Output'],\n",
    "                                                    p['TrainedModel'],\n",
    "                                                    p['ExecutionLog'],\n",
    "                                                    p['ExecutionLogFileName'],\n",
    "                                                    p['Archive']\n",
    "                                                  )\n",
    "    #===== Create Application Directories ============================================================\n",
    "    s_classApplication  = 'classMLModelingPipeline'\n",
    "    s_classMethod       = 'CreateAppDirectories'\n",
    "    s_statusType        = 'Success'\n",
    "    s_statusDescription = 'Successfull write operation.'\n",
    "    applConfig.CreateAppDirectories()\n",
    "    applConfig.WriteToActivityLog(s_classApplication,\n",
    "                                  s_classMethod,\n",
    "                                  s_statusType,\n",
    "                                  s_statusDescription\n",
    "                                 )\n",
    "except AttributeError:\n",
    "    print(\"No file has been choosen!!!!\")\n",
    "except:\n",
    "    print(\"Unexpected error:\", sys.exc_info()[0])\n",
    "    raise"
   ]
  },
  {
   "cell_type": "code",
   "execution_count": 4,
   "metadata": {},
   "outputs": [],
   "source": [
    "def GetInputFileFromSource(s_in_temp_path,s_in_filename):\n",
    "    # Path to retrieve the input file.\n",
    "    s_in_cwd_file = s_in_temp_path\n",
    "    # Get the path to source directory from class.\n",
    "    s_in_source_file = applConfig.Source\n",
    "    s_in_source_file = s_in_source_file + s_in_filename\n",
    "    # Check, if input file present in source.\n",
    "    if os.path.isfile(s_in_source_file):\n",
    "        s_inputPath = s_in_source_file\n",
    "    else:\n",
    "        # Copy it from cwd.\n",
    "        shutil.copy(s_in_cwd_file,s_in_source_file)\n",
    "    return s_in_source_file"
   ]
  },
  {
   "cell_type": "markdown",
   "metadata": {},
   "source": [
    "### [1.20]: Data loading"
   ]
  },
  {
   "cell_type": "code",
   "execution_count": 5,
   "metadata": {},
   "outputs": [
    {
     "data": {
      "text/html": [
       "<div>\n",
       "<style scoped>\n",
       "    .dataframe tbody tr th:only-of-type {\n",
       "        vertical-align: middle;\n",
       "    }\n",
       "\n",
       "    .dataframe tbody tr th {\n",
       "        vertical-align: top;\n",
       "    }\n",
       "\n",
       "    .dataframe thead th {\n",
       "        text-align: right;\n",
       "    }\n",
       "</style>\n",
       "<table border=\"1\" class=\"dataframe\">\n",
       "  <thead>\n",
       "    <tr style=\"text-align: right;\">\n",
       "      <th></th>\n",
       "      <th>POrg</th>\n",
       "      <th>Plnt</th>\n",
       "      <th>Purch.Doc.</th>\n",
       "      <th>Item</th>\n",
       "      <th>Doc. Date</th>\n",
       "      <th>Supplier/Supplying Plant</th>\n",
       "      <th>Material</th>\n",
       "      <th>Short Text</th>\n",
       "      <th>Del Date</th>\n",
       "      <th>GRN Date</th>\n",
       "      <th>Sum of PO Quantity</th>\n",
       "      <th>Sum of      Net Price</th>\n",
       "      <th>Sum of PO Value</th>\n",
       "      <th>Sum of GRN Qty</th>\n",
       "      <th>Sum of GRN Val</th>\n",
       "    </tr>\n",
       "  </thead>\n",
       "  <tbody>\n",
       "    <tr>\n",
       "      <th>0</th>\n",
       "      <td>1000</td>\n",
       "      <td>10</td>\n",
       "      <td>2000042605</td>\n",
       "      <td>10</td>\n",
       "      <td>2019-09-04</td>\n",
       "      <td>201020     SANVIJAY ROLLING &amp; ENGG. LTD.</td>\n",
       "      <td>MS1-45X30X4P</td>\n",
       "      <td>MS1-45X30X4P IS-2062-E250-BLACK \\ WHITE</td>\n",
       "      <td>2019-05-24</td>\n",
       "      <td>2019-05-28</td>\n",
       "      <td>10.164</td>\n",
       "      <td>41000</td>\n",
       "      <td>416724.0</td>\n",
       "      <td>10.164</td>\n",
       "      <td>416724.0</td>\n",
       "    </tr>\n",
       "    <tr>\n",
       "      <th>1</th>\n",
       "      <td>1000</td>\n",
       "      <td>10</td>\n",
       "      <td>2000042605</td>\n",
       "      <td>20</td>\n",
       "      <td>2019-09-04</td>\n",
       "      <td>201020     SANVIJAY ROLLING &amp; ENGG. LTD.</td>\n",
       "      <td>MS3-40X40X4</td>\n",
       "      <td>MS3-40X40X4 : EN10025-2 235JR (R/B)</td>\n",
       "      <td>2019-05-24</td>\n",
       "      <td>2019-05-24</td>\n",
       "      <td>70.560</td>\n",
       "      <td>82000</td>\n",
       "      <td>2892960.0</td>\n",
       "      <td>35.623</td>\n",
       "      <td>1460543.0</td>\n",
       "    </tr>\n",
       "  </tbody>\n",
       "</table>\n",
       "</div>"
      ],
      "text/plain": [
       "   POrg  Plnt  Purch.Doc.  Item  Doc. Date  \\\n",
       "0  1000    10  2000042605    10 2019-09-04   \n",
       "1  1000    10  2000042605    20 2019-09-04   \n",
       "\n",
       "                   Supplier/Supplying Plant      Material  \\\n",
       "0  201020     SANVIJAY ROLLING & ENGG. LTD.  MS1-45X30X4P   \n",
       "1  201020     SANVIJAY ROLLING & ENGG. LTD.   MS3-40X40X4   \n",
       "\n",
       "                                Short Text   Del Date   GRN Date  \\\n",
       "0  MS1-45X30X4P IS-2062-E250-BLACK \\ WHITE 2019-05-24 2019-05-28   \n",
       "1      MS3-40X40X4 : EN10025-2 235JR (R/B) 2019-05-24 2019-05-24   \n",
       "\n",
       "   Sum of PO Quantity  Sum of      Net Price  Sum of PO Value  Sum of GRN Qty  \\\n",
       "0              10.164                  41000         416724.0          10.164   \n",
       "1              70.560                  82000        2892960.0          35.623   \n",
       "\n",
       "   Sum of GRN Val  \n",
       "0        416724.0  \n",
       "1       1460543.0  "
      ]
     },
     "execution_count": 5,
     "metadata": {},
     "output_type": "execute_result"
    }
   ],
   "source": [
    "# Get the input file from source.\n",
    "s_inputPath = GetInputFileFromSource(s_infile,s_basefile)\n",
    "\n",
    "# Load the data from the csv file into pandas dataframe.\n",
    "dfDataVendor = pd.read_csv(s_inputPath\n",
    "                         ,parse_dates = ['Doc. Date','Del Date','GRN Date']\n",
    "                         ,infer_datetime_format = True\n",
    "                        )\n",
    "# Display the top rows.\n",
    "dfDataVendor.head(2)"
   ]
  },
  {
   "cell_type": "markdown",
   "metadata": {},
   "source": [
    "### [1.30]: Data pre-processing."
   ]
  },
  {
   "cell_type": "markdown",
   "metadata": {},
   "source": [
    "#### [1.31]: Extract VendorCode."
   ]
  },
  {
   "cell_type": "code",
   "execution_count": 6,
   "metadata": {},
   "outputs": [],
   "source": [
    "# Extract VendorCode from \"Supplier/Supplying Plant\" column.\n",
    "dfDataVendor['VendorCode']  = dfDataVendor['Supplier/Supplying Plant'].str.extract('(\\d+)')\n",
    "# Alternate way:\n",
    "#dfDataVendor['VendorCode']  = dfDataVendor['Supplier/Supplying Plant'].str.extract('([0-9][0-9][0-9][0-9][0-9][0-9]+)')"
   ]
  },
  {
   "cell_type": "markdown",
   "metadata": {},
   "source": [
    "#### [1.32]: Inspect datatypes."
   ]
  },
  {
   "cell_type": "code",
   "execution_count": 7,
   "metadata": {},
   "outputs": [
    {
     "data": {
      "text/plain": [
       "POrg                                 int64\n",
       "Plnt                                 int64\n",
       "Purch.Doc.                           int64\n",
       "Item                                 int64\n",
       "Doc. Date                   datetime64[ns]\n",
       "Supplier/Supplying Plant            object\n",
       "Material                            object\n",
       "Short Text                          object\n",
       "Del Date                    datetime64[ns]\n",
       "GRN Date                    datetime64[ns]\n",
       "Sum of PO Quantity                 float64\n",
       "Sum of      Net Price                int64\n",
       "Sum of PO Value                    float64\n",
       "Sum of GRN Qty                     float64\n",
       "Sum of GRN Val                     float64\n",
       "VendorCode                          object\n",
       "dtype: object"
      ]
     },
     "execution_count": 7,
     "metadata": {},
     "output_type": "execute_result"
    }
   ],
   "source": [
    "# Check the datatypes of the dataframe.\n",
    "dfDataVendor.dtypes"
   ]
  },
  {
   "cell_type": "markdown",
   "metadata": {},
   "source": [
    "#### [1.33]: Export data cleansed, so far to .csv format for inspection."
   ]
  },
  {
   "cell_type": "code",
   "execution_count": 8,
   "metadata": {},
   "outputs": [],
   "source": [
    "# Export the date columns to a csv file and manually inspect for anamolies.\n",
    "dfDataVendor[['GRN Date','Doc. Date','Del Date','VendorCode']].to_csv('Data_Inspect.csv')"
   ]
  },
  {
   "cell_type": "markdown",
   "metadata": {},
   "source": [
    "#### [1.33]: Get the latest data for multiple vendor occurence for the given snapshot."
   ]
  },
  {
   "cell_type": "code",
   "execution_count": 9,
   "metadata": {},
   "outputs": [],
   "source": [
    "dfDataVendorMaxDate = dfDataVendor.groupby(['Material','VendorCode']).agg({'Doc. Date':'max'}) \\\n",
    "                      .reindex(['Doc. Date'], axis=1) \\\n",
    "                      .reset_index()\n",
    "\n",
    "dfDataVendorLatest = pd.merge(dfDataVendor,dfDataVendorMaxDate,on=['Material','VendorCode','Doc. Date'],how='inner')"
   ]
  },
  {
   "cell_type": "code",
   "execution_count": 10,
   "metadata": {
    "scrolled": false
   },
   "outputs": [
    {
     "data": {
      "text/plain": [
       "Index(['POrg', 'Plnt', 'Purch.Doc.', 'Item', 'Doc. Date',\n",
       "       'Supplier/Supplying Plant', 'Material', 'Short Text', 'Del Date',\n",
       "       'GRN Date', 'Sum of PO Quantity', 'Sum of      Net Price',\n",
       "       'Sum of PO Value', 'Sum of GRN Qty', 'Sum of GRN Val', 'VendorCode'],\n",
       "      dtype='object')"
      ]
     },
     "execution_count": 10,
     "metadata": {},
     "output_type": "execute_result"
    }
   ],
   "source": [
    "dfDataVendorLatest.columns"
   ]
  },
  {
   "cell_type": "markdown",
   "metadata": {},
   "source": [
    "#### [1.34]: Calculate the deviation metrics."
   ]
  },
  {
   "cell_type": "code",
   "execution_count": 11,
   "metadata": {},
   "outputs": [],
   "source": [
    "# Deviation in expected vs actual delivery dates.\n",
    "dfDataVendorLatest['Deviation_DeliveryDate'] = (dfDataVendorLatest['GRN Date'] - dfDataVendorLatest['Del Date']).dt.days\n",
    "\n",
    "# Deviation in expected vs actual delivered quantity.\n",
    "dfDataVendorLatest['Deviation_DeliveredQty'] = (dfDataVendorLatest['Sum of PO Quantity'] - dfDataVendorLatest['Sum of GRN Qty']) \\\n",
    "/dfDataVendorLatest['Sum of PO Quantity']\n",
    "\n",
    "# Round of to the nearest 4th decimal.\n",
    "dfDataVendorLatest['Deviation_DeliveredQty'] = dfDataVendorLatest['Deviation_DeliveredQty'].round(3)\n",
    "\n",
    "# Deviation in expected vs actual delivered value.\n",
    "dfDataVendorLatest['Deviation_DeliveredValue'] = (dfDataVendorLatest['Sum of PO Value'] - dfDataVendorLatest['Sum of GRN Val']) \\\n",
    "/dfDataVendorLatest['Sum of PO Value']\n",
    "\n",
    "# Round of to the nearest 4th decimal.\n",
    "dfDataVendorLatest['Deviation_DeliveredValue'] = dfDataVendorLatest['Deviation_DeliveredValue'].round(3)\n",
    "\n",
    "# Handle negative deviations in quantity and value. Delivered more qty/value than the PO contract.\n",
    "dfDataVendorLatest.loc[dfDataVendorLatest['Deviation_DeliveredQty']   < 0.0,  'Deviation_DeliveredQty'] = 0.0\n",
    "dfDataVendorLatest.loc[dfDataVendorLatest['Deviation_DeliveredValue'] < 0.0,'Deviation_DeliveredValue'] = 0.0"
   ]
  },
  {
   "cell_type": "code",
   "execution_count": null,
   "metadata": {},
   "outputs": [],
   "source": []
  },
  {
   "cell_type": "code",
   "execution_count": 12,
   "metadata": {},
   "outputs": [
    {
     "data": {
      "text/plain": [
       "\"\\n# Deviation in expected vs actual delivered value.\\ndfDataVendor[['Material','VendorCode','Sum of PO Value','Sum of GRN Val','Deviation_DeliveredValue']] [dfDataVendor['Material'] == 'HT1-100X100X8P']\\n\\n# Deviation in expected vs actual deivered quantity.\\ndfDataVendor[['Material','VendorCode','Sum of PO Quantity','Sum of GRN Qty','Deviation_DeliveredQty']] [dfDataVendor['Material'] == 'HT1-100X100X8P']\\n\\n# Deviation in expected vs actual delivery dates.\\ndfDataVendor[['Material','VendorCode','Doc. Date','Del Date','GRN Date','Deviation_DeliveryDate']] [dfDataVendor['Material'] == 'HT1-100X100X8P']\\n# Materials supplied by multiple vendors \\n# 'HT10-100X100X10','HT10-100X100X6','HT10-100X100X8','HT10-10THK','HT10-110X110X10','HT10-110X110X8'\\n\""
      ]
     },
     "execution_count": 12,
     "metadata": {},
     "output_type": "execute_result"
    }
   ],
   "source": [
    "'''\n",
    "# Deviation in expected vs actual delivered value.\n",
    "dfDataVendor[['Material','VendorCode','Sum of PO Value','Sum of GRN Val','Deviation_DeliveredValue']] \\\n",
    "[dfDataVendor['Material'] == 'HT1-100X100X8P']\n",
    "\n",
    "# Deviation in expected vs actual deivered quantity.\n",
    "dfDataVendor[['Material','VendorCode','Sum of PO Quantity','Sum of GRN Qty','Deviation_DeliveredQty']] \\\n",
    "[dfDataVendor['Material'] == 'HT1-100X100X8P']\n",
    "\n",
    "# Deviation in expected vs actual delivery dates.\n",
    "dfDataVendor[['Material','VendorCode','Doc. Date','Del Date','GRN Date','Deviation_DeliveryDate']] \\\n",
    "[dfDataVendor['Material'] == 'HT1-100X100X8P']\n",
    "# Materials supplied by multiple vendors \n",
    "# 'HT10-100X100X10','HT10-100X100X6','HT10-100X100X8','HT10-10THK','HT10-110X110X10','HT10-110X110X8'\n",
    "'''"
   ]
  },
  {
   "cell_type": "code",
   "execution_count": null,
   "metadata": {},
   "outputs": [],
   "source": []
  },
  {
   "cell_type": "markdown",
   "metadata": {},
   "source": [
    "### [1.40]: Build the final dataframe for ML modelling."
   ]
  },
  {
   "cell_type": "markdown",
   "metadata": {},
   "source": [
    "#### [1.41]: Concatenate all the required columns."
   ]
  },
  {
   "cell_type": "code",
   "execution_count": 14,
   "metadata": {},
   "outputs": [],
   "source": [
    "# Concat all the columns required for the analysis.\n",
    "dfDataVendorFinal = dfDataVendorLatest[['Doc. Date','VendorCode','Material','Deviation_DeliveryDate', \\\n",
    "                                 'Deviation_DeliveredQty','Deviation_DeliveredValue']]"
   ]
  },
  {
   "cell_type": "code",
   "execution_count": null,
   "metadata": {},
   "outputs": [],
   "source": []
  },
  {
   "cell_type": "code",
   "execution_count": null,
   "metadata": {},
   "outputs": [],
   "source": []
  },
  {
   "cell_type": "markdown",
   "metadata": {},
   "source": [
    "#### [1.42]: Explore the distribution of data."
   ]
  },
  {
   "cell_type": "code",
   "execution_count": 15,
   "metadata": {},
   "outputs": [
    {
     "data": {
      "image/png": "[encoded data removed]",
      "text/plain": [
       "<Figure size 432x288 with 1 Axes>"
      ]
     },
     "metadata": {
      "needs_background": "light"
     },
     "output_type": "display_data"
    }
   ],
   "source": [
    "# For variable : \"Deviation_DeliveryDate\"\n",
    "# Import the necessary libraries\n",
    "import matplotlib.pyplot as plt\n",
    "import seaborn as sns\n",
    "%matplotlib inline \n",
    "\n",
    "# Create violinplot\n",
    "sns.violinplot(x = \"Deviation_DeliveryDate\", data=dfDataVendorFinal)\n",
    "\n",
    "# Show the plot\n",
    "plt.show()"
   ]
  },
  {
   "cell_type": "code",
   "execution_count": 16,
   "metadata": {},
   "outputs": [
    {
     "data": {
      "image/png": "[encoded data removed]",
      "text/plain": [
       "<Figure size 432x288 with 1 Axes>"
      ]
     },
     "metadata": {
      "needs_background": "light"
     },
     "output_type": "display_data"
    }
   ],
   "source": [
    "# For variable : \"Deviation_DeliveredQty\"\n",
    "# Import the necessary libraries\n",
    "import matplotlib.pyplot as plt\n",
    "import seaborn as sns\n",
    "%matplotlib inline \n",
    "\n",
    "# Create violinplot\n",
    "sns.violinplot(x = \"Deviation_DeliveredQty\", data=dfDataVendorFinal)\n",
    "\n",
    "# Show the plot\n",
    "plt.show()"
   ]
  },
  {
   "cell_type": "code",
   "execution_count": 17,
   "metadata": {},
   "outputs": [
    {
     "data": {
      "image/png": "[encoded data removed]",
      "text/plain": [
       "<Figure size 432x288 with 1 Axes>"
      ]
     },
     "metadata": {
      "needs_background": "light"
     },
     "output_type": "display_data"
    }
   ],
   "source": [
    "# For variable : \"Deviation_DeliveredValue\"\n",
    "# Import the necessary libraries\n",
    "import matplotlib.pyplot as plt\n",
    "import seaborn as sns\n",
    "%matplotlib inline \n",
    "\n",
    "# Create violinplot\n",
    "sns.violinplot(x = \"Deviation_DeliveredValue\", data=dfDataVendorFinal)\n",
    "\n",
    "# Show the plot\n",
    "plt.show()"
   ]
  },
  {
   "cell_type": "markdown",
   "metadata": {},
   "source": [
    "#### [1.43]: Derive and build the class label."
   ]
  },
  {
   "cell_type": "code",
   "execution_count": 18,
   "metadata": {},
   "outputs": [
    {
     "data": {
      "text/plain": [
       "count    606.000000\n",
       "mean      -4.717822\n",
       "std       14.081624\n",
       "min      -32.000000\n",
       "25%      -15.000000\n",
       "50%       -7.000000\n",
       "75%        3.000000\n",
       "max       47.000000\n",
       "Name: Deviation_DeliveryDate, dtype: float64"
      ]
     },
     "execution_count": 18,
     "metadata": {},
     "output_type": "execute_result"
    }
   ],
   "source": [
    "dfDataVendorFinal['Deviation_DeliveryDate'].describe()"
   ]
  },
  {
   "cell_type": "code",
   "execution_count": 19,
   "metadata": {},
   "outputs": [
    {
     "data": {
      "text/plain": [
       "count    606.000000\n",
       "mean       0.234847\n",
       "std        0.344642\n",
       "min        0.000000\n",
       "25%        0.000000\n",
       "50%        0.008000\n",
       "75%        0.500000\n",
       "max        3.981000\n",
       "Name: Deviation_DeliveredQty, dtype: float64"
      ]
     },
     "execution_count": 19,
     "metadata": {},
     "output_type": "execute_result"
    }
   ],
   "source": [
    "dfDataVendorFinal['Deviation_DeliveredQty'].describe()"
   ]
  },
  {
   "cell_type": "code",
   "execution_count": 20,
   "metadata": {},
   "outputs": [],
   "source": [
    "# Function to generate the class Label.\n",
    "def getClassDelivery(dfClassDelivery):\n",
    "    # Store the actual index.\n",
    "    dfIndex = dfClassDelivery.index\n",
    "    # Set the index to 'Material'to partition the dataset.\n",
    "    dfClassDelivery.set_index('Material', inplace=True)\n",
    "    # Loop through the distinct partition value.\n",
    "    for i in (set(dfClassDelivery.index)):\n",
    "        # Apply partition, on the 'Material' column.\n",
    "        slicer = (dfClassDelivery.index.values == i)\n",
    "        # Vendor delivers, 30 days earlier or more, than the contract delivery date.\n",
    "        # No deviation in quantity delivered.\n",
    "        dfClassDelivery.loc[( (slicer) & \\\n",
    "                              (dfClassDelivery['Deviation_DeliveryDate']   < -30.0) & \\\n",
    "                              (dfClassDelivery['Deviation_DeliveredQty']   == 0.0) \n",
    "                            ),  \\\n",
    "                             'classDelivery'] = 1\n",
    "    \n",
    "        # 25% deviation in quantity delivered.\n",
    "        dfClassDelivery.loc[(\n",
    "                                (slicer) & \\\n",
    "                                (dfClassDelivery['Deviation_DeliveryDate']   < -30.0) & \\\n",
    "                                ( (dfClassDelivery['Deviation_DeliveredQty']   > 0.0)   & \\\n",
    "                                  (dfClassDelivery['Deviation_DeliveredQty']   <= 0.25))\n",
    "                             ),'classDelivery'] = 2\n",
    "\n",
    "        # 25% to 50% deviation in quantity delivered.\n",
    "        dfClassDelivery.loc[(\n",
    "                                (slicer) & \\\n",
    "                                (dfClassDelivery['Deviation_DeliveryDate']   < -30.0) & \\\n",
    "                                ((dfClassDelivery['Deviation_DeliveredQty']   > 0.25)   & \\\n",
    "                                (dfClassDelivery['Deviation_DeliveredQty']   <= 0.50))\n",
    "                            ),'classDelivery'] = 3\n",
    "\n",
    "        # 50% to 75% deviation in quantity delivered.\n",
    "        dfClassDelivery.loc[(   (slicer) & \\\n",
    "                                (dfClassDelivery['Deviation_DeliveryDate']   < -30.0) & \\\n",
    "                                ( (dfClassDelivery['Deviation_DeliveredQty']   > 0.50)   & \\\n",
    "                                  (dfClassDelivery['Deviation_DeliveredQty']   <= 0.75))\n",
    "                             ),'classDelivery'] = 4\n",
    "    \n",
    "        # More than 75% deviation in quantity delivered.\n",
    "        dfClassDelivery.loc[(   (slicer) & \\\n",
    "                                (dfClassDelivery['Deviation_DeliveryDate']   < -30.0) & \\\n",
    "                                ((dfClassDelivery['Deviation_DeliveredQty']  > 0.75))\n",
    "                             ),'classDelivery'] = 5\n",
    "    \n",
    "\n",
    "        # Vendor delivers, 15-30 days earlier,  than the contract date.\n",
    "        # No deviation in quantity delivered.\n",
    "        dfClassDelivery.loc[( (slicer) & \\\n",
    "                            ((dfClassDelivery['Deviation_DeliveryDate']   >= -30.0) & \\\n",
    "                            (dfClassDelivery['Deviation_DeliveryDate']   <= -15.0)) & \\\n",
    "                            (dfClassDelivery['Deviation_DeliveredQty']   == 0.0) \n",
    "                        ),'classDelivery'] = 6\n",
    "    \n",
    "        # 25% deviation in quantity delivered.\n",
    "        dfClassDelivery.loc[( (slicer) & \\\n",
    "                            ((dfClassDelivery['Deviation_DeliveryDate']   >= -30.0) & \\\n",
    "                            (dfClassDelivery['Deviation_DeliveryDate']   <= -15.0)) & \\\n",
    "                            ((dfClassDelivery['Deviation_DeliveredQty']   > 0.0)   & \\\n",
    "                            (dfClassDelivery['Deviation_DeliveredQty']   <= 0.25)) \n",
    "                        ),'classDelivery'] = 7\n",
    "\n",
    "        # 25% to 50% deviation in quantity delivered.\n",
    "        dfClassDelivery.loc[( (slicer) & \\\n",
    "                            ((dfClassDelivery['Deviation_DeliveryDate']   >= -30.0) & \\\n",
    "                            (dfClassDelivery['Deviation_DeliveryDate']   <= -15.0)) & \\\n",
    "                            ((dfClassDelivery['Deviation_DeliveredQty']   > 0.25)   & \\\n",
    "                            (dfClassDelivery['Deviation_DeliveredQty']   <= 0.50)) \n",
    "                        ),'classDelivery'] = 8\n",
    "\n",
    "        # 50% to 75% deviation in quantity delivered.\n",
    "        dfClassDelivery.loc[( (slicer) & \\\n",
    "                            ((dfClassDelivery['Deviation_DeliveryDate']   >= -30.0) & \\\n",
    "                            (dfClassDelivery['Deviation_DeliveryDate']   <= -15.0)) & \\\n",
    "                            ((dfClassDelivery['Deviation_DeliveredQty']   > 0.50)   & \\\n",
    "                            (dfClassDelivery['Deviation_DeliveredQty']   <= 0.75)) \n",
    "                        ),'classDelivery'] = 9\n",
    "    \n",
    "        # More than 75% deviation in quantity delivered.\n",
    "        dfClassDelivery.loc[( (slicer) & \\\n",
    "                            ((dfClassDelivery['Deviation_DeliveryDate']   >= -30.0) & \\\n",
    "                            (dfClassDelivery['Deviation_DeliveryDate']   <= -15.0)) & \\\n",
    "                            (dfClassDelivery['Deviation_DeliveredQty']   > 0.75) \n",
    "                        ),'classDelivery'] = 10\n",
    "\n",
    "        # Vendor delivers, 1-14 days earlier,  than the contract date.  \n",
    "        # No deviation in quantity delivered.\n",
    "        dfClassDelivery.loc[( (slicer) & \\\n",
    "                            ((dfClassDelivery['Deviation_DeliveryDate']   > -15.0) & \\\n",
    "                             (dfClassDelivery['Deviation_DeliveryDate']   < 0.0))  & \\\n",
    "                            (dfClassDelivery['Deviation_DeliveredQty']   == 0.0) \n",
    "                        ),'classDelivery'] = 11\n",
    "    \n",
    "        # 25% deviation in quantity delivered.\n",
    "        dfClassDelivery.loc[( (slicer) & \\\n",
    "                            ((dfClassDelivery['Deviation_DeliveryDate']   > -15.0) & \\\n",
    "                             (dfClassDelivery['Deviation_DeliveryDate']   < 0.0))  & \\\n",
    "                            ((dfClassDelivery['Deviation_DeliveredQty']   > 0.00)   & \\\n",
    "                            (dfClassDelivery['Deviation_DeliveredQty']    <= 0.25)) \n",
    "                        ),'classDelivery'] = 12\n",
    "\n",
    "        # 25% to 50% deviation in quantity delivered.\n",
    "        dfClassDelivery.loc[( (slicer) & \\\n",
    "                            ((dfClassDelivery['Deviation_DeliveryDate']   > -15.0) & \\\n",
    "                             (dfClassDelivery['Deviation_DeliveryDate']   < 0.0))  & \\\n",
    "                            ((dfClassDelivery['Deviation_DeliveredQty']   > 0.25)   & \\\n",
    "                            (dfClassDelivery['Deviation_DeliveredQty']    <= 0.50)) \n",
    "                        ),'classDelivery'] = 13\n",
    "\n",
    "        # 50% to 75% deviation in quantity delivered.\n",
    "        dfClassDelivery.loc[( (slicer) & \\\n",
    "                            ((dfClassDelivery['Deviation_DeliveryDate']   > -15.0) & \\\n",
    "                             (dfClassDelivery['Deviation_DeliveryDate']   < 0.0))  & \\\n",
    "                            ((dfClassDelivery['Deviation_DeliveredQty']   > 0.50)   & \\\n",
    "                            (dfClassDelivery['Deviation_DeliveredQty']    <= 0.75)) \n",
    "                        ),'classDelivery'] = 14\n",
    "    \n",
    "        # More than 75% deviation in quantity delivered.\n",
    "        dfClassDelivery.loc[( (slicer) & \\\n",
    "                            ((dfClassDelivery['Deviation_DeliveryDate']   > -15.0) & \\\n",
    "                             (dfClassDelivery['Deviation_DeliveryDate']   < 0.0))  & \\\n",
    "                            ((dfClassDelivery['Deviation_DeliveredQty']   > 0.75)) \n",
    "                        ),'classDelivery'] = 15\n",
    "\n",
    "        # Vendor delivers on expected date as per the contract.\n",
    "        # No deviation in quantity delivered.\n",
    "        dfClassDelivery.loc[( (slicer) & \\\n",
    "                             ((dfClassDelivery['Deviation_DeliveryDate']   == 0.0))  & \\\n",
    "                             (dfClassDelivery['Deviation_DeliveredQty']   == 0.0) \n",
    "                            ),'classDelivery'] = 16\n",
    "    \n",
    "        # 25% deviation in quantity delivered.\n",
    "        dfClassDelivery.loc[( (slicer) & \\\n",
    "                            ((dfClassDelivery['Deviation_DeliveryDate']   == 0.0))  & \\\n",
    "                            ((dfClassDelivery['Deviation_DeliveredQty']   > 0.00)   & \\\n",
    "                            (dfClassDelivery['Deviation_DeliveredQty']    <= 0.25)) \n",
    "                        ),'classDelivery'] = 17\n",
    "\n",
    "        # 25% to 50% deviation in quantity delivered.\n",
    "        dfClassDelivery.loc[( (slicer) & \\\n",
    "                            ((dfClassDelivery['Deviation_DeliveryDate']   == 0.0))  & \\\n",
    "                            ((dfClassDelivery['Deviation_DeliveredQty']   > 0.25)   & \\\n",
    "                            (dfClassDelivery['Deviation_DeliveredQty']    <= 0.50)) \n",
    "                        ),'classDelivery'] = 18\n",
    "\n",
    "        # 50% to 75% deviation in quantity delivered.\n",
    "        dfClassDelivery.loc[( (slicer) & \\\n",
    "                            ((dfClassDelivery['Deviation_DeliveryDate']   == 0.0))  & \\\n",
    "                            ((dfClassDelivery['Deviation_DeliveredQty']   > 0.50)   & \\\n",
    "                            (dfClassDelivery['Deviation_DeliveredQty']    <= 0.75)) \n",
    "                        ),'classDelivery'] = 19\n",
    "    \n",
    "        # More than 75% deviation in quantity delivered.\n",
    "        dfClassDelivery.loc[( (slicer) & \\\n",
    "                            ((dfClassDelivery['Deviation_DeliveryDate']   == 0.0))  & \\\n",
    "                            ((dfClassDelivery['Deviation_DeliveredQty']   > 0.75)) \n",
    "                        ),'classDelivery'] = 20\n",
    "\n",
    "        # Vendor delivers with a delay between 1 to 15 days, as per the contract date.\n",
    "        # No deviation in quantity delivered.\n",
    "        dfClassDelivery.loc[( (slicer) & \\\n",
    "                             ((dfClassDelivery['Deviation_DeliveryDate'] > 0.0) & \\\n",
    "                              (dfClassDelivery['Deviation_DeliveryDate'] <= 15.0))  & \\\n",
    "                             (dfClassDelivery['Deviation_DeliveredQty']   == 0.0) \n",
    "                            ),'classDelivery'] = 21\n",
    "    \n",
    "        # 25% deviation in quantity delivered.\n",
    "        dfClassDelivery.loc[( (slicer) & \\\n",
    "                            ((dfClassDelivery['Deviation_DeliveryDate'] > 0.0) & \\\n",
    "                              (dfClassDelivery['Deviation_DeliveryDate'] <= 15.0))  & \\\n",
    "                            ((dfClassDelivery['Deviation_DeliveredQty']   > 0.00)   & \\\n",
    "                            (dfClassDelivery['Deviation_DeliveredQty']    <= 0.25)) \n",
    "                        ),'classDelivery'] = 22\n",
    "\n",
    "        # 25% to 50% deviation in quantity delivered.\n",
    "        dfClassDelivery.loc[( (slicer) & \\\n",
    "                            ((dfClassDelivery['Deviation_DeliveryDate'] > 0.0) & \\\n",
    "                              (dfClassDelivery['Deviation_DeliveryDate'] <= 15.0))  & \\\n",
    "                            ((dfClassDelivery['Deviation_DeliveredQty']   > 0.25)   & \\\n",
    "                            (dfClassDelivery['Deviation_DeliveredQty']    <= 0.50)) \n",
    "                        ),'classDelivery'] = 23\n",
    "\n",
    "        # 50% to 75% deviation in quantity delivered.\n",
    "        dfClassDelivery.loc[( (slicer) & \\\n",
    "                            ((dfClassDelivery['Deviation_DeliveryDate'] > 0.0) & \\\n",
    "                              (dfClassDelivery['Deviation_DeliveryDate'] <= 15.0))  & \\\n",
    "                            ((dfClassDelivery['Deviation_DeliveredQty']   > 0.50)   & \\\n",
    "                            (dfClassDelivery['Deviation_DeliveredQty']    <= 0.75)) \n",
    "                        ),'classDelivery'] = 24\n",
    "    \n",
    "        # More than 75% deviation in quantity delivered.\n",
    "        dfClassDelivery.loc[( (slicer) & \\\n",
    "                            ((dfClassDelivery['Deviation_DeliveryDate'] > 0.0) & \\\n",
    "                              (dfClassDelivery['Deviation_DeliveryDate'] <= 15.0))  & \\\n",
    "                            ((dfClassDelivery['Deviation_DeliveredQty']   > 0.75)) \n",
    "                        ),'classDelivery'] = 25\n",
    "\n",
    "        # Vendor delivers with a delay between 15 to 30 days, as per the contract date.\n",
    "        # No deviation in quantity delivered.\n",
    "        dfClassDelivery.loc[( (slicer) & \\\n",
    "                             ((dfClassDelivery['Deviation_DeliveryDate'] > 15.0) & \\\n",
    "                              (dfClassDelivery['Deviation_DeliveryDate'] <= 30.0))  & \\\n",
    "                             (dfClassDelivery['Deviation_DeliveredQty']   == 0.0) \n",
    "                            ),'classDelivery'] = 26\n",
    "    \n",
    "        # 25% deviation in quantity delivered.\n",
    "        dfClassDelivery.loc[( (slicer) & \\\n",
    "                            ((dfClassDelivery['Deviation_DeliveryDate'] > 15.0) & \\\n",
    "                              (dfClassDelivery['Deviation_DeliveryDate'] <= 30.0))  & \\\n",
    "                            ((dfClassDelivery['Deviation_DeliveredQty']   > 0.00)   & \\\n",
    "                            (dfClassDelivery['Deviation_DeliveredQty']    <= 0.25)) \n",
    "                        ),'classDelivery'] = 27\n",
    "\n",
    "        # 25% to 50% deviation in quantity delivered.\n",
    "        dfClassDelivery.loc[( (slicer) & \\\n",
    "                            ((dfClassDelivery['Deviation_DeliveryDate'] > 15.0) & \\\n",
    "                              (dfClassDelivery['Deviation_DeliveryDate'] <= 30.0))  & \\\n",
    "                            ((dfClassDelivery['Deviation_DeliveredQty']   > 0.25)   & \\\n",
    "                            (dfClassDelivery['Deviation_DeliveredQty']    <= 0.50)) \n",
    "                        ),'classDelivery'] = 28\n",
    "\n",
    "        # 50% to 75% deviation in quantity delivered.\n",
    "        dfClassDelivery.loc[( (slicer) & \\\n",
    "                            ((dfClassDelivery['Deviation_DeliveryDate'] > 15.0) & \\\n",
    "                              (dfClassDelivery['Deviation_DeliveryDate'] <= 30.0))  & \\\n",
    "                            ((dfClassDelivery['Deviation_DeliveredQty']   > 0.50)   & \\\n",
    "                            (dfClassDelivery['Deviation_DeliveredQty']    <= 0.75)) \n",
    "                        ),'classDelivery'] = 29\n",
    "    \n",
    "        # More than 75% deviation in quantity delivered.\n",
    "        dfClassDelivery.loc[( (slicer) & \\\n",
    "                            ((dfClassDelivery['Deviation_DeliveryDate'] > 15.0) & \\\n",
    "                              (dfClassDelivery['Deviation_DeliveryDate'] <= 30.0))  & \\\n",
    "                            ((dfClassDelivery['Deviation_DeliveredQty']   > 0.75)) \n",
    "                        ),'classDelivery'] = 30\n",
    "\n",
    "        # Vendor delivers with a delay of more than 30 days, as per the contract date.\n",
    "        # No deviation in quantity delivered.\n",
    "        dfClassDelivery.loc[( (slicer) & \\\n",
    "                             ((dfClassDelivery['Deviation_DeliveryDate'] > 30.0))  & \\\n",
    "                             (dfClassDelivery['Deviation_DeliveredQty']   == 0.0) \n",
    "                            ),'classDelivery'] = 31\n",
    "    \n",
    "        # 25% deviation in quantity delivered.\n",
    "        dfClassDelivery.loc[( (slicer) & \\\n",
    "                            ((dfClassDelivery['Deviation_DeliveryDate'] > 30.0))  & \\\n",
    "                            ((dfClassDelivery['Deviation_DeliveredQty']   > 0.00)   & \\\n",
    "                            (dfClassDelivery['Deviation_DeliveredQty']    <= 0.25)) \n",
    "                        ),'classDelivery'] = 32\n",
    "\n",
    "        # 25% to 50% deviation in quantity delivered.\n",
    "        dfClassDelivery.loc[( (slicer) & \\\n",
    "                            ((dfClassDelivery['Deviation_DeliveryDate'] > 30.0))  & \\\n",
    "                            ((dfClassDelivery['Deviation_DeliveredQty']   > 0.25)   & \\\n",
    "                            (dfClassDelivery['Deviation_DeliveredQty']    <= 0.50)) \n",
    "                        ),'classDelivery'] = 33\n",
    "\n",
    "        # 50% to 75% deviation in quantity delivered.\n",
    "        dfClassDelivery.loc[( (slicer) & \\\n",
    "                            ((dfClassDelivery['Deviation_DeliveryDate'] > 30.0))  & \\\n",
    "                            ((dfClassDelivery['Deviation_DeliveredQty']   > 0.50)   & \\\n",
    "                            (dfClassDelivery['Deviation_DeliveredQty']    <= 0.75)) \n",
    "                        ),'classDelivery'] = 34\n",
    "    \n",
    "        # More than 75% deviation in quantity delivered.\n",
    "        dfClassDelivery.loc[( (slicer) & \\\n",
    "                            ((dfClassDelivery['Deviation_DeliveryDate'] > 30.0))  & \\\n",
    "                            ((dfClassDelivery['Deviation_DeliveredQty']   > 0.75)) \n",
    "                        ),'classDelivery'] = 35\n",
    "\n",
    "    dfClassDelivery['Material'] = dfClassDelivery.index\n",
    "    dfClassDelivery.index = dfIndex\n",
    "    dfClassDelivery = dfClassDelivery[['Doc. Date','Material','VendorCode','Deviation_DeliveryDate', \\\n",
    "                                       'Deviation_DeliveredQty','Rank','classDelivery']]\n",
    "    return dfClassDelivery"
   ]
  },
  {
   "cell_type": "code",
   "execution_count": 39,
   "metadata": {},
   "outputs": [],
   "source": [
    "# Call the function to generate the class label.\n",
    "# Make a copy of the existing dataframe.\n",
    "dfMVCombo = \\\n",
    "    (dfDataVendorFinal[['Material','VendorCode','Deviation_DeliveryDate','Deviation_DeliveredQty']].copy())\n",
    "# add column 'classLabel'\n",
    "dfMVCombo['classDelivery'] = 0\n",
    "\n",
    "# Call function to derive class Label.\n",
    "dfMVCombo = getClassDelivery(dfMVCombo)\n",
    "# Revert the index.\n",
    "#dfMVCombo.index = dfDataVendorFinal.index"
   ]
  },
  {
   "cell_type": "code",
   "execution_count": 21,
   "metadata": {},
   "outputs": [
    {
     "data": {
      "text/plain": [
       "Index(['Doc. Date', 'VendorCode', 'Material', 'Deviation_DeliveryDate',\n",
       "       'Deviation_DeliveredQty', 'Deviation_DeliveredValue'],\n",
       "      dtype='object')"
      ]
     },
     "execution_count": 21,
     "metadata": {},
     "output_type": "execute_result"
    }
   ],
   "source": [
    "dfDataVendorFinal.columns"
   ]
  },
  {
   "cell_type": "code",
   "execution_count": 22,
   "metadata": {},
   "outputs": [
    {
     "name": "stderr",
     "output_type": "stream",
     "text": [
      "C:\\Users\\HP\\Anaconda3\\lib\\site-packages\\ipykernel_launcher.py:4: SettingWithCopyWarning: \n",
      "A value is trying to be set on a copy of a slice from a DataFrame.\n",
      "Try using .loc[row_indexer,col_indexer] = value instead\n",
      "\n",
      "See the caveats in the documentation: http://pandas.pydata.org/pandas-docs/stable/indexing.html#indexing-view-versus-copy\n",
      "  after removing the cwd from sys.path.\n",
      "C:\\Users\\HP\\Anaconda3\\lib\\site-packages\\ipykernel_launcher.py:7: SettingWithCopyWarning: \n",
      "A value is trying to be set on a copy of a slice from a DataFrame.\n",
      "Try using .loc[row_indexer,col_indexer] = value instead\n",
      "\n",
      "See the caveats in the documentation: http://pandas.pydata.org/pandas-docs/stable/indexing.html#indexing-view-versus-copy\n",
      "  import sys\n"
     ]
    }
   ],
   "source": [
    "# prepare the rank data.\n",
    "dfDataVendorFinal['Rank'] = dfDataVendorFinal.sort_values(['Deviation_DeliveryDate','Deviation_DeliveredQty'], \\\n",
    "                                                          ascending=[True,True]).groupby(['Material']) \\\n",
    "                                                          .cumcount() + 1\n",
    "\n",
    "# Call the function to generate the class label.\n",
    "dfDataVendorFinal['classDelivery'] = 0\n",
    "dfDataVendorFinal = getClassDelivery(dfDataVendorFinal.copy())"
   ]
  },
  {
   "cell_type": "code",
   "execution_count": 23,
   "metadata": {},
   "outputs": [],
   "source": [
    "# Export the data with the assigned class label for inspection.\n",
    "dfDataVendorFinal[['Material','VendorCode','Deviation_DeliveryDate', \\\n",
    "                   'Deviation_DeliveredQty','Rank','classDelivery']].to_csv('inspect_classAssignment.csv')"
   ]
  },
  {
   "cell_type": "code",
   "execution_count": null,
   "metadata": {},
   "outputs": [],
   "source": []
  },
  {
   "cell_type": "markdown",
   "metadata": {},
   "source": [
    "### [1.50]: Treat categorical variables."
   ]
  },
  {
   "cell_type": "code",
   "execution_count": 13,
   "metadata": {},
   "outputs": [],
   "source": [
    "# Build the dataframe with the encoded column for the categorical data.\n",
    "# We have 397 unique entries.\n",
    "dfMaterialOHE = pd.get_dummies(dfDataVendorLatest['Material'])\n",
    "# We have 15 unique entries.\n",
    "dfVendorOHE = pd.get_dummies(dfDataVendorLatest['VendorCode'])"
   ]
  },
  {
   "cell_type": "code",
   "execution_count": null,
   "metadata": {},
   "outputs": [],
   "source": [
    "# Add the encoded columns to the existing dataframe.\n",
    "dfDataVendorFinal = pd.concat([dfDataVendorMain,dfMaterialOHE,dfVendorOHE],axis=1)"
   ]
  },
  {
   "cell_type": "code",
   "execution_count": null,
   "metadata": {},
   "outputs": [],
   "source": []
  }
 ],
 "metadata": {
  "kernelspec": {
   "display_name": "Python 3",
   "language": "python",
   "name": "python3"
  },
  "language_info": {
   "codemirror_mode": {
    "name": "ipython",
    "version": 3
   },
   "file_extension": ".py",
   "mimetype": "text/x-python",
   "name": "python",
   "nbconvert_exporter": "python",
   "pygments_lexer": "ipython3",
   "version": "3.7.3"
  }
 },
 "nbformat": 4,
 "nbformat_minor": 2
}
