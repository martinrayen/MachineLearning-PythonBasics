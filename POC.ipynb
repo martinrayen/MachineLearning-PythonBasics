{
 "cells": [
  {
   "cell_type": "code",
   "execution_count": null,
   "metadata": {},
   "outputs": [],
   "source": []
  },
  {
   "cell_type": "markdown",
   "metadata": {},
   "source": [
    "### [1.00]: Import the required modules."
   ]
  },
  {
   "cell_type": "code",
   "execution_count": 1,
   "metadata": {},
   "outputs": [],
   "source": [
    "# Import the required modules.\n",
    "import os\n",
    "import re\n",
    "import wx  # Install it with pip.\n",
    "import sys\n",
    "import json\n",
    "import shutil\n",
    "import numpy as np\n",
    "import pandas as pd\n",
    "from os import path\n",
    "from datetime import datetime\n",
    "\n",
    "# Ignore warnings.\n",
    "import warnings\n",
    "warnings.filterwarnings('ignore')"
   ]
  },
  {
   "cell_type": "markdown",
   "metadata": {},
   "source": [
    "### [1.10]: Instantiate the ML pipeline class."
   ]
  },
  {
   "cell_type": "markdown",
   "metadata": {},
   "source": [
    "#### [1.11]: Prompt for file upload."
   ]
  },
  {
   "cell_type": "code",
   "execution_count": 2,
   "metadata": {},
   "outputs": [],
   "source": [
    "# Function to prompt the user to upload the file.\n",
    "def get_path(wildcard):\n",
    "    app = wx.App(None)\n",
    "    style = wx.FD_OPEN | wx.FD_FILE_MUST_EXIST\n",
    "    dialog = wx.FileDialog(None, 'Choose a training file.', wildcard=wildcard, style=style)\n",
    "    if dialog.ShowModal() == wx.ID_OK:\n",
    "        path = dialog.GetPath()\n",
    "    else:\n",
    "        path = None\n",
    "    dialog.Destroy()\n",
    "    return path"
   ]
  },
  {
   "cell_type": "markdown",
   "metadata": {},
   "source": [
    "#### [1.12] : Instantiate the ML Pipleline class"
   ]
  },
  {
   "cell_type": "code",
   "execution_count": 3,
   "metadata": {},
   "outputs": [],
   "source": [
    "try:\n",
    "    # Call the funtion to get the input files.\n",
    "    #s_infile = get_path('*.csv')\n",
    "    s_infile = get_path('*.xlsx')\n",
    "    s_infile = s_infile.replace(\"\\\\\",\"\\\\\\\\\")\n",
    "\n",
    "    # Get the current working directory.\n",
    "    s_path = os.getcwd()\n",
    "    s_path = s_path.replace(\"\\\\\",\"\\\\\\\\\")\n",
    "    s_basefile = os.path.basename(s_infile)\n",
    "    s_basefile_csv = (os.path.splitext(s_basefile)[0]) + '.csv'\n",
    "\n",
    "    # Check, if path exists in system path,else add.\n",
    "    if s_path in os.environ:\n",
    "        sys.path.append(s_path)\n",
    "\n",
    "    # Instantiate and Consume the class.\n",
    "    from classMLModelingPipeline import *\n",
    "    # Open and read the App Configuration using json.\n",
    "    with open(s_path + '\\\\AppConfig.txt') as json_file:\n",
    "        # Load the App config details.\n",
    "        data = json.load(json_file)\n",
    "        # For each entry in json, extract App config parameters.\n",
    "        for p in data['AppConfig']:\n",
    "            applConfig = modMLModelingPipeline  (  p['Id'],\n",
    "                                                    p['Name'],\n",
    "                                                    p['Source'],\n",
    "                                                    p['Output'],\n",
    "                                                    p['TrainedModel'],\n",
    "                                                    p['ExecutionLog'],\n",
    "                                                    p['ExecutionLogFileName'],\n",
    "                                                    p['Archive']\n",
    "                                                  )\n",
    "    #===== Create Application Directories ============================================================\n",
    "    s_classApplication  = 'classMLModelingPipeline'\n",
    "    s_classMethod       = 'CreateAppDirectories'\n",
    "    s_statusType        = 'Success'\n",
    "    s_statusDescription = 'Successfull write operation.'\n",
    "    applConfig.CreateAppDirectories()\n",
    "    applConfig.WriteToActivityLog(s_classApplication,\n",
    "                                  s_classMethod,\n",
    "                                  s_statusType,\n",
    "                                  s_statusDescription\n",
    "                                 )\n",
    "except AttributeError:\n",
    "    s_statusDescription = 'No file has been choosen!!!!' \n",
    "    applConfig.WriteToActivityLog(s_classApplication,\n",
    "                                  s_classMethod,\n",
    "                                  s_statusType,\n",
    "                                  s_statusDescription\n",
    "                                 )    \n",
    "    raise Exception(s_statusDescription)\n",
    "except:\n",
    "    s_statusDescription = 'Unexpected error : ' \n",
    "    s_statusDescription = s_statusDescription + str(sys.exc_info())\n",
    "    applConfig.WriteToActivityLog(s_classApplication,\n",
    "                                  s_classMethod,\n",
    "                                  s_statusType,\n",
    "                                  s_statusDescription\n",
    "                                 )    \n",
    "    raise Exception(s_statusDescription)"
   ]
  },
  {
   "cell_type": "markdown",
   "metadata": {},
   "source": [
    "### [1.20]: Data loading"
   ]
  },
  {
   "cell_type": "code",
   "execution_count": 4,
   "metadata": {},
   "outputs": [],
   "source": [
    "try:\n",
    "    s_classMethod       = 'Data Loading'    \n",
    "    s_statusType        = 'Success'\n",
    "    # Read the input file, sheet considered is \"Final Sheet\"; skip firstrow.\n",
    "    data_xls = pd.read_excel(s_infile, 'Final Sheet', index_col=None,skiprows=[0])\n",
    "    # Drop empty rows.\n",
    "    data_xls.dropna(axis=0,how='any',inplace=True)\n",
    "    # Get the path to source directory from class.\n",
    "    s_in_source_file = applConfig.Source\n",
    "    s_in_source_file = s_in_source_file + s_basefile_csv\n",
    "\n",
    "    # Convert it to .csv utf-8 format.\n",
    "    data_xls.to_csv(s_in_source_file, encoding='utf-8')\n",
    "    \n",
    "    # Load the data from the csv file into pandas dataframe.\n",
    "    dfDataVendor = pd.read_csv(s_in_source_file\n",
    "                               ,parse_dates = ['Doc. Date','Del Date','GRN Date']\n",
    "                               ,infer_datetime_format = True\n",
    "                              )\n",
    "except:\n",
    "    s_statusType        = 'Error'    \n",
    "    s_statusDescription = 'Unexpected error : ' \n",
    "    s_statusDescription = s_statusDescription + str(sys.exc_info())\n",
    "    applConfig.WriteToActivityLog(s_classApplication,\n",
    "                                  s_classMethod,\n",
    "                                  s_statusType,\n",
    "                                  s_statusDescription\n",
    "                                 )    \n",
    "    raise Exception(s_statusDescription)    "
   ]
  },
  {
   "cell_type": "code",
   "execution_count": 5,
   "metadata": {},
   "outputs": [],
   "source": [
    "try:\n",
    "    s_classMethod       = 'Drop Unnamed Column'\n",
    "    s_statusType        = 'Success'\n",
    "    # Drop the unwanted column.\n",
    "    dfDataVendor.drop(columns=['Unnamed: 0'],inplace=True)\n",
    "except KeyError:\n",
    "    pass\n",
    "except:\n",
    "    s_statusType        = 'Error'\n",
    "    s_statusDescription = 'Unexpected error : ' \n",
    "    s_statusDescription = s_statusDescription + str(sys.exc_info())\n",
    "    applConfig.WriteToActivityLog(s_classApplication,\n",
    "                                  s_classMethod,\n",
    "                                  s_statusType,\n",
    "                                  s_statusDescription\n",
    "                                 )    \n",
    "    raise Exception(s_statusDescription)"
   ]
  },
  {
   "cell_type": "markdown",
   "metadata": {},
   "source": [
    "### [1.30]: Data pre-processing."
   ]
  },
  {
   "cell_type": "markdown",
   "metadata": {},
   "source": [
    "#### [1.31]: Extract VendorCode."
   ]
  },
  {
   "cell_type": "code",
   "execution_count": 6,
   "metadata": {},
   "outputs": [],
   "source": [
    "try:\n",
    "    s_classMethod       = 'Extract Vendor Code'\n",
    "    s_statusType        = 'Success'    \n",
    "    # Extract VendorCode from \"Supplier/Supplying Plant\" column.\n",
    "    dfDataVendor['VendorCode']  = dfDataVendor['Supplier/Supplying Plant'].str.extract('(\\d+)')\n",
    "    # Alternate way:\n",
    "    #dfDataVendor['VendorCode']  = dfDataVendor['Supplier/Supplying Plant'].str.extract('([0-9][0-9][0-9][0-9][0-9][0-9]+)')\n",
    "except:\n",
    "    s_statusType        = 'Error'\n",
    "    s_statusDescription = s_statusDescription + str(sys.exc_info())\n",
    "    applConfig.WriteToActivityLog(s_classApplication,\n",
    "                                  s_classMethod,\n",
    "                                  s_statusType,\n",
    "                                  s_statusDescription\n",
    "                                 )    \n",
    "    raise Exception(s_statusDescription)"
   ]
  },
  {
   "cell_type": "markdown",
   "metadata": {},
   "source": [
    "#### [1.32]: Inspect datatypes and perform validation."
   ]
  },
  {
   "cell_type": "code",
   "execution_count": 14,
   "metadata": {},
   "outputs": [],
   "source": [
    "def GetValidExceptionForDates(lstDateColumns, # list of date columns to validate.\n",
    "                              dfData,          # data frame of the input data.\n",
    "                              infile_skiprows  # number of rows to skip in the begining from the input file.\n",
    "                             ):\n",
    "    # Initialize.\n",
    "    validationException = ''\n",
    "    validException_item = ''\n",
    "    # Corrected Row_index in source file.\n",
    "    cRowIndex = infile_skiprows + 2\n",
    "    # Build the Validation Exception message.\n",
    "    validExceptionPresent = 0\n",
    "    #validExcept_header = \"'ValidationException':\"\n",
    "    validExcept_body   = \"'Incorrect_DateFormat' : [\"\n",
    "    validExcept_bodyfooter = \"]\"\n",
    "    # Loop through the list of Date columns.\n",
    "    for itm in lstDateColumns:\n",
    "        # Validate columns.\n",
    "        dfDateCheck = pd.to_datetime(dfData[itm],errors='coerce')\n",
    "        lstDateExceptions = list(dfDateCheck[dfDateCheck.isnull()].index+cRowIndex)\n",
    "        if len(lstDateExceptions) > 0:\n",
    "            validExceptionPresent = 1\n",
    "            validException_item = validException_item + \"'\" + itm + \"':\" + str(lstDateExceptions) + \",\"\n",
    "\n",
    "    if validExceptionPresent:\n",
    "        # Remove extra comma.\n",
    "        validException_item = validException_item[:-1]\n",
    "        # Build the Validation Exception Message.\n",
    "        validationException = validExcept_body + validException_item + validExcept_bodyfooter\n",
    "    return validationException"
   ]
  },
  {
   "cell_type": "code",
   "execution_count": 15,
   "metadata": {},
   "outputs": [],
   "source": [
    "def GetValidExceptionForNumeric(lstNumericColumns,  # list of date columns to validate.\n",
    "                                dfData,          # data frame of the input data.\n",
    "                                infile_skiprows  # number of rows to skip in the begining from the input file.\n",
    "                               ):\n",
    "    # Initialize.\n",
    "    validationException = ''\n",
    "    validException_item = ''\n",
    "    # Corrected Row_index in source file.\n",
    "    cRowIndex = infile_skiprows + 2\n",
    "    # Build the Validation Exception message.\n",
    "    validExceptionPresent = 0\n",
    "    #validExcept_header = \"'ValidationException':\"\n",
    "    validExcept_body   = \"'Incorrect_NumericFormat' : [\"\n",
    "    validExcept_bodyfooter = \"]\"\n",
    "    # Loop through the list of Date columns.\n",
    "    for itm in lstNumericColumns:\n",
    "        # Validate columns.\n",
    "        dfNumericCheck = pd.to_numeric(dfData[itm],errors='coerce')\n",
    "        lstNumericExceptions = list(dfNumericCheck[dfNumericCheck.isnull()].index+cRowIndex)\n",
    "        if len(lstNumericExceptions) > 0:\n",
    "            validExceptionPresent = 1\n",
    "            validException_item = validException_item + \"'\" + itm + \"':\" + str(lstNumericExceptions) + \",\"\n",
    "\n",
    "    if validExceptionPresent:\n",
    "        # Remove extra comma.\n",
    "        validException_item = validException_item[:-1]\n",
    "        # Build the Validation Exception Message.\n",
    "        validationException = validExcept_body + validException_item + validExcept_bodyfooter\n",
    "    return validationException"
   ]
  },
  {
   "cell_type": "code",
   "execution_count": 16,
   "metadata": {},
   "outputs": [
    {
     "ename": "Exception",
     "evalue": "'ValidationException':{'Incorrect_NumericFormat' : ['Sum of      Net Price':[95, 96],'Sum of GRN Val':[95, 96]],'Incorrect_DateFormat' : ['GRN Date':[97]]}(<class 'Exception'>, Exception('Data validation error occured. Please check the application logs.'), <traceback object at 0x000001455C434088>)",
     "output_type": "error",
     "traceback": [
      "\u001b[1;31m---------------------------------------------------------------------------\u001b[0m",
      "\u001b[1;31mException\u001b[0m                                 Traceback (most recent call last)",
      "\u001b[1;32m<ipython-input-16-c056efa73ece>\u001b[0m in \u001b[0;36m<module>\u001b[1;34m\u001b[0m\n\u001b[0;32m     44\u001b[0m \u001b[1;33m\u001b[0m\u001b[0m\n\u001b[1;32m---> 45\u001b[1;33m         \u001b[1;32mraise\u001b[0m \u001b[0mException\u001b[0m\u001b[1;33m(\u001b[0m\u001b[1;34m'Data validation error occured. Please check the application logs.'\u001b[0m\u001b[1;33m)\u001b[0m\u001b[1;33m\u001b[0m\u001b[1;33m\u001b[0m\u001b[0m\n\u001b[0m\u001b[0;32m     46\u001b[0m \u001b[1;33m\u001b[0m\u001b[0m\n",
      "\u001b[1;31mException\u001b[0m: Data validation error occured. Please check the application logs.",
      "\nDuring handling of the above exception, another exception occurred:\n",
      "\u001b[1;31mException\u001b[0m                                 Traceback (most recent call last)",
      "\u001b[1;32m<ipython-input-16-c056efa73ece>\u001b[0m in \u001b[0;36m<module>\u001b[1;34m\u001b[0m\n\u001b[0;32m     53\u001b[0m                                   \u001b[0ms_statusDescription\u001b[0m\u001b[1;33m\u001b[0m\u001b[1;33m\u001b[0m\u001b[0m\n\u001b[0;32m     54\u001b[0m                                  )    \n\u001b[1;32m---> 55\u001b[1;33m     \u001b[1;32mraise\u001b[0m \u001b[0mException\u001b[0m\u001b[1;33m(\u001b[0m\u001b[0ms_statusDescription\u001b[0m\u001b[1;33m)\u001b[0m\u001b[1;33m\u001b[0m\u001b[1;33m\u001b[0m\u001b[0m\n\u001b[0m",
      "\u001b[1;31mException\u001b[0m: 'ValidationException':{'Incorrect_NumericFormat' : ['Sum of      Net Price':[95, 96],'Sum of GRN Val':[95, 96]],'Incorrect_DateFormat' : ['GRN Date':[97]]}(<class 'Exception'>, Exception('Data validation error occured. Please check the application logs.'), <traceback object at 0x000001455C434088>)"
     ]
    }
   ],
   "source": [
    "try:\n",
    "    # Consolidate error description to write to log.\n",
    "    #======= Validate Numeric columns ========================================================================================\n",
    "    raise_Except = 0\n",
    "    validationException = ''\n",
    "    strComma = ''\n",
    "    validExcept_header = \"'ValidationException':\"\n",
    "    s_statusType        = 'ValidationException'    \n",
    "    s_classMethod       = 'Parse Datatypes'\n",
    "    # Convert date column's datatype from string to datetime.\n",
    "    lstNumericCols = ['Sum of PO Quantity','Sum of      Net Price','Sum of PO Value', 'Sum of GRN Qty','Sum of GRN Val']\n",
    "    exceptMessage = GetValidExceptionForNumeric(lstNumericColumns = lstNumericCols, # list of numeric columns to validate.\n",
    "                                              dfData = dfDataVendor, # data frame of the input data.\n",
    "                                              infile_skiprows = 1    # number of rows to skip in the begining from the input file.\n",
    "                                             )\n",
    "    if len(exceptMessage) > 0:\n",
    "        raise_Except = 1\n",
    "        s_statusDescription = exceptMessage\n",
    "\n",
    "    #======= Validate Numeric columns =====================================================================================\n",
    "    # set the class name and status.\n",
    "    # Convert date column's datatype from string to datetime.\n",
    "    lstDateCols = ['Doc. Date','Del Date','GRN Date']\n",
    "    # Get the validation exceptions.\n",
    "    exceptMessage = GetValidExceptionForDates(lstDateColumns = lstDateCols, # list of date columns to validate.\n",
    "                                              dfData = dfDataVendor, # data frame of the input data.\n",
    "                                              infile_skiprows = 1    # number of rows to skip in the begining from the input file.\n",
    "                                             )\n",
    "    # If validation exception found.\n",
    "    if len(exceptMessage) > 0:\n",
    "        if raise_Except == 1:\n",
    "            strComma = ','\n",
    "        raise_Except = 1\n",
    "        s_statusDescription = s_statusDescription + strComma + exceptMessage\n",
    "    \n",
    "    if raise_Except:\n",
    "        validationException = validExcept_header + '{' + s_statusDescription + '}'\n",
    "        # Write to log.\n",
    "        applConfig.WriteToActivityLog(s_classApplication,\n",
    "                                      s_classMethod,\n",
    "                                      s_statusType,\n",
    "                                      s_statusDescription\n",
    "                                     ) \n",
    "        \n",
    "        raise Exception('Data validation error/s occured. Please check the application log.')\n",
    "        \n",
    "except:\n",
    "    s_statusType        = 'Error'\n",
    "    s_statusDescription = validationException + str(sys.exc_info())\n",
    "    applConfig.WriteToActivityLog(s_classApplication,\n",
    "                                  s_classMethod,\n",
    "                                  s_statusType,\n",
    "                                  s_statusDescription\n",
    "                                 )    \n",
    "    raise Exception(s_statusDescription)    "
   ]
  },
  {
   "cell_type": "code",
   "execution_count": null,
   "metadata": {},
   "outputs": [],
   "source": [
    "'''\n",
    "try:\n",
    "    s_classMethod       = 'Parse Numeric Datatypes'\n",
    "    s_statusType        = 'ValidationException'    \n",
    "    # Convert date column's datatype from string to datetime.\n",
    "    lstNumericCols = ['Sum of PO Quantity','Sum of      Net Price','Sum of PO Value', 'Sum of GRN Qty','Sum of GRN Val']\n",
    "    exceptMessage = GetValidExceptionForNumeric(lstNumericColumns = lstNumericCols, # list of numeric columns to validate.\n",
    "                                              dfData = dfDataVendor, # data frame of the input data.\n",
    "                                              infile_skiprows = 1    # number of rows to skip in the begining from the input file.\n",
    "                                             )\n",
    "    s_statusDescription = exceptMessage\n",
    "    if len(s_statusDescription) > 0:\n",
    "        applConfig.WriteToActivityLog(s_classApplication,\n",
    "                                      s_classMethod,\n",
    "                                      s_statusType,\n",
    "                                      s_statusDescription\n",
    "                                     ) \n",
    "        raise Exception(s_statusDescription)\n",
    "except:\n",
    "    s_statusType        = 'Error'\n",
    "    s_statusDescription = s_statusDescription + str(sys.exc_info())\n",
    "    applConfig.WriteToActivityLog(s_classApplication,\n",
    "                                  s_classMethod,\n",
    "                                  s_statusType,\n",
    "                                  s_statusDescription\n",
    "                                 )    \n",
    "    raise Exception(s_statusDescription)\n",
    "'''    "
   ]
  },
  {
   "cell_type": "code",
   "execution_count": 11,
   "metadata": {},
   "outputs": [
    {
     "ename": "Exception",
     "evalue": "'ValidationException':{'Incorrect_DateFormat' : ['GRN Date':[97]]}(<class 'Exception'>, Exception(\"'ValidationException':{'Incorrect_DateFormat' : ['GRN Date':[97]]}\"), <traceback object at 0x00000242FC597388>)",
     "output_type": "error",
     "traceback": [
      "\u001b[1;31m---------------------------------------------------------------------------\u001b[0m",
      "\u001b[1;31mException\u001b[0m                                 Traceback (most recent call last)",
      "\u001b[1;32m<ipython-input-11-e10e35c559a7>\u001b[0m in \u001b[0;36m<module>\u001b[1;34m\u001b[0m\n\u001b[0;32m     16\u001b[0m                                      ) \n\u001b[1;32m---> 17\u001b[1;33m         \u001b[1;32mraise\u001b[0m \u001b[0mException\u001b[0m\u001b[1;33m(\u001b[0m\u001b[0ms_statusDescription\u001b[0m\u001b[1;33m)\u001b[0m\u001b[1;33m\u001b[0m\u001b[1;33m\u001b[0m\u001b[0m\n\u001b[0m\u001b[0;32m     18\u001b[0m \u001b[1;32mexcept\u001b[0m\u001b[1;33m:\u001b[0m\u001b[1;33m\u001b[0m\u001b[1;33m\u001b[0m\u001b[0m\n",
      "\u001b[1;31mException\u001b[0m: 'ValidationException':{'Incorrect_DateFormat' : ['GRN Date':[97]]}",
      "\nDuring handling of the above exception, another exception occurred:\n",
      "\u001b[1;31mException\u001b[0m                                 Traceback (most recent call last)",
      "\u001b[1;32m<ipython-input-11-e10e35c559a7>\u001b[0m in \u001b[0;36m<module>\u001b[1;34m\u001b[0m\n\u001b[0;32m     24\u001b[0m                                   \u001b[0ms_statusDescription\u001b[0m\u001b[1;33m\u001b[0m\u001b[1;33m\u001b[0m\u001b[0m\n\u001b[0;32m     25\u001b[0m                                  )    \n\u001b[1;32m---> 26\u001b[1;33m     \u001b[1;32mraise\u001b[0m \u001b[0mException\u001b[0m\u001b[1;33m(\u001b[0m\u001b[0ms_statusDescription\u001b[0m\u001b[1;33m)\u001b[0m\u001b[1;33m\u001b[0m\u001b[1;33m\u001b[0m\u001b[0m\n\u001b[0m",
      "\u001b[1;31mException\u001b[0m: 'ValidationException':{'Incorrect_DateFormat' : ['GRN Date':[97]]}(<class 'Exception'>, Exception(\"'ValidationException':{'Incorrect_DateFormat' : ['GRN Date':[97]]}\"), <traceback object at 0x00000242FC597388>)"
     ]
    }
   ],
   "source": [
    "'''\n",
    "try:\n",
    "    # set the class name and status.\n",
    "    s_classMethod       = 'Parse Date Datatypes'\n",
    "    s_statusType        = 'ValidationException'    \n",
    "    # Convert date column's datatype from string to datetime.\n",
    "    lstDateCols = ['Doc. Date','Del Date','GRN Date']\n",
    "    # Get the validation exceptions.\n",
    "    exceptMessage = GetValidExceptionForDates(lstDateColumns = lstDateCols, # list of date columns to validate.\n",
    "                                              dfData = dfDataVendor, # data frame of the input data.\n",
    "                                              infile_skiprows = 1    # number of rows to skip in the begining from the input file.\n",
    "                                             )\n",
    "    s_statusDescription = exceptMessage\n",
    "    # If validation exception found.\n",
    "    if len(s_statusDescription) > 0:\n",
    "        # Write to log.\n",
    "        applConfig.WriteToActivityLog(s_classApplication,\n",
    "                                      s_classMethod,\n",
    "                                      s_statusType,\n",
    "                                      s_statusDescription\n",
    "                                     ) \n",
    "        # Raise the exception.\n",
    "        raise Exception(s_statusDescription)    \n",
    "except:\n",
    "    # set the status type, description and write to log.\n",
    "    s_statusType        = 'Error'\n",
    "    s_statusDescription = s_statusDescription + str(sys.exc_info())\n",
    "    applConfig.WriteToActivityLog(s_classApplication,\n",
    "                                  s_classMethod,\n",
    "                                  s_statusType,\n",
    "                                  s_statusDescription\n",
    "                                 )    \n",
    "    raise Exception(s_statusDescription)\n",
    "'''    "
   ]
  },
  {
   "cell_type": "code",
   "execution_count": null,
   "metadata": {},
   "outputs": [],
   "source": []
  },
  {
   "cell_type": "markdown",
   "metadata": {},
   "source": [
    "#### [1.33]: Export data cleansed, so far to .csv format for inspection."
   ]
  },
  {
   "cell_type": "code",
   "execution_count": 38,
   "metadata": {},
   "outputs": [],
   "source": [
    "# Export the date columns to a csv file and manually inspect for anamolies.\n",
    "dfDataVendor[['GRN Date','Doc. Date','Del Date','VendorCode']].to_csv('Data_Inspect.csv')"
   ]
  },
  {
   "cell_type": "code",
   "execution_count": null,
   "metadata": {},
   "outputs": [],
   "source": []
  },
  {
   "cell_type": "markdown",
   "metadata": {},
   "source": [
    "#### [1.34]: Get the latest data for multiple vendor occurence for the given snapshot."
   ]
  },
  {
   "cell_type": "code",
   "execution_count": 39,
   "metadata": {},
   "outputs": [],
   "source": [
    "try:\n",
    "    s_classMethod       = 'Resolve Multiple Material-Vendor combo'\n",
    "    s_statusType        = 'Success'    \n",
    "    # Get the latest data for material/combo appearing more than once.\n",
    "    dfDataVendorMaxDate = dfDataVendor.groupby(['Material', \\\n",
    "                                                'UOM', \\\n",
    "                                                'VendorCode']).agg({'Doc. Date':'max', \\\n",
    "                                                                    'Del Date' : 'max', \\\n",
    "                                                                    'GRN Date' : 'max', \\\n",
    "                                                                    'Sum of PO Quantity':'mean', \\\n",
    "                                                                    'Sum of      Net Price':'mean', \\\n",
    "                                                                    'Sum of PO Value' : 'mean', \\\n",
    "                                                                    'Sum of GRN Qty' : 'mean', \\\n",
    "                                                                    'Sum of GRN Val' : 'mean'\n",
    "                                                                    }) \\\n",
    "                          .reindex(['Doc. Date','Del Date', \\\n",
    "                                    'GRN Date','Sum of PO Quantity', \\\n",
    "                                    'Sum of      Net Price', \\\n",
    "                                    'Sum of PO Value', \\\n",
    "                                    'Sum of GRN Qty', \\\n",
    "                                    'Sum of GRN Val'\n",
    "                                   ], axis=1) \\\n",
    "                          .reset_index()\n",
    "except:\n",
    "    s_statusType        = 'Error'\n",
    "    s_statusDescription = s_statusDescription + str(sys.exc_info())\n",
    "    applConfig.WriteToActivityLog(s_classApplication,\n",
    "                                  s_classMethod,\n",
    "                                  s_statusType,\n",
    "                                  s_statusDescription\n",
    "                                 )    \n",
    "    raise Exception(s_statusDescription)"
   ]
  },
  {
   "cell_type": "markdown",
   "metadata": {},
   "source": [
    "#### [1.35]: Calculate the deviation metrics."
   ]
  },
  {
   "cell_type": "code",
   "execution_count": 40,
   "metadata": {},
   "outputs": [],
   "source": [
    "try:\n",
    "    s_classMethod       = 'Calculate deviation metrics'\n",
    "    s_statusType        = 'Success'    \n",
    "    # Deviation in expected vs actual delivery dates.\n",
    "    dfDataVendorMaxDate['Deviation_DeliveryDate'] = (dfDataVendorMaxDate['GRN Date'] - dfDataVendorMaxDate['Del Date']).dt.days\n",
    "\n",
    "    # Deviation in expected vs actual delivered quantity.\n",
    "    dfDataVendorMaxDate['Deviation_DeliveredQty'] = (dfDataVendorMaxDate['Sum of PO Quantity'] - dfDataVendorMaxDate['Sum of GRN Qty']) \\\n",
    "    /dfDataVendorMaxDate['Sum of PO Quantity']\n",
    "\n",
    "    # Round of to the nearest 3rd decimal.\n",
    "    dfDataVendorMaxDate['Deviation_DeliveredQty'] = dfDataVendorMaxDate['Deviation_DeliveredQty'].round(3)\n",
    "\n",
    "    # Deviation in expected vs actual delivered value.\n",
    "    dfDataVendorMaxDate['Deviation_DeliveredValue'] = (dfDataVendorMaxDate['Sum of PO Value'] - dfDataVendorMaxDate['Sum of GRN Val']) \\\n",
    "    /dfDataVendorMaxDate['Sum of PO Value']\n",
    "\n",
    "    # Round of to the nearest 3rd decimal.\n",
    "    dfDataVendorMaxDate['Deviation_DeliveredValue'] = dfDataVendorMaxDate['Deviation_DeliveredValue'].round(3)\n",
    "\n",
    "    # Handle negative deviations in quantity and value. Delivered more qty/value than the PO contract.\n",
    "    dfDataVendorMaxDate.loc[dfDataVendorMaxDate['Deviation_DeliveredQty']   < 0.0,  'Deviation_DeliveredQty'] = 0.0\n",
    "    dfDataVendorMaxDate.loc[dfDataVendorMaxDate['Deviation_DeliveredValue'] < 0.0,'Deviation_DeliveredValue'] = 0.0\n",
    "\n",
    "    # Assign the finalized data.\n",
    "    dfDataVendorLatest = dfDataVendorMaxDate\n",
    "except:\n",
    "    s_statusType        = 'Error'\n",
    "    s_statusDescription = s_statusDescription + str(sys.exc_info())\n",
    "    applConfig.WriteToActivityLog(s_classApplication,\n",
    "                                  s_classMethod,\n",
    "                                  s_statusType,\n",
    "                                  s_statusDescription\n",
    "                                 )    \n",
    "    raise Exception(s_statusDescription)    "
   ]
  },
  {
   "cell_type": "code",
   "execution_count": null,
   "metadata": {},
   "outputs": [],
   "source": []
  },
  {
   "cell_type": "markdown",
   "metadata": {},
   "source": [
    "### [1.40]: Build the final dataframe for ML modelling."
   ]
  },
  {
   "cell_type": "markdown",
   "metadata": {},
   "source": [
    "#### [1.41]: Concatenate all the required columns."
   ]
  },
  {
   "cell_type": "code",
   "execution_count": 41,
   "metadata": {},
   "outputs": [],
   "source": [
    "try:\n",
    "    s_classMethod       = 'Finalize the columns in dataframe.'\n",
    "    s_statusType        = 'Success'    \n",
    "    # Concat all the columns required for the analysis.\n",
    "    dfDataVendorFinal = dfDataVendorLatest[['Doc. Date','VendorCode','Material','Deviation_DeliveryDate', \\\n",
    "                                     'Deviation_DeliveredQty','Deviation_DeliveredValue']].copy()\n",
    "except:\n",
    "    s_statusType        = 'Error'\n",
    "    s_statusDescription = s_statusDescription + str(sys.exc_info())\n",
    "    applConfig.WriteToActivityLog(s_classApplication,\n",
    "                                  s_classMethod,\n",
    "                                  s_statusType,\n",
    "                                  s_statusDescription\n",
    "                                 )    \n",
    "    raise Exception(s_statusDescription)     "
   ]
  },
  {
   "cell_type": "markdown",
   "metadata": {},
   "source": [
    "#### [1.42]: Explore the distribution of data."
   ]
  },
  {
   "cell_type": "code",
   "execution_count": 42,
   "metadata": {},
   "outputs": [
    {
     "data": {
      "image/png": "[encoded data removed]",
      "text/plain": [
       "<Figure size 432x288 with 1 Axes>"
      ]
     },
     "metadata": {
      "needs_background": "light"
     },
     "output_type": "display_data"
    }
   ],
   "source": [
    "# For variable : \"Deviation_DeliveryDate\"\n",
    "# Import the necessary libraries\n",
    "import matplotlib.pyplot as plt\n",
    "import seaborn as sns\n",
    "%matplotlib inline \n",
    "\n",
    "# Create violinplot\n",
    "sns.violinplot(x = \"Deviation_DeliveryDate\", data=dfDataVendorFinal)\n",
    "\n",
    "# Show the plot\n",
    "plt.show()"
   ]
  },
  {
   "cell_type": "code",
   "execution_count": 43,
   "metadata": {},
   "outputs": [
    {
     "data": {
      "image/png": "[encoded data removed]",
      "text/plain": [
       "<Figure size 432x288 with 1 Axes>"
      ]
     },
     "metadata": {
      "needs_background": "light"
     },
     "output_type": "display_data"
    }
   ],
   "source": [
    "# For variable : \"Deviation_DeliveredQty\"\n",
    "# Import the necessary libraries\n",
    "import matplotlib.pyplot as plt\n",
    "import seaborn as sns\n",
    "%matplotlib inline \n",
    "\n",
    "# Create violinplot\n",
    "sns.violinplot(x = \"Deviation_DeliveredQty\", data=dfDataVendorFinal)\n",
    "\n",
    "# Show the plot\n",
    "plt.show()"
   ]
  },
  {
   "cell_type": "code",
   "execution_count": 44,
   "metadata": {},
   "outputs": [
    {
     "data": {
      "image/png": "[encoded data removed]",
      "text/plain": [
       "<Figure size 432x288 with 1 Axes>"
      ]
     },
     "metadata": {
      "needs_background": "light"
     },
     "output_type": "display_data"
    }
   ],
   "source": [
    "# For variable : \"Deviation_DeliveredValue\"\n",
    "# Import the necessary libraries\n",
    "import matplotlib.pyplot as plt\n",
    "import seaborn as sns\n",
    "%matplotlib inline \n",
    "\n",
    "# Create violinplot\n",
    "sns.violinplot(x = \"Deviation_DeliveredValue\", data=dfDataVendorFinal)\n",
    "\n",
    "# Show the plot\n",
    "plt.show()"
   ]
  },
  {
   "cell_type": "markdown",
   "metadata": {},
   "source": [
    "#### [1.43]: Generate the class label."
   ]
  },
  {
   "cell_type": "code",
   "execution_count": 45,
   "metadata": {},
   "outputs": [],
   "source": [
    "# Function to generate the class Label.\n",
    "def getClassDelivery(dfClassDelivery):\n",
    "    # Store the actual index.\n",
    "    dfIndex = dfClassDelivery.index\n",
    "    # Set the index to 'Material'to partition the dataset.\n",
    "    dfClassDelivery.set_index('Material', inplace=True)\n",
    "    # Loop through the distinct partition value.\n",
    "    for i in (set(dfClassDelivery.index)):\n",
    "        # Apply partition, on the 'Material' column.\n",
    "        slicer = (dfClassDelivery.index.values == i)\n",
    "        # Vendor delivers, 30 days earlier or more, than the contract delivery date.\n",
    "        # No deviation in quantity delivered.\n",
    "        dfClassDelivery.loc[( (slicer) & \\\n",
    "                              (dfClassDelivery['Deviation_DeliveryDate']   < -30.0) & \\\n",
    "                              (dfClassDelivery['Deviation_DeliveredQty']   == 0.0) \n",
    "                            ),  \\\n",
    "                             'classDelivery'] = 1\n",
    "    \n",
    "        # 25% deviation in quantity delivered.\n",
    "        dfClassDelivery.loc[(\n",
    "                                (slicer) & \\\n",
    "                                (dfClassDelivery['Deviation_DeliveryDate']   < -30.0) & \\\n",
    "                                ( (dfClassDelivery['Deviation_DeliveredQty']   > 0.0)   & \\\n",
    "                                  (dfClassDelivery['Deviation_DeliveredQty']   <= 0.25))\n",
    "                             ),'classDelivery'] = 2\n",
    "\n",
    "        # 25% to 50% deviation in quantity delivered.\n",
    "        dfClassDelivery.loc[(\n",
    "                                (slicer) & \\\n",
    "                                (dfClassDelivery['Deviation_DeliveryDate']   < -30.0) & \\\n",
    "                                ((dfClassDelivery['Deviation_DeliveredQty']   > 0.25)   & \\\n",
    "                                (dfClassDelivery['Deviation_DeliveredQty']   <= 0.50))\n",
    "                            ),'classDelivery'] = 3\n",
    "\n",
    "        # 50% to 75% deviation in quantity delivered.\n",
    "        dfClassDelivery.loc[(   (slicer) & \\\n",
    "                                (dfClassDelivery['Deviation_DeliveryDate']   < -30.0) & \\\n",
    "                                ( (dfClassDelivery['Deviation_DeliveredQty']   > 0.50)   & \\\n",
    "                                  (dfClassDelivery['Deviation_DeliveredQty']   <= 0.75))\n",
    "                             ),'classDelivery'] = 4\n",
    "    \n",
    "        # More than 75% deviation in quantity delivered.\n",
    "        dfClassDelivery.loc[(   (slicer) & \\\n",
    "                                (dfClassDelivery['Deviation_DeliveryDate']   < -30.0) & \\\n",
    "                                ((dfClassDelivery['Deviation_DeliveredQty']  > 0.75))\n",
    "                             ),'classDelivery'] = 5\n",
    "    \n",
    "\n",
    "        # Vendor delivers, 15-30 days earlier,  than the contract date.\n",
    "        # No deviation in quantity delivered.\n",
    "        dfClassDelivery.loc[( (slicer) & \\\n",
    "                            ((dfClassDelivery['Deviation_DeliveryDate']   >= -30.0) & \\\n",
    "                            (dfClassDelivery['Deviation_DeliveryDate']   <= -15.0)) & \\\n",
    "                            (dfClassDelivery['Deviation_DeliveredQty']   == 0.0) \n",
    "                        ),'classDelivery'] = 6\n",
    "    \n",
    "        # 25% deviation in quantity delivered.\n",
    "        dfClassDelivery.loc[( (slicer) & \\\n",
    "                            ((dfClassDelivery['Deviation_DeliveryDate']   >= -30.0) & \\\n",
    "                            (dfClassDelivery['Deviation_DeliveryDate']   <= -15.0)) & \\\n",
    "                            ((dfClassDelivery['Deviation_DeliveredQty']   > 0.0)   & \\\n",
    "                            (dfClassDelivery['Deviation_DeliveredQty']   <= 0.25)) \n",
    "                        ),'classDelivery'] = 7\n",
    "\n",
    "        # 25% to 50% deviation in quantity delivered.\n",
    "        dfClassDelivery.loc[( (slicer) & \\\n",
    "                            ((dfClassDelivery['Deviation_DeliveryDate']   >= -30.0) & \\\n",
    "                            (dfClassDelivery['Deviation_DeliveryDate']   <= -15.0)) & \\\n",
    "                            ((dfClassDelivery['Deviation_DeliveredQty']   > 0.25)   & \\\n",
    "                            (dfClassDelivery['Deviation_DeliveredQty']   <= 0.50)) \n",
    "                        ),'classDelivery'] = 8\n",
    "\n",
    "        # 50% to 75% deviation in quantity delivered.\n",
    "        dfClassDelivery.loc[( (slicer) & \\\n",
    "                            ((dfClassDelivery['Deviation_DeliveryDate']   >= -30.0) & \\\n",
    "                            (dfClassDelivery['Deviation_DeliveryDate']   <= -15.0)) & \\\n",
    "                            ((dfClassDelivery['Deviation_DeliveredQty']   > 0.50)   & \\\n",
    "                            (dfClassDelivery['Deviation_DeliveredQty']   <= 0.75)) \n",
    "                        ),'classDelivery'] = 9\n",
    "    \n",
    "        # More than 75% deviation in quantity delivered.\n",
    "        dfClassDelivery.loc[( (slicer) & \\\n",
    "                            ((dfClassDelivery['Deviation_DeliveryDate']   >= -30.0) & \\\n",
    "                            (dfClassDelivery['Deviation_DeliveryDate']   <= -15.0)) & \\\n",
    "                            (dfClassDelivery['Deviation_DeliveredQty']   > 0.75) \n",
    "                        ),'classDelivery'] = 10\n",
    "\n",
    "        # Vendor delivers, 1-14 days earlier,  than the contract date.  \n",
    "        # No deviation in quantity delivered.\n",
    "        dfClassDelivery.loc[( (slicer) & \\\n",
    "                            ((dfClassDelivery['Deviation_DeliveryDate']   > -15.0) & \\\n",
    "                             (dfClassDelivery['Deviation_DeliveryDate']   < 0.0))  & \\\n",
    "                            (dfClassDelivery['Deviation_DeliveredQty']   == 0.0) \n",
    "                        ),'classDelivery'] = 11\n",
    "    \n",
    "        # 25% deviation in quantity delivered.\n",
    "        dfClassDelivery.loc[( (slicer) & \\\n",
    "                            ((dfClassDelivery['Deviation_DeliveryDate']   > -15.0) & \\\n",
    "                             (dfClassDelivery['Deviation_DeliveryDate']   < 0.0))  & \\\n",
    "                            ((dfClassDelivery['Deviation_DeliveredQty']   > 0.00)   & \\\n",
    "                            (dfClassDelivery['Deviation_DeliveredQty']    <= 0.25)) \n",
    "                        ),'classDelivery'] = 12\n",
    "\n",
    "        # 25% to 50% deviation in quantity delivered.\n",
    "        dfClassDelivery.loc[( (slicer) & \\\n",
    "                            ((dfClassDelivery['Deviation_DeliveryDate']   > -15.0) & \\\n",
    "                             (dfClassDelivery['Deviation_DeliveryDate']   < 0.0))  & \\\n",
    "                            ((dfClassDelivery['Deviation_DeliveredQty']   > 0.25)   & \\\n",
    "                            (dfClassDelivery['Deviation_DeliveredQty']    <= 0.50)) \n",
    "                        ),'classDelivery'] = 13\n",
    "\n",
    "        # 50% to 75% deviation in quantity delivered.\n",
    "        dfClassDelivery.loc[( (slicer) & \\\n",
    "                            ((dfClassDelivery['Deviation_DeliveryDate']   > -15.0) & \\\n",
    "                             (dfClassDelivery['Deviation_DeliveryDate']   < 0.0))  & \\\n",
    "                            ((dfClassDelivery['Deviation_DeliveredQty']   > 0.50)   & \\\n",
    "                            (dfClassDelivery['Deviation_DeliveredQty']    <= 0.75)) \n",
    "                        ),'classDelivery'] = 14\n",
    "    \n",
    "        # More than 75% deviation in quantity delivered.\n",
    "        dfClassDelivery.loc[( (slicer) & \\\n",
    "                            ((dfClassDelivery['Deviation_DeliveryDate']   > -15.0) & \\\n",
    "                             (dfClassDelivery['Deviation_DeliveryDate']   < 0.0))  & \\\n",
    "                            ((dfClassDelivery['Deviation_DeliveredQty']   > 0.75)) \n",
    "                        ),'classDelivery'] = 15\n",
    "\n",
    "        # Vendor delivers on expected date as per the contract.\n",
    "        # No deviation in quantity delivered.\n",
    "        dfClassDelivery.loc[( (slicer) & \\\n",
    "                             ((dfClassDelivery['Deviation_DeliveryDate']   == 0.0))  & \\\n",
    "                             (dfClassDelivery['Deviation_DeliveredQty']   == 0.0) \n",
    "                            ),'classDelivery'] = 16\n",
    "    \n",
    "        # 25% deviation in quantity delivered.\n",
    "        dfClassDelivery.loc[( (slicer) & \\\n",
    "                            ((dfClassDelivery['Deviation_DeliveryDate']   == 0.0))  & \\\n",
    "                            ((dfClassDelivery['Deviation_DeliveredQty']   > 0.00)   & \\\n",
    "                            (dfClassDelivery['Deviation_DeliveredQty']    <= 0.25)) \n",
    "                        ),'classDelivery'] = 17\n",
    "\n",
    "        # 25% to 50% deviation in quantity delivered.\n",
    "        dfClassDelivery.loc[( (slicer) & \\\n",
    "                            ((dfClassDelivery['Deviation_DeliveryDate']   == 0.0))  & \\\n",
    "                            ((dfClassDelivery['Deviation_DeliveredQty']   > 0.25)   & \\\n",
    "                            (dfClassDelivery['Deviation_DeliveredQty']    <= 0.50)) \n",
    "                        ),'classDelivery'] = 18\n",
    "\n",
    "        # 50% to 75% deviation in quantity delivered.\n",
    "        dfClassDelivery.loc[( (slicer) & \\\n",
    "                            ((dfClassDelivery['Deviation_DeliveryDate']   == 0.0))  & \\\n",
    "                            ((dfClassDelivery['Deviation_DeliveredQty']   > 0.50)   & \\\n",
    "                            (dfClassDelivery['Deviation_DeliveredQty']    <= 0.75)) \n",
    "                        ),'classDelivery'] = 19\n",
    "    \n",
    "        # More than 75% deviation in quantity delivered.\n",
    "        dfClassDelivery.loc[( (slicer) & \\\n",
    "                            ((dfClassDelivery['Deviation_DeliveryDate']   == 0.0))  & \\\n",
    "                            ((dfClassDelivery['Deviation_DeliveredQty']   > 0.75)) \n",
    "                        ),'classDelivery'] = 20\n",
    "\n",
    "        # Vendor delivers with a delay between 1 to 15 days, as per the contract date.\n",
    "        # No deviation in quantity delivered.\n",
    "        dfClassDelivery.loc[( (slicer) & \\\n",
    "                             ((dfClassDelivery['Deviation_DeliveryDate'] > 0.0) & \\\n",
    "                              (dfClassDelivery['Deviation_DeliveryDate'] <= 15.0))  & \\\n",
    "                             (dfClassDelivery['Deviation_DeliveredQty']   == 0.0) \n",
    "                            ),'classDelivery'] = 21\n",
    "    \n",
    "        # 25% deviation in quantity delivered.\n",
    "        dfClassDelivery.loc[( (slicer) & \\\n",
    "                            ((dfClassDelivery['Deviation_DeliveryDate'] > 0.0) & \\\n",
    "                              (dfClassDelivery['Deviation_DeliveryDate'] <= 15.0))  & \\\n",
    "                            ((dfClassDelivery['Deviation_DeliveredQty']   > 0.00)   & \\\n",
    "                            (dfClassDelivery['Deviation_DeliveredQty']    <= 0.25)) \n",
    "                        ),'classDelivery'] = 22\n",
    "\n",
    "        # 25% to 50% deviation in quantity delivered.\n",
    "        dfClassDelivery.loc[( (slicer) & \\\n",
    "                            ((dfClassDelivery['Deviation_DeliveryDate'] > 0.0) & \\\n",
    "                              (dfClassDelivery['Deviation_DeliveryDate'] <= 15.0))  & \\\n",
    "                            ((dfClassDelivery['Deviation_DeliveredQty']   > 0.25)   & \\\n",
    "                            (dfClassDelivery['Deviation_DeliveredQty']    <= 0.50)) \n",
    "                        ),'classDelivery'] = 23\n",
    "\n",
    "        # 50% to 75% deviation in quantity delivered.\n",
    "        dfClassDelivery.loc[( (slicer) & \\\n",
    "                            ((dfClassDelivery['Deviation_DeliveryDate'] > 0.0) & \\\n",
    "                              (dfClassDelivery['Deviation_DeliveryDate'] <= 15.0))  & \\\n",
    "                            ((dfClassDelivery['Deviation_DeliveredQty']   > 0.50)   & \\\n",
    "                            (dfClassDelivery['Deviation_DeliveredQty']    <= 0.75)) \n",
    "                        ),'classDelivery'] = 24\n",
    "    \n",
    "        # More than 75% deviation in quantity delivered.\n",
    "        dfClassDelivery.loc[( (slicer) & \\\n",
    "                            ((dfClassDelivery['Deviation_DeliveryDate'] > 0.0) & \\\n",
    "                              (dfClassDelivery['Deviation_DeliveryDate'] <= 15.0))  & \\\n",
    "                            ((dfClassDelivery['Deviation_DeliveredQty']   > 0.75)) \n",
    "                        ),'classDelivery'] = 25\n",
    "\n",
    "        # Vendor delivers with a delay between 15 to 30 days, as per the contract date.\n",
    "        # No deviation in quantity delivered.\n",
    "        dfClassDelivery.loc[( (slicer) & \\\n",
    "                             ((dfClassDelivery['Deviation_DeliveryDate'] > 15.0) & \\\n",
    "                              (dfClassDelivery['Deviation_DeliveryDate'] <= 30.0))  & \\\n",
    "                             (dfClassDelivery['Deviation_DeliveredQty']   == 0.0) \n",
    "                            ),'classDelivery'] = 26\n",
    "    \n",
    "        # 25% deviation in quantity delivered.\n",
    "        dfClassDelivery.loc[( (slicer) & \\\n",
    "                            ((dfClassDelivery['Deviation_DeliveryDate'] > 15.0) & \\\n",
    "                              (dfClassDelivery['Deviation_DeliveryDate'] <= 30.0))  & \\\n",
    "                            ((dfClassDelivery['Deviation_DeliveredQty']   > 0.00)   & \\\n",
    "                            (dfClassDelivery['Deviation_DeliveredQty']    <= 0.25)) \n",
    "                        ),'classDelivery'] = 27\n",
    "\n",
    "        # 25% to 50% deviation in quantity delivered.\n",
    "        dfClassDelivery.loc[( (slicer) & \\\n",
    "                            ((dfClassDelivery['Deviation_DeliveryDate'] > 15.0) & \\\n",
    "                              (dfClassDelivery['Deviation_DeliveryDate'] <= 30.0))  & \\\n",
    "                            ((dfClassDelivery['Deviation_DeliveredQty']   > 0.25)   & \\\n",
    "                            (dfClassDelivery['Deviation_DeliveredQty']    <= 0.50)) \n",
    "                        ),'classDelivery'] = 28\n",
    "\n",
    "        # 50% to 75% deviation in quantity delivered.\n",
    "        dfClassDelivery.loc[( (slicer) & \\\n",
    "                            ((dfClassDelivery['Deviation_DeliveryDate'] > 15.0) & \\\n",
    "                              (dfClassDelivery['Deviation_DeliveryDate'] <= 30.0))  & \\\n",
    "                            ((dfClassDelivery['Deviation_DeliveredQty']   > 0.50)   & \\\n",
    "                            (dfClassDelivery['Deviation_DeliveredQty']    <= 0.75)) \n",
    "                        ),'classDelivery'] = 29\n",
    "    \n",
    "        # More than 75% deviation in quantity delivered.\n",
    "        dfClassDelivery.loc[( (slicer) & \\\n",
    "                            ((dfClassDelivery['Deviation_DeliveryDate'] > 15.0) & \\\n",
    "                              (dfClassDelivery['Deviation_DeliveryDate'] <= 30.0))  & \\\n",
    "                            ((dfClassDelivery['Deviation_DeliveredQty']   > 0.75)) \n",
    "                        ),'classDelivery'] = 30\n",
    "\n",
    "        # Vendor delivers with a delay of more than 30 days, as per the contract date.\n",
    "        # No deviation in quantity delivered.\n",
    "        dfClassDelivery.loc[( (slicer) & \\\n",
    "                             ((dfClassDelivery['Deviation_DeliveryDate'] > 30.0))  & \\\n",
    "                             (dfClassDelivery['Deviation_DeliveredQty']   == 0.0) \n",
    "                            ),'classDelivery'] = 31\n",
    "    \n",
    "        # 25% deviation in quantity delivered.\n",
    "        dfClassDelivery.loc[( (slicer) & \\\n",
    "                            ((dfClassDelivery['Deviation_DeliveryDate'] > 30.0))  & \\\n",
    "                            ((dfClassDelivery['Deviation_DeliveredQty']   > 0.00)   & \\\n",
    "                            (dfClassDelivery['Deviation_DeliveredQty']    <= 0.25)) \n",
    "                        ),'classDelivery'] = 32\n",
    "\n",
    "        # 25% to 50% deviation in quantity delivered.\n",
    "        dfClassDelivery.loc[( (slicer) & \\\n",
    "                            ((dfClassDelivery['Deviation_DeliveryDate'] > 30.0))  & \\\n",
    "                            ((dfClassDelivery['Deviation_DeliveredQty']   > 0.25)   & \\\n",
    "                            (dfClassDelivery['Deviation_DeliveredQty']    <= 0.50)) \n",
    "                        ),'classDelivery'] = 33\n",
    "\n",
    "        # 50% to 75% deviation in quantity delivered.\n",
    "        dfClassDelivery.loc[( (slicer) & \\\n",
    "                            ((dfClassDelivery['Deviation_DeliveryDate'] > 30.0))  & \\\n",
    "                            ((dfClassDelivery['Deviation_DeliveredQty']   > 0.50)   & \\\n",
    "                            (dfClassDelivery['Deviation_DeliveredQty']    <= 0.75)) \n",
    "                        ),'classDelivery'] = 34\n",
    "    \n",
    "        # More than 75% deviation in quantity delivered.\n",
    "        dfClassDelivery.loc[( (slicer) & \\\n",
    "                            ((dfClassDelivery['Deviation_DeliveryDate'] > 30.0))  & \\\n",
    "                            ((dfClassDelivery['Deviation_DeliveredQty']   > 0.75)) \n",
    "                        ),'classDelivery'] = 35\n",
    "\n",
    "    dfClassDelivery['Material'] = dfClassDelivery.index\n",
    "    dfClassDelivery.index = dfIndex\n",
    "    dfClassDelivery = dfClassDelivery[['Doc. Date','Material','VendorCode','Deviation_DeliveryDate', \\\n",
    "                                       'Deviation_DeliveredQty','Rank','classDelivery']]\n",
    "    return dfClassDelivery"
   ]
  },
  {
   "cell_type": "markdown",
   "metadata": {},
   "source": [
    "#### [1.44]: Prepare the Rank data"
   ]
  },
  {
   "cell_type": "code",
   "execution_count": 46,
   "metadata": {},
   "outputs": [],
   "source": [
    "try:\n",
    "    s_classMethod       = 'Generate Rank and Class Labels'\n",
    "    s_statusType        = 'Success'        \n",
    "    # prepare the rank data.\n",
    "    dfDataVendorFinal['Rank'] = dfDataVendorFinal.sort_values(['Deviation_DeliveryDate','Deviation_DeliveredQty'], \\\n",
    "                                                              ascending=[True,True]).groupby(['Material']) \\\n",
    "                                                              .cumcount() + 1\n",
    "\n",
    "    # Call the function to generate the class label.\n",
    "    dfDataVendorFinal['classDelivery'] = 0\n",
    "    dfDataVendorFinal = getClassDelivery(dfDataVendorFinal.copy())\n",
    "except:\n",
    "    s_statusType        = 'Error'\n",
    "    s_statusDescription = s_statusDescription + str(sys.exc_info())\n",
    "    applConfig.WriteToActivityLog(s_classApplication,\n",
    "                                  s_classMethod,\n",
    "                                  s_statusType,\n",
    "                                  s_statusDescription\n",
    "                                 )    \n",
    "    raise Exception(s_statusDescription)         "
   ]
  },
  {
   "cell_type": "markdown",
   "metadata": {},
   "source": [
    "#### [1.45]: Export the data with class Label for analysis."
   ]
  },
  {
   "cell_type": "code",
   "execution_count": 47,
   "metadata": {},
   "outputs": [],
   "source": [
    "# Export the data with the assigned class label for inspection.\n",
    "dfDataVendorFinal[['Material','VendorCode','Deviation_DeliveryDate', \\\n",
    "                   'Deviation_DeliveredQty','Rank','classDelivery']].to_csv('inspect_classAssignment.csv')"
   ]
  },
  {
   "cell_type": "code",
   "execution_count": null,
   "metadata": {},
   "outputs": [],
   "source": []
  },
  {
   "cell_type": "markdown",
   "metadata": {},
   "source": [
    "### [1.50]: Treat categorical variables."
   ]
  },
  {
   "cell_type": "code",
   "execution_count": 48,
   "metadata": {},
   "outputs": [],
   "source": [
    "try:\n",
    "    s_classMethod       = 'Generate Rank and Class Labels'\n",
    "    s_statusType        = 'Success' \n",
    "    # Build the dataframe with the encoded column for the categorical data.\n",
    "    # We have 397 unique entries.\n",
    "    dfMaterialOHE = pd.get_dummies(dfDataVendorFinal['Material'])\n",
    "    # We have 15 unique entries.\n",
    "    dfVendorOHE = pd.get_dummies(dfDataVendorFinal['VendorCode'])\n",
    "    # Add the encoded columns to the existing dataframe.\n",
    "    dfDataVendorFinal = pd.concat([dfDataVendorFinal,dfMaterialOHE,dfVendorOHE],axis=1)    \n",
    "except:\n",
    "    s_statusType        = 'Error'\n",
    "    s_statusDescription = s_statusDescription + str(sys.exc_info())\n",
    "    applConfig.WriteToActivityLog(s_classApplication,\n",
    "                                  s_classMethod,\n",
    "                                  s_statusType,\n",
    "                                  s_statusDescription\n",
    "                                 )    \n",
    "    raise Exception(s_statusDescription)         "
   ]
  },
  {
   "cell_type": "code",
   "execution_count": 49,
   "metadata": {},
   "outputs": [
    {
     "name": "stdout",
     "output_type": "stream",
     "text": [
      "592\n",
      "592\n",
      "592\n"
     ]
    }
   ],
   "source": [
    "print(len(dfMaterialOHE))\n",
    "print(len(dfVendorOHE))\n",
    "print(len(dfDataVendorFinal))"
   ]
  },
  {
   "cell_type": "markdown",
   "metadata": {},
   "source": [
    "#### CHECK DATE VALIDATION : Continue tomorrow."
   ]
  },
  {
   "cell_type": "code",
   "execution_count": 63,
   "metadata": {},
   "outputs": [
    {
     "name": "stdout",
     "output_type": "stream",
     "text": [
      "ValidationException:{\"Incorrect_DateFormat\" : [\"GRN Date\":[97]]}\n"
     ]
    }
   ],
   "source": [
    "# Corrected Row_index in source file.\n",
    "cRowIndex = 3\n",
    "# Validate column \"GRN Date\".\n",
    "dfDateCheck = pd.to_datetime(dfDataVendor['GRN Date'],errors='coerce')\n",
    "lstDateExceptions = list(dfDateCheck[dfDateCheck.isnull()].index+cRowIndex)\n",
    "if len(lstDateExceptions) > 0:\n",
    "    validException = 'ValidationException:{\"Incorrect_DateFormat\" : [\"GRN Date\":' + str(lstDateExceptions) + ']}'\n",
    "    print(validException)    "
   ]
  },
  {
   "cell_type": "code",
   "execution_count": 73,
   "metadata": {},
   "outputs": [],
   "source": [
    "def GetValidExceptionForDates(lstDateColumns, # list of date columns to validate.\n",
    "                              dfData,          # data frame of the input data.\n",
    "                              infile_skiprows  # number of rows to skip in the begining from the input file.\n",
    "                             ):\n",
    "    # Corrected Row_index in source file.\n",
    "    cRowIndex = infile_skiprows + 2\n",
    "    # Build the Validation Exception message.\n",
    "    validExceptionPresent = 0\n",
    "    validExcept_header = ',\"ValidationException\":'\n",
    "    validExcept_body   = '{\"Incorrect_DateFormat\" : ['\n",
    "    validExcept_footer = ']}'\n",
    "    # List of date columns to be validated.\n",
    "    #lstDateColumns = ['Doc. Date','Del Date','GRN Date']\n",
    "    # Loop through the list.\n",
    "    for itm in lstDateColumns:\n",
    "        # Validate columns.\n",
    "        dfDateCheck = pd.to_datetime(dfData[itm],errors='coerce')\n",
    "        lstDateExceptions = list(dfDateCheck[dfDateCheck.isnull()].index+cRowIndex)\n",
    "        if len(lstDateExceptions) > 0:\n",
    "            validExceptionPresent = 1\n",
    "            validException_item = '\"' + itm + '\":' + str(lstDateExceptions) + ','\n",
    "\n",
    "    if validExceptionPresent:\n",
    "        # Remove extra comma.\n",
    "        validException_item = validException_item[:-1]\n",
    "        # Build the Validation Exception Message.\n",
    "        validationException = validExcept_header + validExcept_body + validException_item + validExcept_footer\n",
    "    return validationException"
   ]
  },
  {
   "cell_type": "code",
   "execution_count": 75,
   "metadata": {},
   "outputs": [
    {
     "name": "stdout",
     "output_type": "stream",
     "text": [
      ",\"ValidationException\":{\"Incorrect_DateFormat\" : [\"GRN Date\":[97]]}\n"
     ]
    }
   ],
   "source": [
    "exceptMessage = GetValidExceptionForDates(lstDateColumns = ['Doc. Date','Del Date','GRN Date'], # list of date columns to validate.\n",
    "                                          dfData = dfDataVendor, # data frame of the input data.\n",
    "                                          infile_skiprows = 1    # number of rows to skip in the begining from the input file.\n",
    "                                         )\n",
    "print(exceptMessage)"
   ]
  },
  {
   "cell_type": "code",
   "execution_count": null,
   "metadata": {},
   "outputs": [],
   "source": []
  },
  {
   "cell_type": "code",
   "execution_count": null,
   "metadata": {},
   "outputs": [],
   "source": []
  },
  {
   "cell_type": "code",
   "execution_count": null,
   "metadata": {},
   "outputs": [],
   "source": []
  },
  {
   "cell_type": "code",
   "execution_count": null,
   "metadata": {},
   "outputs": [],
   "source": []
  }
 ],
 "metadata": {
  "kernelspec": {
   "display_name": "Python 3",
   "language": "python",
   "name": "python3"
  },
  "language_info": {
   "codemirror_mode": {
    "name": "ipython",
    "version": 3
   },
   "file_extension": ".py",
   "mimetype": "text/x-python",
   "name": "python",
   "nbconvert_exporter": "python",
   "pygments_lexer": "ipython3",
   "version": "3.7.3"
  }
 },
 "nbformat": 4,
 "nbformat_minor": 2
}
