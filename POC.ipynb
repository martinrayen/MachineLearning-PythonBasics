{
 "cells": [
  {
   "cell_type": "markdown",
   "metadata": {},
   "source": [
    "### VENDOR RANKING : PROTOTYPE"
   ]
  },
  {
   "cell_type": "code",
   "execution_count": null,
   "metadata": {},
   "outputs": [],
   "source": []
  },
  {
   "cell_type": "markdown",
   "metadata": {},
   "source": [
    "#### I. Model Training And Evaluation\n",
    "\n",
    "#### [1]: Data Generation / Preparation : Historic Data"
   ]
  },
  {
   "cell_type": "code",
   "execution_count": 1,
   "metadata": {},
   "outputs": [],
   "source": [
    "# Import the libraries.\n",
    "import numpy as np\n",
    "import pandas as pd\n",
    "import random\n",
    "import warnings\n",
    "warnings.filterwarnings(\"ignore\")\n",
    "from prettytable import PrettyTable\n",
    "\n",
    "# List containing dataframes.\n",
    "lstDataFrames = []\n",
    "# Number of rows to generate.\n",
    "rowNum = 100\n",
    "\n",
    "def generateHistoricData(monthYear):\n",
    "    \"\"\"\n",
    "    Function to generate the data based on time periods.\n",
    "    \"\"\"\n",
    "    # Define the columns.\n",
    "    columns =['ProductType','VendorName','ProductPrice']\n",
    "    # Define the indexes\n",
    "    index   = np.arange(rowNum)\n",
    "    # build the vendor data.\n",
    "    producttype = ['P01' for i in np.arange(rowNum)]\n",
    "    vendorcode = ['V0'+ str(i+1) for i in np.arange(rowNum)]\n",
    "    productprice = [round(random.uniform(495,505),2) for i in np.arange(rowNum)]\n",
    "    # combine the product,vendor,price\n",
    "    data = zip(producttype,vendorcode,productprice)\n",
    "    # create the dataframe with the above data.\n",
    "    dfVendor = pd.DataFrame(index=index,columns = columns,data=data)\n",
    "    # set the \"Is_Selected\" flag.\n",
    "    dfVendor['Is_Selected'] = 0\n",
    "    # Add a timeperiod column.\n",
    "    dfVendor['MonthYear'] = monthYear\n",
    "    # Get the best price, and set the Is_Selected flag.\n",
    "    dfVendorMinPrice = dfVendor.sort_values(by=['ProductPrice'],ascending=True).head(1)\n",
    "    dfVendorMinPrice['Is_Selected'] = 1\n",
    "    dfVendor['Is_Selected'].loc[dfVendorMinPrice.index] = dfVendorMinPrice['Is_Selected']\n",
    "    del dfVendorMinPrice\n",
    "\n",
    "    # add the dataframe to a list.\n",
    "    lstDataFrames.append(dfVendor)\n",
    " # function scope ends here.\n",
    "\n",
    "\n",
    "#List of timeperiods for which data needs to be generated.\n",
    "lstTimePeriod = ['201201','201202','201203','201204','201205','201206','201207','201208','201209','201210','201211','201212',\n",
    "                 '201301','201302','201303','201304','201305','201306','201307','201308','201309','201310','201311','201312',\n",
    "                 '201401','201402','201403','201404','201405','201406','201407','201408','201409','201410','201411','201412',\n",
    "                 '201501','201502','201503','201504','201505','201506','201507','201508','201509','201510','201511','201512',\n",
    "                 '201601','201602','201603','201604','201605','201606','201607','201608','201609','201610','201611','201612',\n",
    "                 '201701','201702','201703','201704','201705','201706','201707','201708','201709','201710','201711','201712',\n",
    "                 '201801','201802','201803','201804','201805','201806','201807','201808','201809','201810','201811','201812',\n",
    "                 ]\n",
    "\n",
    "# call the function to generate data.\n",
    "for mnyr in lstTimePeriod:\n",
    "    generateHistoricData(mnyr)\n",
    "\n",
    "# concatenate all the dataframes based on timeperiods into a single dataframe.\n",
    "dfVendorFinal = pd.concat(lstDataFrames,ignore_index=True)"
   ]
  },
  {
   "cell_type": "code",
   "execution_count": 2,
   "metadata": {},
   "outputs": [
    {
     "data": {
      "text/html": [
       "<div>\n",
       "<style scoped>\n",
       "    .dataframe tbody tr th:only-of-type {\n",
       "        vertical-align: middle;\n",
       "    }\n",
       "\n",
       "    .dataframe tbody tr th {\n",
       "        vertical-align: top;\n",
       "    }\n",
       "\n",
       "    .dataframe thead th {\n",
       "        text-align: right;\n",
       "    }\n",
       "</style>\n",
       "<table border=\"1\" class=\"dataframe\">\n",
       "  <thead>\n",
       "    <tr style=\"text-align: right;\">\n",
       "      <th></th>\n",
       "      <th>ProductType</th>\n",
       "      <th>VendorName</th>\n",
       "      <th>ProductPrice</th>\n",
       "      <th>Is_Selected</th>\n",
       "      <th>MonthYear</th>\n",
       "    </tr>\n",
       "  </thead>\n",
       "  <tbody>\n",
       "    <tr>\n",
       "      <th>8395</th>\n",
       "      <td>P01</td>\n",
       "      <td>V096</td>\n",
       "      <td>499.01</td>\n",
       "      <td>0</td>\n",
       "      <td>201812</td>\n",
       "    </tr>\n",
       "    <tr>\n",
       "      <th>8396</th>\n",
       "      <td>P01</td>\n",
       "      <td>V097</td>\n",
       "      <td>504.77</td>\n",
       "      <td>0</td>\n",
       "      <td>201812</td>\n",
       "    </tr>\n",
       "    <tr>\n",
       "      <th>8397</th>\n",
       "      <td>P01</td>\n",
       "      <td>V098</td>\n",
       "      <td>498.28</td>\n",
       "      <td>0</td>\n",
       "      <td>201812</td>\n",
       "    </tr>\n",
       "    <tr>\n",
       "      <th>8398</th>\n",
       "      <td>P01</td>\n",
       "      <td>V099</td>\n",
       "      <td>497.54</td>\n",
       "      <td>0</td>\n",
       "      <td>201812</td>\n",
       "    </tr>\n",
       "    <tr>\n",
       "      <th>8399</th>\n",
       "      <td>P01</td>\n",
       "      <td>V0100</td>\n",
       "      <td>503.79</td>\n",
       "      <td>0</td>\n",
       "      <td>201812</td>\n",
       "    </tr>\n",
       "  </tbody>\n",
       "</table>\n",
       "</div>"
      ],
      "text/plain": [
       "     ProductType VendorName  ProductPrice  Is_Selected MonthYear\n",
       "8395         P01       V096        499.01            0    201812\n",
       "8396         P01       V097        504.77            0    201812\n",
       "8397         P01       V098        498.28            0    201812\n",
       "8398         P01       V099        497.54            0    201812\n",
       "8399         P01      V0100        503.79            0    201812"
      ]
     },
     "execution_count": 2,
     "metadata": {},
     "output_type": "execute_result"
    }
   ],
   "source": [
    "#dfVendorFinal.describe()\n",
    "dfVendorFinal.tail()"
   ]
  },
  {
   "cell_type": "code",
   "execution_count": 3,
   "metadata": {},
   "outputs": [],
   "source": [
    "# Split the input and output features.\n",
    "# Input\n",
    "X_Input  = dfVendorFinal[['ProductPrice']]\n",
    "# Output\n",
    "Y_Output = dfVendorFinal[['Is_Selected']] "
   ]
  },
  {
   "cell_type": "markdown",
   "metadata": {},
   "source": [
    "#### [2]: Instantiate the class."
   ]
  },
  {
   "cell_type": "code",
   "execution_count": 4,
   "metadata": {},
   "outputs": [],
   "source": [
    "# Instantiate and Consume the class.\n",
    "from classMLModelingPipeline import *\n",
    "# Import json module.  \n",
    "import json\n",
    "import os\n",
    "cwd = str(os.getcwd()) + \"\\\\\"\n",
    "cwd = cwd.replace(\"\\\\\",\"\\\\\\\\\")\n",
    "\n",
    "\n",
    "#===== Scope within the py file ==================================================\n",
    "# Path of the App config file. This will be hard coded.\n",
    "appConfigFile = cwd + 'AppConfig.txt'\n",
    "# Class name.\n",
    "s_classApplication = 'classMLModelingPipeline'\n",
    "#=================================================================================\n",
    "# Error description.\n",
    "error_desc = ''\n",
    "\n",
    "#===== Get App config details =======================================================\n",
    "def GetAppConfig():\n",
    "    #==== This variable will have global scope within this .py file =================\n",
    "    global error_desc\n",
    "    error_desc = 'No error'\n",
    "    #===============================================================================\n",
    "    # Open and read the App Configuration using json.\n",
    "    with open(appConfigFile) as json_file:\n",
    "        # Load the App config details.\n",
    "        data = json.load(json_file)\n",
    "        # For each entry in json, extract App config parameters.\n",
    "        for p in data['AppConfig']:\n",
    "            appConfig = modMLModelingPipeline   (   p['Id'],\n",
    "                                                    p['Name'],\n",
    "                                                    p['Source'],\n",
    "                                                    p['Output'],\n",
    "                                                    p['TrainedModel'],\n",
    "                                                    p['ExecutionLog'],\n",
    "                                                    p['ExecutionLogFileName'],\n",
    "                                                    p['Archive']\n",
    "                                                 )\n",
    "    return appConfig\n",
    "#=====================================================================================\n",
    "# Call the below code, when the python file is run.\n",
    "#if __name__ == \"__main__\":\n",
    "if 1==1:\n",
    "    # Call function to instantiate the class.\n",
    "    applConfig = GetAppConfig()\n",
    "    # Create Application directories.\n",
    "    _ = applConfig.CreateAppDirectories()"
   ]
  },
  {
   "cell_type": "markdown",
   "metadata": {},
   "source": [
    "#### [2]: Time Based Splitting : Training, Cross-valdation and Test"
   ]
  },
  {
   "cell_type": "code",
   "execution_count": 5,
   "metadata": {},
   "outputs": [],
   "source": [
    "# Get the total row count.\n",
    "total_rowCount = len(X_Input)\n",
    "# Is time based splitting of dataset required.\n",
    "IsTimeBasedSplitting = 1\n",
    "# Data split ratio for train, cv and test set.\n",
    "Training_split_ratio = 0.6\n",
    "Crossvalidation_split_ratio = 0.2\n",
    "Test_split_ratio = 0.2\n",
    "\n",
    "# Call the method to split the data.\n",
    "X_train,X_cv,X_test,Y_train,Y_cv,Y_test = applConfig.split_data(dfX = X_Input,\n",
    "                                                                dfY = Y_Output,\n",
    "                                                                total_rowCount = total_rowCount,\n",
    "                                                                IsTimeBasedSplitting = IsTimeBasedSplitting,\n",
    "                                                                Training_split_ratio = Training_split_ratio,\n",
    "                                                                Crossvalidation_split_ratio = Crossvalidation_split_ratio,\n",
    "                                                                Test_split_ratio = Test_split_ratio)\n"
   ]
  },
  {
   "cell_type": "markdown",
   "metadata": {},
   "source": [
    "#### [3]: Standardize the Data :"
   ]
  },
  {
   "cell_type": "code",
   "execution_count": 6,
   "metadata": {},
   "outputs": [
    {
     "name": "stdout",
     "output_type": "stream",
     "text": [
      "C:\\Users\\HP\\DevEnv\\Projects\\VendorSelection\\VendorRanking_POC\\TrainedModel\\trainedStandardizer_1001\n"
     ]
    }
   ],
   "source": [
    "# Standardize the data.\n",
    "normalizer,X_train_stdzd,X_cv_stdzd, X_test_stdzd, \\\n",
    "Y_train_ravel,Y_cv_ravel,Y_test_ravel = applConfig.standardize_data( X_train,\n",
    "                                                                     X_cv,\n",
    "                                                                     X_test,\n",
    "                                                                     Y_train,\n",
    "                                                                     Y_cv,\n",
    "                                                                     Y_test,\n",
    "                                                                     IsNormalize=0)\n",
    "# Pickle the standardizer.\n",
    "pklTrainedStandardizer = applConfig.PickleTrainedObject('TN',normalizer)\n",
    "print(pklTrainedStandardizer)"
   ]
  },
  {
   "cell_type": "code",
   "execution_count": 74,
   "metadata": {},
   "outputs": [],
   "source": [
    "# Do not standardize, but create an array of the data.\n",
    "X_train_stdzd = X_train['ProductPrice'].to_numpy()\n",
    "X_cv_stdzd    = X_cv['ProductPrice'].to_numpy()\n",
    "X_test_stdzd  = X_test['ProductPrice'].to_numpy()\n",
    "Y_train_ravel = Y_train['Is_Selected'].to_numpy()\n",
    "Y_cv_ravel    = Y_cv['Is_Selected'].to_numpy()\n",
    "Y_test_ravel  = Y_test['Is_Selected'].to_numpy()\n",
    "\n",
    "# Reshape them to 2D array.\n",
    "X_train_stdzd = X_train_stdzd.reshape(len(X_train_stdzd),1)\n",
    "X_cv_stdzd    = X_cv_stdzd.reshape(len(X_cv_stdzd),1)\n",
    "X_test_stdzd  = X_test_stdzd.reshape(len(X_test_stdzd),1)\n",
    "Y_train_ravel = Y_train_ravel.reshape(len(Y_train_ravel),1)\n",
    "Y_cv_ravel    = Y_cv_ravel.reshape(len(Y_cv_ravel),1)\n",
    "Y_test_ravel  = Y_test_ravel.reshape(len(Y_test_ravel),1)\n"
   ]
  },
  {
   "cell_type": "code",
   "execution_count": null,
   "metadata": {},
   "outputs": [],
   "source": []
  },
  {
   "cell_type": "markdown",
   "metadata": {},
   "source": [
    "#### [4]: Hyper-parameter Tuning :"
   ]
  },
  {
   "cell_type": "code",
   "execution_count": 7,
   "metadata": {},
   "outputs": [],
   "source": [
    "gridResults,bestScore, \\\n",
    "optimal_HyperParameter = applConfig.GetModelHyperParameters(X_train_stdzd,\n",
    "                                                            Y_train_ravel)"
   ]
  },
  {
   "cell_type": "markdown",
   "metadata": {},
   "source": [
    "#### [5]: Model training."
   ]
  },
  {
   "cell_type": "code",
   "execution_count": 8,
   "metadata": {},
   "outputs": [
    {
     "data": {
      "image/png": "[encoded data removed]",
      "text/plain": [
       "<Figure size 360x360 with 2 Axes>"
      ]
     },
     "metadata": {
      "needs_background": "light"
     },
     "output_type": "display_data"
    }
   ],
   "source": [
    "# Get the trained model with the optimal hyperparameter.\n",
    "lr_optimal = applConfig.GetTrainedModel(X_train_stdzd,\n",
    "                                        Y_train_ravel,\n",
    "                                        optimal_HyperParameter)\n",
    "\n",
    "# Get the calibrated model.\n",
    "calibratedCCV = applConfig.GetCalibratedModel( lr_optimal,\n",
    "                                               X_train_stdzd,\n",
    "                                               Y_train_ravel)\n",
    "\n",
    "# Get the predictions from the test set.\n",
    "Y_pred_test = applConfig.GetPredictions( lr_optimal,\n",
    "                                         X_test_stdzd)\n",
    "\n",
    "# Get the calibrated predictions from the test set.\n",
    "Y_pred_calib = applConfig.GetCalibratedPredictions( calibratedCCV,\n",
    "                                                    X_test_stdzd)\n",
    "\n",
    "# Get the model confusion matrix\n",
    "plt , confmat, \\\n",
    "tn, fp, fn, tp = applConfig.GetModelConfusionMatrixForBinaryClass(Y_test,\n",
    "                                                                  Y_pred_test)"
   ]
  },
  {
   "cell_type": "markdown",
   "metadata": {},
   "source": [
    "#### [6] : Model Evaluation."
   ]
  },
  {
   "cell_type": "code",
   "execution_count": 9,
   "metadata": {},
   "outputs": [
    {
     "name": "stdout",
     "output_type": "stream",
     "text": [
      "Actual Negative Class:  1663\n",
      "Actual Positive Class:  17\n"
     ]
    },
    {
     "data": {
      "image/png": "[encoded data removed]",
      "text/plain": [
       "<Figure size 432x288 with 1 Axes>"
      ]
     },
     "metadata": {
      "needs_background": "light"
     },
     "output_type": "display_data"
    },
    {
     "name": "stdout",
     "output_type": "stream",
     "text": [
      "ROC AUC Score: 0.9965158643132539\n"
     ]
    }
   ],
   "source": [
    "# Get the actual class distribution from the test set.\n",
    "negative_class = Y_test['Is_Selected'].value_counts()[0]\n",
    "positive_class = Y_test['Is_Selected'].value_counts()[1]\n",
    "print(\"Actual Negative Class: \",negative_class)\n",
    "print(\"Actual Positive Class: \",positive_class)\n",
    "\n",
    "# Get the ROC value.\n",
    "import matplotlib.pyplot as plt1\n",
    "%matplotlib inline\n",
    "\n",
    "plt1,roc_score = applConfig.GetModelROCForBinaryClass(Y_test_ravel,Y_pred_calib)\n",
    "plt1.show()\n",
    "\n",
    "print(\"ROC AUC Score:\",roc_score)"
   ]
  },
  {
   "cell_type": "markdown",
   "metadata": {},
   "source": [
    "#### [7]: Write Model Metrics To Log."
   ]
  },
  {
   "cell_type": "code",
   "execution_count": 10,
   "metadata": {},
   "outputs": [],
   "source": [
    "# Generate Model trace.\n",
    "# Set the model trace parameters.\n",
    "modelTrace = \"[ModelHyperParameters]:[\" + str(gridResults) + \"];\"\n",
    "modelTrace = modelTrace + \"[ModelOptimalHyperParameter]:[\" + str(optimal_HyperParameter) + \"];\"\n",
    "modelTrace = modelTrace + \"[Class_Labels]:[NotSelected|Selected];\"\n",
    "modelTrace = modelTrace + \"[ModelConfusionMatrix]:[\" + str(confmat) + \"];\"\n",
    "modelTrace = modelTrace + \"[ModelROC_AUC]:[\" + str(roc_score) + \"];\"\n",
    "modelTrace = modelTrace + \"[Actual_ClassDistribution]:[\" + str(negative_class) + \"|\" + str(positive_class) + \"];\"\n",
    "\n",
    "# Call method to write the model trace to log.\n",
    "applConfig.WriteToActivityLog(classApplication  = s_classApplication,\n",
    "                              classMethod       = 'General',\n",
    "                              statusType        = 'Success',\n",
    "                              statusDescription = modelTrace)"
   ]
  },
  {
   "cell_type": "markdown",
   "metadata": {},
   "source": [
    "#### [8]: Pickle The Trained Model."
   ]
  },
  {
   "cell_type": "code",
   "execution_count": 11,
   "metadata": {},
   "outputs": [
    {
     "name": "stdout",
     "output_type": "stream",
     "text": [
      "C:\\Users\\HP\\DevEnv\\Projects\\VendorSelection\\VendorRanking_POC\\TrainedModel\\trainedModel_1001\n",
      "C:\\Users\\HP\\DevEnv\\Projects\\VendorSelection\\VendorRanking_POC\\TrainedModel\\trainedCalibratedModel_1001\n"
     ]
    }
   ],
   "source": [
    "# Pickle the trained Model.\n",
    "pklTrainedModel = applConfig.PickleTrainedObject('TM',lr_optimal)\n",
    "print(pklTrainedModel)\n",
    "pklTrainedCalibratedModel = applConfig.PickleTrainedObject('TCM',calibratedCCV)\n",
    "print(pklTrainedCalibratedModel)"
   ]
  },
  {
   "cell_type": "code",
   "execution_count": null,
   "metadata": {},
   "outputs": [],
   "source": []
  },
  {
   "cell_type": "markdown",
   "metadata": {},
   "source": [
    "#### II. Prediction : On New Query Point / Data"
   ]
  },
  {
   "cell_type": "markdown",
   "metadata": {},
   "source": [
    "#### [8]: Data Preparation : New Unseen Point"
   ]
  },
  {
   "cell_type": "code",
   "execution_count": 12,
   "metadata": {},
   "outputs": [],
   "source": [
    "# Import the libraries.\n",
    "import numpy as np\n",
    "import pandas as pd\n",
    "import random\n",
    "import warnings\n",
    "warnings.filterwarnings(\"ignore\")\n",
    "from prettytable import PrettyTable\n",
    "\n",
    "# List containing dataframes.\n",
    "lstDataFramesCurrent = []\n",
    "# Number of rows to generate.\n",
    "rowNum = 100\n",
    "\n",
    "\n",
    "def generateCurrentData(monthYear):\n",
    "    \"\"\"\n",
    "    Function to generate the current data.\n",
    "    \"\"\"\n",
    "    # Define the columns.\n",
    "    columns =['ProductType','VendorName','ProductPrice']\n",
    "    # Define the indexes\n",
    "    index   = np.arange(rowNum)\n",
    "    # build the vendor data.\n",
    "    producttype = ['P01' for i in np.arange(rowNum)]\n",
    "    vendorcode = ['V0'+ str(i+1) for i in np.arange(rowNum)]\n",
    "    productprice = [round(random.uniform(495,505),2) for i in np.arange(rowNum)]\n",
    "    # combine the product,vendor,price\n",
    "    data = zip(producttype,vendorcode,productprice)\n",
    "    # create the dataframe with the above data.\n",
    "    dfVendorNew = pd.DataFrame(index=index,columns = columns,data=data)\n",
    "    # Add a timeperiod column.\n",
    "    dfVendorNew['MonthYear'] = monthYear\n",
    "\n",
    "    # add the dataframe to a list.\n",
    "    lstDataFramesCurrent.append(dfVendorNew)\n",
    " # function scope ends here.\n",
    "\n",
    "\n",
    "#List of timeperiods for which data needs to be generated.\n",
    "lstTimePeriodCurrent = ['201901']\n",
    "\n",
    "# call the function to generate data.\n",
    "for mnyr in lstTimePeriodCurrent:\n",
    "    generateCurrentData(mnyr)\n",
    "\n",
    "# concatenate the current timeperiod into a single dataframe.\n",
    "dfVendorFinalCurrent = pd.concat(lstDataFramesCurrent,ignore_index=True)\n",
    "\n",
    "# Generate the unlabelled data for modelling with feature inclusion.\n",
    "X_unlabelled = dfVendorFinalCurrent[['ProductPrice']][dfVendorFinalCurrent['MonthYear'].isin(['201901'])]\n",
    "\n",
    "# Standardize the unlabelled data.\n",
    "# Load the standardizer from the pickle.\n",
    "scaler = applConfig.GetTrainedObjectFromPickle('TN')\n",
    "X_unlabelled_stdzd  = scaler.transform(X_unlabelled)\n",
    "\n",
    "#X_unlabelled_stdzd = X_unlabelled['ProductPrice'].to_numpy()\n",
    "#X_unlabelled_stdzd = X_unlabelled_stdzd.reshape(rowNum,1)"
   ]
  },
  {
   "cell_type": "code",
   "execution_count": 13,
   "metadata": {},
   "outputs": [
    {
     "data": {
      "text/plain": [
       "array([[-0.74258706],\n",
       "       [ 0.28138787],\n",
       "       [ 0.77775538],\n",
       "       [-1.32573211],\n",
       "       [ 0.1217172 ]])"
      ]
     },
     "execution_count": 13,
     "metadata": {},
     "output_type": "execute_result"
    }
   ],
   "source": [
    "X_test_stdzd[:5]"
   ]
  },
  {
   "cell_type": "code",
   "execution_count": 14,
   "metadata": {},
   "outputs": [
    {
     "data": {
      "text/plain": [
       "array([[ 0.11015887],\n",
       "       [ 1.12621069],\n",
       "       [-0.73541446],\n",
       "       [-0.22397897],\n",
       "       [ 1.53876865]])"
      ]
     },
     "execution_count": 14,
     "metadata": {},
     "output_type": "execute_result"
    }
   ],
   "source": [
    "X_unlabelled_stdzd[:5]"
   ]
  },
  {
   "cell_type": "markdown",
   "metadata": {},
   "source": [
    "#### [9]: Model prediction on unlabelled data."
   ]
  },
  {
   "cell_type": "code",
   "execution_count": 15,
   "metadata": {},
   "outputs": [],
   "source": [
    "# Load the trained model from the pickle.\n",
    "lr_optimal = applConfig.GetTrainedObjectFromPickle('TM')\n",
    "calibratedCCV = applConfig.GetTrainedObjectFromPickle('TCM')\n",
    "\n",
    "# predict,response from the Logistic Regression model.\n",
    "Y_pred_unlabelled = applConfig.GetPredictionsOnUnseenData(lr_optimal,\n",
    "                                                          X_unlabelled_stdzd)  \n",
    "# predict class probabilities on the unlabelledset.\n",
    "Y_pred_unlabelled_calib = applConfig.GetCalibratedPredictionsOnUnseenData(calibratedCCV,\n",
    "                                                                          X_unlabelled_stdzd)[:]   \n",
    "\n",
    "#Update the dataframe with the predicted values and probabilities.\n",
    "dfVendorFinalCurrent['Is_Selected_Predicted'] = Y_pred_unlabelled\n",
    "dfVendorFinalCurrent['Likehood_Score'] = Y_pred_unlabelled_calib\n"
   ]
  },
  {
   "cell_type": "code",
   "execution_count": 16,
   "metadata": {},
   "outputs": [
    {
     "data": {
      "text/html": [
       "<div>\n",
       "<style scoped>\n",
       "    .dataframe tbody tr th:only-of-type {\n",
       "        vertical-align: middle;\n",
       "    }\n",
       "\n",
       "    .dataframe tbody tr th {\n",
       "        vertical-align: top;\n",
       "    }\n",
       "\n",
       "    .dataframe thead th {\n",
       "        text-align: right;\n",
       "    }\n",
       "</style>\n",
       "<table border=\"1\" class=\"dataframe\">\n",
       "  <thead>\n",
       "    <tr style=\"text-align: right;\">\n",
       "      <th></th>\n",
       "      <th>ProductType</th>\n",
       "      <th>VendorName</th>\n",
       "      <th>ProductPrice</th>\n",
       "      <th>MonthYear</th>\n",
       "      <th>Is_Selected_Predicted</th>\n",
       "      <th>Likehood_Score</th>\n",
       "    </tr>\n",
       "  </thead>\n",
       "  <tbody>\n",
       "    <tr>\n",
       "      <th>0</th>\n",
       "      <td>P01</td>\n",
       "      <td>V01</td>\n",
       "      <td>500.33</td>\n",
       "      <td>201901</td>\n",
       "      <td>0</td>\n",
       "      <td>1.417286e-05</td>\n",
       "    </tr>\n",
       "    <tr>\n",
       "      <th>1</th>\n",
       "      <td>P01</td>\n",
       "      <td>V02</td>\n",
       "      <td>503.31</td>\n",
       "      <td>201901</td>\n",
       "      <td>0</td>\n",
       "      <td>6.999099e-08</td>\n",
       "    </tr>\n",
       "    <tr>\n",
       "      <th>2</th>\n",
       "      <td>P01</td>\n",
       "      <td>V03</td>\n",
       "      <td>497.85</td>\n",
       "      <td>201901</td>\n",
       "      <td>0</td>\n",
       "      <td>1.217192e-03</td>\n",
       "    </tr>\n",
       "    <tr>\n",
       "      <th>3</th>\n",
       "      <td>P01</td>\n",
       "      <td>V04</td>\n",
       "      <td>499.35</td>\n",
       "      <td>201901</td>\n",
       "      <td>0</td>\n",
       "      <td>8.201776e-05</td>\n",
       "    </tr>\n",
       "    <tr>\n",
       "      <th>4</th>\n",
       "      <td>P01</td>\n",
       "      <td>V05</td>\n",
       "      <td>504.52</td>\n",
       "      <td>201901</td>\n",
       "      <td>0</td>\n",
       "      <td>8.178225e-09</td>\n",
       "    </tr>\n",
       "  </tbody>\n",
       "</table>\n",
       "</div>"
      ],
      "text/plain": [
       "  ProductType VendorName  ProductPrice MonthYear  Is_Selected_Predicted  \\\n",
       "0         P01        V01        500.33    201901                      0   \n",
       "1         P01        V02        503.31    201901                      0   \n",
       "2         P01        V03        497.85    201901                      0   \n",
       "3         P01        V04        499.35    201901                      0   \n",
       "4         P01        V05        504.52    201901                      0   \n",
       "\n",
       "   Likehood_Score  \n",
       "0    1.417286e-05  \n",
       "1    6.999099e-08  \n",
       "2    1.217192e-03  \n",
       "3    8.201776e-05  \n",
       "4    8.178225e-09  "
      ]
     },
     "execution_count": 16,
     "metadata": {},
     "output_type": "execute_result"
    }
   ],
   "source": [
    "dfVendorFinalCurrent.head()"
   ]
  },
  {
   "cell_type": "code",
   "execution_count": 17,
   "metadata": {},
   "outputs": [
    {
     "data": {
      "text/html": [
       "<div>\n",
       "<style scoped>\n",
       "    .dataframe tbody tr th:only-of-type {\n",
       "        vertical-align: middle;\n",
       "    }\n",
       "\n",
       "    .dataframe tbody tr th {\n",
       "        vertical-align: top;\n",
       "    }\n",
       "\n",
       "    .dataframe thead th {\n",
       "        text-align: right;\n",
       "    }\n",
       "</style>\n",
       "<table border=\"1\" class=\"dataframe\">\n",
       "  <thead>\n",
       "    <tr style=\"text-align: right;\">\n",
       "      <th></th>\n",
       "      <th>ProductType</th>\n",
       "      <th>VendorName</th>\n",
       "      <th>ProductPrice</th>\n",
       "      <th>MonthYear</th>\n",
       "      <th>Is_Selected_Predicted</th>\n",
       "      <th>Likehood_Score</th>\n",
       "    </tr>\n",
       "  </thead>\n",
       "  <tbody>\n",
       "    <tr>\n",
       "      <th>45</th>\n",
       "      <td>P01</td>\n",
       "      <td>V046</td>\n",
       "      <td>495.23</td>\n",
       "      <td>201901</td>\n",
       "      <td>1</td>\n",
       "      <td>0.123842</td>\n",
       "    </tr>\n",
       "  </tbody>\n",
       "</table>\n",
       "</div>"
      ],
      "text/plain": [
       "   ProductType VendorName  ProductPrice MonthYear  Is_Selected_Predicted  \\\n",
       "45         P01       V046        495.23    201901                      1   \n",
       "\n",
       "    Likehood_Score  \n",
       "45        0.123842  "
      ]
     },
     "execution_count": 17,
     "metadata": {},
     "output_type": "execute_result"
    }
   ],
   "source": [
    "dfVendorFinalCurrent[dfVendorFinalCurrent['Is_Selected_Predicted'] == 1]"
   ]
  },
  {
   "cell_type": "code",
   "execution_count": 18,
   "metadata": {},
   "outputs": [
    {
     "data": {
      "text/html": [
       "<div>\n",
       "<style scoped>\n",
       "    .dataframe tbody tr th:only-of-type {\n",
       "        vertical-align: middle;\n",
       "    }\n",
       "\n",
       "    .dataframe tbody tr th {\n",
       "        vertical-align: top;\n",
       "    }\n",
       "\n",
       "    .dataframe thead th {\n",
       "        text-align: right;\n",
       "    }\n",
       "</style>\n",
       "<table border=\"1\" class=\"dataframe\">\n",
       "  <thead>\n",
       "    <tr style=\"text-align: right;\">\n",
       "      <th></th>\n",
       "      <th>ProductType</th>\n",
       "      <th>VendorName</th>\n",
       "      <th>ProductPrice</th>\n",
       "      <th>MonthYear</th>\n",
       "      <th>Is_Selected_Predicted</th>\n",
       "      <th>Likehood_Score</th>\n",
       "    </tr>\n",
       "  </thead>\n",
       "  <tbody>\n",
       "    <tr>\n",
       "      <th>45</th>\n",
       "      <td>P01</td>\n",
       "      <td>V046</td>\n",
       "      <td>495.23</td>\n",
       "      <td>201901</td>\n",
       "      <td>1</td>\n",
       "      <td>0.123842</td>\n",
       "    </tr>\n",
       "    <tr>\n",
       "      <th>34</th>\n",
       "      <td>P01</td>\n",
       "      <td>V035</td>\n",
       "      <td>495.76</td>\n",
       "      <td>201901</td>\n",
       "      <td>0</td>\n",
       "      <td>0.051058</td>\n",
       "    </tr>\n",
       "    <tr>\n",
       "      <th>52</th>\n",
       "      <td>P01</td>\n",
       "      <td>V053</td>\n",
       "      <td>495.93</td>\n",
       "      <td>201901</td>\n",
       "      <td>0</td>\n",
       "      <td>0.037986</td>\n",
       "    </tr>\n",
       "    <tr>\n",
       "      <th>22</th>\n",
       "      <td>P01</td>\n",
       "      <td>V023</td>\n",
       "      <td>496.00</td>\n",
       "      <td>201901</td>\n",
       "      <td>0</td>\n",
       "      <td>0.033597</td>\n",
       "    </tr>\n",
       "    <tr>\n",
       "      <th>23</th>\n",
       "      <td>P01</td>\n",
       "      <td>V024</td>\n",
       "      <td>496.23</td>\n",
       "      <td>201901</td>\n",
       "      <td>0</td>\n",
       "      <td>0.022373</td>\n",
       "    </tr>\n",
       "    <tr>\n",
       "      <th>39</th>\n",
       "      <td>P01</td>\n",
       "      <td>V040</td>\n",
       "      <td>496.42</td>\n",
       "      <td>201901</td>\n",
       "      <td>0</td>\n",
       "      <td>0.015948</td>\n",
       "    </tr>\n",
       "    <tr>\n",
       "      <th>81</th>\n",
       "      <td>P01</td>\n",
       "      <td>V082</td>\n",
       "      <td>496.93</td>\n",
       "      <td>201901</td>\n",
       "      <td>0</td>\n",
       "      <td>0.006387</td>\n",
       "    </tr>\n",
       "    <tr>\n",
       "      <th>10</th>\n",
       "      <td>P01</td>\n",
       "      <td>V011</td>\n",
       "      <td>496.96</td>\n",
       "      <td>201901</td>\n",
       "      <td>0</td>\n",
       "      <td>0.006051</td>\n",
       "    </tr>\n",
       "    <tr>\n",
       "      <th>80</th>\n",
       "      <td>P01</td>\n",
       "      <td>V081</td>\n",
       "      <td>497.14</td>\n",
       "      <td>201901</td>\n",
       "      <td>0</td>\n",
       "      <td>0.004376</td>\n",
       "    </tr>\n",
       "    <tr>\n",
       "      <th>87</th>\n",
       "      <td>P01</td>\n",
       "      <td>V088</td>\n",
       "      <td>497.17</td>\n",
       "      <td>201901</td>\n",
       "      <td>0</td>\n",
       "      <td>0.004146</td>\n",
       "    </tr>\n",
       "  </tbody>\n",
       "</table>\n",
       "</div>"
      ],
      "text/plain": [
       "   ProductType VendorName  ProductPrice MonthYear  Is_Selected_Predicted  \\\n",
       "45         P01       V046        495.23    201901                      1   \n",
       "34         P01       V035        495.76    201901                      0   \n",
       "52         P01       V053        495.93    201901                      0   \n",
       "22         P01       V023        496.00    201901                      0   \n",
       "23         P01       V024        496.23    201901                      0   \n",
       "39         P01       V040        496.42    201901                      0   \n",
       "81         P01       V082        496.93    201901                      0   \n",
       "10         P01       V011        496.96    201901                      0   \n",
       "80         P01       V081        497.14    201901                      0   \n",
       "87         P01       V088        497.17    201901                      0   \n",
       "\n",
       "    Likehood_Score  \n",
       "45        0.123842  \n",
       "34        0.051058  \n",
       "52        0.037986  \n",
       "22        0.033597  \n",
       "23        0.022373  \n",
       "39        0.015948  \n",
       "81        0.006387  \n",
       "10        0.006051  \n",
       "80        0.004376  \n",
       "87        0.004146  "
      ]
     },
     "execution_count": 18,
     "metadata": {},
     "output_type": "execute_result"
    }
   ],
   "source": [
    "dfVendorFinalCurrent.sort_values(by=['ProductPrice'],ascending=True).head(10)"
   ]
  },
  {
   "cell_type": "code",
   "execution_count": null,
   "metadata": {},
   "outputs": [],
   "source": []
  },
  {
   "cell_type": "markdown",
   "metadata": {},
   "source": [
    "#### Import class from different directory."
   ]
  },
  {
   "cell_type": "code",
   "execution_count": 84,
   "metadata": {},
   "outputs": [],
   "source": [
    "# Check, if path exists in system path,else add.\n",
    "if 'C:\\\\Users\\\\HP\\\\DevEnv\\\\Projects\\\\Test' in os.environ:\n",
    "    sys.path.append('C:\\\\Users\\\\HP\\\\DevEnv\\\\Projects\\\\Test')\n",
    "\n",
    "# Instantiate and Consume the class.\n",
    "from classGeneral import *\n",
    "# Import json module.  \n",
    "import json\n",
    "# Open and read the App Configuration using json.\n",
    "with open('C:\\\\Users\\\\HP\\\\DevEnv\\\\Projects\\\\Test\\\\AppConfig.txt') as json_file:\n",
    "    # Load the App config details.\n",
    "    data = json.load(json_file)\n",
    "    # For each entry in json, extract App config parameters.\n",
    "    for p in data['AppConfig']:\n",
    "        applConfig = ApplicationConfiguration(  p['Id'],\n",
    "                                                p['Name'],\n",
    "                                                p['Source'],\n",
    "                                                p['Output'],\n",
    "                                                p['TrainedModel'],\n",
    "                                                p['ExecutionLog'],\n",
    "                                                p['ExecutionLogFileName'],\n",
    "                                                p['Archive']\n",
    "                                              )\n",
    "#===== Write to activity log ============================================================\n",
    "s_classApplication  = 'classGeneral'\n",
    "s_classMethod       = 'CreateAppDirectories'\n",
    "s_statusType        = 'Success'\n",
    "#s_statusDescription = 'Successfull write operation.'\n",
    "s_statusDescription = str(conf_mat)\n",
    "applConfig.WriteToActivityLog(s_classApplication,\n",
    "                              s_classMethod,\n",
    "                              s_statusType,\n",
    "                              s_statusDescription\n",
    "                             )"
   ]
  },
  {
   "cell_type": "code",
   "execution_count": null,
   "metadata": {},
   "outputs": [],
   "source": []
  }
 ],
 "metadata": {
  "kernelspec": {
   "display_name": "Python 3",
   "language": "python",
   "name": "python3"
  },
  "language_info": {
   "codemirror_mode": {
    "name": "ipython",
    "version": 3
   },
   "file_extension": ".py",
   "mimetype": "text/x-python",
   "name": "python",
   "nbconvert_exporter": "python",
   "pygments_lexer": "ipython3",
   "version": "3.7.3"
  }
 },
 "nbformat": 4,
 "nbformat_minor": 2
}
