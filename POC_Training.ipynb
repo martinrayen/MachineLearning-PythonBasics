{
 "cells": [
  {
   "cell_type": "markdown",
   "metadata": {},
   "source": [
    "### This is the code to run the process, that trains from historic vendor information.\n",
    "    By : Joseph MTV\n",
    "    \n",
    "    Input  : The training file, uploaded by the user.\n",
    "    Output : The trained model, pickled to a configured \"Output\" folder.    "
   ]
  },
  {
   "cell_type": "markdown",
   "metadata": {},
   "source": [
    "### Assumptions:\n",
    "    => Feed template has an empty row, preceeding the column header. (Changes to this template, will require changes \n",
    "       to AppConfig.)\n",
    "    => Input feed file is an .xlsx file. The active sheet to be considered is to be configured in AppConfig.\n",
    "    => Footer rows will be dropped.\n",
    "    => Time period for the current training feed is 4 months. (April 2019 - July 2019)\n",
    "    => Delivery performance scores are computed for Delivery date and Delivered Qty only.\n",
    "    => Apply the following weighting rules:\n",
    "        1. Deviation in dates  * 0.4\n",
    "        2. Deviation in qty    * 0.4\n",
    "        3. VendorMaterialCount * 0.2\n",
    "    => Ranking is done on \n",
    "        (Deviation in dates  * 0.4) + (Deviation in qty    * 0.4) + (VendorMaterialCount * 0.2)"
   ]
  },
  {
   "cell_type": "markdown",
   "metadata": {},
   "source": [
    "### [1.00]: Import the required modules."
   ]
  },
  {
   "cell_type": "code",
   "execution_count": 1,
   "metadata": {},
   "outputs": [],
   "source": [
    "# Import the required modules.\n",
    "import os\n",
    "import re\n",
    "import wx             # Install it with pip.\n",
    "import sys\n",
    "import json\n",
    "import shutil         # Install it with pip.\n",
    "import numpy as np\n",
    "import pandas as pd\n",
    "from os import path\n",
    "from datetime import datetime\n",
    "from sklearn.utils import resample\n",
    "\n",
    "import matplotlib.pyplot as plt\n",
    "%matplotlib inline\n",
    "\n",
    "# Ignore warnings.\n",
    "import warnings\n",
    "warnings.filterwarnings('ignore')"
   ]
  },
  {
   "cell_type": "markdown",
   "metadata": {},
   "source": [
    "### [1.10]: Instantiate the ML pipeline class."
   ]
  },
  {
   "cell_type": "markdown",
   "metadata": {},
   "source": [
    "#### [1.11]: Prompt for file upload."
   ]
  },
  {
   "cell_type": "code",
   "execution_count": 2,
   "metadata": {},
   "outputs": [],
   "source": [
    "# Function to prompt the user to upload the file.\n",
    "def get_path(wildcard):\n",
    "    app = wx.App(None)\n",
    "    style = wx.FD_OPEN | wx.FD_FILE_MUST_EXIST\n",
    "    dialog = wx.FileDialog(None, 'Choose a training file.', wildcard=wildcard, style=style)\n",
    "    if dialog.ShowModal() == wx.ID_OK:\n",
    "        path = dialog.GetPath()\n",
    "    else:\n",
    "        path = None\n",
    "    dialog.Destroy()\n",
    "    return path"
   ]
  },
  {
   "cell_type": "markdown",
   "metadata": {},
   "source": [
    "#### [1.12] : Instantiate the ML Pipleline class"
   ]
  },
  {
   "cell_type": "code",
   "execution_count": 3,
   "metadata": {},
   "outputs": [
    {
     "name": "stdout",
     "output_type": "stream",
     "text": [
      "C:\\Users\\HP\\DevEnv\\Projects\\VendorSelection\\KPTL_POC\\Source\\\n"
     ]
    }
   ],
   "source": [
    "try:\n",
    "    # Call the funtion to get the input files.\n",
    "    #s_infile = get_path('*.csv')\n",
    "    s_infile = get_path('*.xlsx')\n",
    "    s_infile = s_infile.replace(\"\\\\\",\"\\\\\\\\\")\n",
    "\n",
    "    # Get the current working directory.\n",
    "    s_path = os.getcwd()\n",
    "    s_path = s_path.replace(\"\\\\\",\"\\\\\\\\\")\n",
    "    s_basefile = os.path.basename(s_infile)\n",
    "    s_basefile_csv = (os.path.splitext(s_basefile)[0]) + '.csv'\n",
    "\n",
    "    # Check, if path exists in system path,else add.\n",
    "    if s_path in os.environ:\n",
    "        sys.path.append(s_path)\n",
    "\n",
    "    # Instantiate and Consume the class.\n",
    "    from classMLModelingPipeline import *\n",
    "    # Open and read the App Configuration using json.\n",
    "    with open(s_path + '\\\\AppConfig.txt') as json_file:\n",
    "        # Load the App config details.\n",
    "        data = json.load(json_file)\n",
    "        # For each entry in json, extract App config parameters.\n",
    "        for p in data['AppConfig']:\n",
    "            applConfig = modMLModelingPipeline  (  p['Id'],\n",
    "                                                    p['Name'],\n",
    "                                                    p['Source'],\n",
    "                                                    p['Output'],\n",
    "                                                    p['TrainedModel'],\n",
    "                                                    p['ExecutionLog'],\n",
    "                                                    p['ExecutionLogFileName'],\n",
    "                                                    p['FeedActiveSheet'],\n",
    "                                                    p['FeedSkipRows'],\n",
    "                                                    p['Archive']\n",
    "                                                  )\n",
    "            print(applConfig.Source)\n",
    "    #===== Create Application Directories ============================================================\n",
    "    s_classApplication  = 'classMLModelingPipeline'\n",
    "    s_classMethod       = 'CreateAppDirectories'\n",
    "    s_statusType        = 'Success'\n",
    "    s_statusDescription = 'Successfull write operation.'\n",
    "    applConfig.CreateAppDirectories()\n",
    "    applConfig.WriteToActivityLog(s_classApplication,\n",
    "                                  s_classMethod,\n",
    "                                  s_statusType,\n",
    "                                  s_statusDescription\n",
    "                                 )\n",
    "except AttributeError:\n",
    "    s_statusDescription = 'No file has been choosen!!!!' \n",
    "    applConfig.WriteToActivityLog(s_classApplication,\n",
    "                                  s_classMethod,\n",
    "                                  s_statusType,\n",
    "                                  s_statusDescription\n",
    "                                 )    \n",
    "    raise Exception(s_statusDescription)\n",
    "except:\n",
    "    s_statusDescription = 'Unexpected error : ' \n",
    "    s_statusDescription = s_statusDescription + str(sys.exc_info())\n",
    "    applConfig.WriteToActivityLog(s_classApplication,\n",
    "                                  s_classMethod,\n",
    "                                  s_statusType,\n",
    "                                  s_statusDescription\n",
    "                                 )    \n",
    "    raise Exception(s_statusDescription)"
   ]
  },
  {
   "cell_type": "markdown",
   "metadata": {},
   "source": [
    "### [1.20]: Data loading"
   ]
  },
  {
   "cell_type": "code",
   "execution_count": 4,
   "metadata": {},
   "outputs": [],
   "source": [
    "try:\n",
    "    s_classMethod       = 'Data Loading'    \n",
    "    s_statusType        = 'Success'\n",
    "    feed_active_sheet   = applConfig.FeedActiveSheet\n",
    "    feed_skiprows       = int(applConfig.FeedSkipRows)\n",
    "    feed_skiprows_list  = list(range(int(feed_skiprows)))\n",
    "    if len(feed_skiprows_list) > 0:\n",
    "        # Read the input file.\n",
    "        data_xls = pd.read_excel(s_infile, feed_active_sheet, index_col=None,skiprows=feed_skiprows_list)\n",
    "    else:\n",
    "        data_xls = pd.read_excel(s_infile, feed_active_sheet, index_col=None)\n",
    "    # Drop empty rows.\n",
    "    data_xls.dropna(axis=0,how='any',inplace=True)\n",
    "    # Get the path to source directory from class.\n",
    "    s_in_source_file = applConfig.Source\n",
    "    s_in_source_file = s_in_source_file + s_basefile_csv\n",
    "\n",
    "    # Convert it to .csv utf-8 format.\n",
    "    data_xls.to_csv(s_in_source_file, encoding='utf-8')\n",
    "    \n",
    "    # Load the data from the csv file into pandas dataframe.\n",
    "    dfDataVendor = pd.read_csv(s_in_source_file\n",
    "                               ,parse_dates = ['Doc. Date','Del Date','GRN Date']\n",
    "                               ,infer_datetime_format = True\n",
    "                              )\n",
    "except:\n",
    "    s_statusType        = 'Error'    \n",
    "    s_statusDescription = 'Unexpected error : ' \n",
    "    s_statusDescription = s_statusDescription + str(sys.exc_info())\n",
    "    applConfig.WriteToActivityLog(s_classApplication,\n",
    "                                  s_classMethod,\n",
    "                                  s_statusType,\n",
    "                                  s_statusDescription\n",
    "                                 )    \n",
    "    raise Exception(s_statusDescription)    "
   ]
  },
  {
   "cell_type": "code",
   "execution_count": 5,
   "metadata": {},
   "outputs": [],
   "source": [
    "try:\n",
    "    s_classMethod       = 'Drop Unnamed Column'\n",
    "    s_statusType        = 'Success'\n",
    "    # Drop the unwanted column.\n",
    "    dfDataVendor.drop(columns=['Unnamed: 0'],inplace=True)\n",
    "except KeyError:\n",
    "    pass\n",
    "except:\n",
    "    s_statusType        = 'Error'\n",
    "    s_statusDescription = 'Unexpected error : ' \n",
    "    s_statusDescription = s_statusDescription + str(sys.exc_info())\n",
    "    applConfig.WriteToActivityLog(s_classApplication,\n",
    "                                  s_classMethod,\n",
    "                                  s_statusType,\n",
    "                                  s_statusDescription\n",
    "                                 )    \n",
    "    raise Exception(s_statusDescription)"
   ]
  },
  {
   "cell_type": "markdown",
   "metadata": {},
   "source": [
    "### [1.30]: Data pre-processing."
   ]
  },
  {
   "cell_type": "markdown",
   "metadata": {},
   "source": [
    "#### [1.31]: Extract VendorCode."
   ]
  },
  {
   "cell_type": "code",
   "execution_count": 6,
   "metadata": {},
   "outputs": [],
   "source": [
    "try:\n",
    "    s_classMethod       = 'Extract Vendor Code'\n",
    "    s_statusType        = 'Success'    \n",
    "    # Extract VendorCode from \"Supplier/Supplying Plant\" column.\n",
    "    dfDataVendor['VendorCode']  = dfDataVendor['Supplier/Supplying Plant'].str.extract('(\\d+)')\n",
    "    # Alternate way:\n",
    "    #dfDataVendor['VendorCode']  = dfDataVendor['Supplier/Supplying Plant'].str.extract('([0-9][0-9][0-9][0-9][0-9][0-9]+)')\n",
    "except:\n",
    "    s_statusType        = 'Error'\n",
    "    s_statusDescription = s_statusDescription + str(sys.exc_info())\n",
    "    applConfig.WriteToActivityLog(s_classApplication,\n",
    "                                  s_classMethod,\n",
    "                                  s_statusType,\n",
    "                                  s_statusDescription\n",
    "                                 )    \n",
    "    raise Exception(s_statusDescription)"
   ]
  },
  {
   "cell_type": "markdown",
   "metadata": {},
   "source": [
    "#### [1.32]: Inspect datatypes and perform validation."
   ]
  },
  {
   "cell_type": "code",
   "execution_count": 7,
   "metadata": {},
   "outputs": [],
   "source": [
    "def GetValidExceptionForDates(lstDateColumns,  # list of date columns to validate.\n",
    "                              dfData,          # data frame of the input data.\n",
    "                              infile_skiprows  # number of rows to skip in the begining from the input file.\n",
    "                             ):\n",
    "    # Initialize.\n",
    "    validationException = ''\n",
    "    validException_item = ''\n",
    "    # Corrected Row_index in source file.\n",
    "    cRowIndex = infile_skiprows + 2\n",
    "    # Build the Validation Exception message.\n",
    "    validExceptionPresent = 0\n",
    "    #validExcept_header = \"'ValidationException':\"\n",
    "    validExcept_body   = \"'Incorrect_DateFormat' : [\"\n",
    "    validExcept_bodyfooter = \"]\"\n",
    "    # Loop through the list of Date columns.\n",
    "    for itm in lstDateColumns:\n",
    "        # Validate columns.\n",
    "        dfDateCheck = pd.to_datetime(dfData[itm],errors='coerce')\n",
    "        # Get the row indices, where the validation exception occurred.\n",
    "        lstDateExceptions = list(dfDateCheck[dfDateCheck.isnull()].index+cRowIndex)\n",
    "        if len(lstDateExceptions) > 0:\n",
    "            validExceptionPresent = 1\n",
    "            validException_item = validException_item + \"'\" + itm + \"':\" + str(lstDateExceptions) + \",\"\n",
    "\n",
    "    if validExceptionPresent:\n",
    "        # Remove extra comma.\n",
    "        validException_item = validException_item[:-1]\n",
    "        # Build the Validation Exception Message.\n",
    "        validationException = validExcept_body + validException_item + validExcept_bodyfooter\n",
    "    return validationException"
   ]
  },
  {
   "cell_type": "code",
   "execution_count": 8,
   "metadata": {},
   "outputs": [],
   "source": [
    "def GetValidExceptionForNumeric(lstNumericColumns,  # list of date columns to validate.\n",
    "                                dfData,          # data frame of the input data.\n",
    "                                infile_skiprows  # number of rows to skip in the begining from the input file.\n",
    "                               ):\n",
    "    # Initialize.\n",
    "    validationException = ''\n",
    "    validException_item = ''\n",
    "    # Corrected Row_index in source file.\n",
    "    cRowIndex = infile_skiprows + 2\n",
    "    # Build the Validation Exception message.\n",
    "    validExceptionPresent = 0\n",
    "    #validExcept_header = \"'ValidationException':\"\n",
    "    validExcept_body   = \"'Incorrect_NumericFormat' : [\"\n",
    "    validExcept_bodyfooter = \"]\"\n",
    "    # Loop through the list of Date columns.\n",
    "    for itm in lstNumericColumns:\n",
    "        # Validate columns.\n",
    "        dfNumericCheck = pd.to_numeric(dfData[itm],errors='coerce')\n",
    "        lstNumericExceptions = list(dfNumericCheck[dfNumericCheck.isnull()].index+cRowIndex)\n",
    "        if len(lstNumericExceptions) > 0:\n",
    "            validExceptionPresent = 1\n",
    "            validException_item = validException_item + \"'\" + itm + \"':\" + str(lstNumericExceptions) + \",\"\n",
    "\n",
    "    if validExceptionPresent:\n",
    "        # Remove extra comma.\n",
    "        validException_item = validException_item[:-1]\n",
    "        # Build the Validation Exception Message.\n",
    "        validationException = validExcept_body + validException_item + validExcept_bodyfooter\n",
    "    return validationException"
   ]
  },
  {
   "cell_type": "code",
   "execution_count": 9,
   "metadata": {},
   "outputs": [],
   "source": [
    "try:\n",
    "    # Consolidate error description to write to log.\n",
    "    #======= Validate Numeric columns ========================================================================================\n",
    "    raise_Except = 0\n",
    "    validationException = ''\n",
    "    strComma = ''\n",
    "    validExcept_header = \"'ValidationException':\"\n",
    "    s_statusType        = 'ValidationException'    \n",
    "    s_classMethod       = 'Parse Datatypes'\n",
    "    # Convert date column's datatype from string to datetime.\n",
    "    lstNumericCols = ['Sum of PO Quantity','Sum of      Net Price','Sum of PO Value', 'Sum of GRN Qty','Sum of GRN Val']\n",
    "    exceptMessage = GetValidExceptionForNumeric(lstNumericColumns = lstNumericCols, # list of numeric columns to validate.\n",
    "                                              dfData = dfDataVendor,             # data frame of the input data.\n",
    "                                              infile_skiprows = feed_skiprows    # number of rows to skip in the begining from the input file.\n",
    "                                             )\n",
    "    if len(exceptMessage) > 0:\n",
    "        raise_Except = 1\n",
    "        s_statusDescription = exceptMessage\n",
    "\n",
    "    #======= Validate Date columns =====================================================================================\n",
    "    # set the class name and status.\n",
    "    # Convert date column's datatype from string to datetime.\n",
    "    lstDateCols = ['Doc. Date','Del Date','GRN Date']\n",
    "    # Get the validation exceptions.\n",
    "    exceptMessage = GetValidExceptionForDates(lstDateColumns = lstDateCols, # list of date columns to validate.\n",
    "                                              dfData = dfDataVendor,           # data frame of the input data.\n",
    "                                              infile_skiprows = feed_skiprows  # number of rows to skip in the begining from the input file.\n",
    "                                             )\n",
    "    # If validation exception found.\n",
    "    if len(exceptMessage) > 0:\n",
    "        if raise_Except == 1:\n",
    "            strComma = ','\n",
    "        raise_Except = 1\n",
    "        s_statusDescription = s_statusDescription + strComma + exceptMessage\n",
    "    \n",
    "    if raise_Except:\n",
    "        validationException = validExcept_header + '{' + s_statusDescription + '}'\n",
    "        # Write to log.\n",
    "        applConfig.WriteToActivityLog(s_classApplication,\n",
    "                                      s_classMethod,\n",
    "                                      s_statusType,\n",
    "                                      s_statusDescription\n",
    "                                     ) \n",
    "        \n",
    "        raise Exception('Data validation error/s occured. Please check the application log.')\n",
    "        \n",
    "except:\n",
    "    s_statusType        = 'Error'\n",
    "    s_statusDescription = validationException + str(sys.exc_info())\n",
    "    applConfig.WriteToActivityLog(s_classApplication,\n",
    "                                  s_classMethod,\n",
    "                                  s_statusType,\n",
    "                                  s_statusDescription\n",
    "                                 )    \n",
    "    raise Exception(s_statusDescription)    "
   ]
  },
  {
   "cell_type": "markdown",
   "metadata": {},
   "source": [
    "#### [1.33]: Export data cleansed, so far to .csv format for inspection."
   ]
  },
  {
   "cell_type": "code",
   "execution_count": 10,
   "metadata": {},
   "outputs": [],
   "source": [
    "# Export the date columns to a csv file and manually inspect for anamolies.\n",
    "dfDataVendor[['GRN Date','Doc. Date','Del Date','VendorCode']].to_csv('Data_Inspect.csv')\n",
    "\n",
    "dfDataVendorMaxDate = dfDataVendor.copy()"
   ]
  },
  {
   "cell_type": "markdown",
   "metadata": {},
   "source": [
    "#### [1.34]: Calculate the deviation metrics. Calculate material count supplied by vendor."
   ]
  },
  {
   "cell_type": "code",
   "execution_count": 11,
   "metadata": {},
   "outputs": [],
   "source": [
    "try:\n",
    "    s_classMethod       = 'Calculate deviation metrics'\n",
    "    s_statusType        = 'Success'    \n",
    "    # Deviation in expected vs actual delivery dates.\n",
    "    dfDataVendorMaxDate['Deviation_DeliveryDate'] = (dfDataVendorMaxDate['GRN Date'] - dfDataVendorMaxDate['Del Date']).dt.days\n",
    "\n",
    "    # Deviation in expected vs actual delivered quantity.\n",
    "    dfDataVendorMaxDate['Deviation_DeliveredQty'] = (dfDataVendorMaxDate['Sum of PO Quantity'] - dfDataVendorMaxDate['Sum of GRN Qty']) \\\n",
    "    /dfDataVendorMaxDate['Sum of PO Quantity']\n",
    "\n",
    "    # Round of to the nearest 3rd decimal.\n",
    "    #dfDataVendorMaxDate['Deviation_DeliveredQty'] = dfDataVendorMaxDate['Deviation_DeliveredQty'].round(3)\n",
    "    dfDataVendorMaxDate['Deviation_DeliveredQty'] = np.abs(dfDataVendorMaxDate['Deviation_DeliveredQty'].round(3))\n",
    "\n",
    "    # Deviation in expected vs actual delivered value.\n",
    "    dfDataVendorMaxDate['Deviation_DeliveredValue'] = (dfDataVendorMaxDate['Sum of PO Value'] - dfDataVendorMaxDate['Sum of GRN Val']) \\\n",
    "    /dfDataVendorMaxDate['Sum of PO Value']\n",
    "\n",
    "    # Round of to the nearest 3rd decimal.\n",
    "    #dfDataVendorMaxDate['Deviation_DeliveredValue'] = dfDataVendorMaxDate['Deviation_DeliveredValue'].round(3)\n",
    "    dfDataVendorMaxDate['Deviation_DeliveredValue'] = np.abs(dfDataVendorMaxDate['Deviation_DeliveredValue'].round(3))\n",
    "\n",
    "    # Handle negative deviations in quantity and value. Delivered more qty/value than the PO contract.\n",
    "    dfDataVendorMaxDate.loc[dfDataVendorMaxDate['Deviation_DeliveredQty']   < 0.0,  'Deviation_DeliveredQty'] = 0.0\n",
    "    dfDataVendorMaxDate.loc[dfDataVendorMaxDate['Deviation_DeliveredValue'] < 0.0,'Deviation_DeliveredValue'] = 0.0\n",
    "    \n",
    "    # Get the unique Material/Vendor combo.\n",
    "    dfMaterialCountByVendor = dfDataVendorMaxDate[['Material','VendorCode']].drop_duplicates()\n",
    "    # Get distinct material count supplied by Vendor.\n",
    "    dfMaterialCountByVendor = dfDataVendorMaxDate.groupby(['VendorCode']).agg({'Material':'count'}) \\\n",
    "                                                 .reindex(['Material'],axis=1) \\\n",
    "                                                 .reset_index()\n",
    "    # Upload to a csv file.\n",
    "    dfMaterialCountByVendor.to_csv('MaterialSuppliedByVendor.csv')\n",
    "\n",
    "    # Rename the material column to MaterialCountByVendor in df dfMaterialCountByVendor\n",
    "    dfMaterialCountByVendor.rename(columns={'Material':'MaterialCountByVendor'}, inplace=True)\n",
    "    # Update the material count by vendor back to the main dataframe.\n",
    "    dfDataVendorMaxDate = dfDataVendorMaxDate.merge(dfMaterialCountByVendor,on=['VendorCode'],how='inner')    \n",
    "\n",
    "except:\n",
    "    s_statusType        = 'Error'\n",
    "    s_statusDescription = str(sys.exc_info())\n",
    "    applConfig.WriteToActivityLog(s_classApplication,\n",
    "                                  s_classMethod,\n",
    "                                  s_statusType,\n",
    "                                  s_statusDescription\n",
    "                                 )    \n",
    "    raise Exception(s_statusDescription)    "
   ]
  },
  {
   "cell_type": "code",
   "execution_count": 12,
   "metadata": {},
   "outputs": [],
   "source": [
    "dfDataVendorMaxDate[['Material','VendorCode','Del Date','GRN Date','Sum of      Net Price', \\\n",
    "                     'Sum of PO Quantity','Sum of PO Value','Sum of GRN Qty','Sum of GRN Val', \\\n",
    "                     'Deviation_DeliveryDate','Deviation_DeliveredQty','Deviation_DeliveredValue','MaterialCountByVendor'\n",
    "                    ]].to_csv('MaterialVendor_Deviation_Before_Rollup.csv')"
   ]
  },
  {
   "cell_type": "markdown",
   "metadata": {},
   "source": [
    "#### [1.35]: Get the latest data for multiple vendor occurence for the given snapshot."
   ]
  },
  {
   "cell_type": "code",
   "execution_count": 13,
   "metadata": {},
   "outputs": [],
   "source": [
    "try:\n",
    "    # Avoiding rollup in training phase to enable better learning outcomes.\n",
    "    s_classMethod       = 'Resolve Multiple Material-Vendor combo'\n",
    "    s_statusType        = 'Success'    \n",
    "    dfDataVendorRollup  = dfDataVendorMaxDate[['Material','UOM','VendorCode','Doc. Date','Del Date', \\\n",
    "                                               'GRN Date','Sum of PO Quantity', \\\n",
    "                                               'Sum of      Net Price', \\\n",
    "                                               'Sum of PO Value', \\\n",
    "                                               'Sum of GRN Qty', \\\n",
    "                                               'Sum of GRN Val', \\\n",
    "                                               'Deviation_DeliveryDate', \\\n",
    "                                               'Deviation_DeliveredQty', \\\n",
    "                                               'Deviation_DeliveredValue', \\\n",
    "                                               'MaterialCountByVendor'\n",
    "                                              ]]\n",
    "except:\n",
    "    s_statusType        = 'Error'\n",
    "    s_statusDescription = str(sys.exc_info())\n",
    "    applConfig.WriteToActivityLog(s_classApplication,\n",
    "                                  s_classMethod,\n",
    "                                  s_statusType,\n",
    "                                  s_statusDescription\n",
    "                                 )    \n",
    "    raise Exception(s_statusDescription)"
   ]
  },
  {
   "cell_type": "code",
   "execution_count": 14,
   "metadata": {},
   "outputs": [],
   "source": [
    "dfDataVendorRollup[['Material','VendorCode','Del Date','GRN Date','Sum of      Net Price', \\\n",
    "                     'Sum of PO Quantity','Sum of PO Value','Sum of GRN Qty','Sum of GRN Val', \\\n",
    "                     'Deviation_DeliveryDate','Deviation_DeliveredQty','Deviation_DeliveredValue','MaterialCountByVendor'\n",
    "                    ]].to_csv('MaterialVendor_Deviation_After_Rollup_Dates_Maximized_Numeric_Averaged.csv')"
   ]
  },
  {
   "cell_type": "markdown",
   "metadata": {},
   "source": [
    "### [1.40]: Build the final dataframe for ML modelling."
   ]
  },
  {
   "cell_type": "markdown",
   "metadata": {},
   "source": [
    "#### [1.41]: Concatenate all the required columns."
   ]
  },
  {
   "cell_type": "code",
   "execution_count": 15,
   "metadata": {},
   "outputs": [],
   "source": [
    "try:\n",
    "    s_classMethod       = 'Finalize the columns in dataframe.'\n",
    "    s_statusType        = 'Success'    \n",
    "    # Concat all the columns required for the analysis.\n",
    "    dfDataVendorRollup['Deviation_DeliveryDate'] = dfDataVendorRollup['Deviation_DeliveryDate'].round(0)\n",
    "    dfDataVendorRollup['Deviation_DeliveredQty'] = dfDataVendorRollup['Deviation_DeliveredQty'].round(2)\n",
    "    dfDataVendorFinal  = dfDataVendorRollup[['Doc. Date','VendorCode','Material','Sum of      Net Price', \\\n",
    "                                            'Sum of GRN Qty','Sum of GRN Val','Sum of PO Quantity','Sum of PO Value', \\\n",
    "                                            'Deviation_DeliveryDate','Deviation_DeliveredQty', \\\n",
    "                                            'Deviation_DeliveredValue','MaterialCountByVendor']].copy()\n",
    "\n",
    "except:\n",
    "    s_statusType        = 'Error'\n",
    "    s_statusDescription = str(sys.exc_info())\n",
    "    applConfig.WriteToActivityLog(s_classApplication,\n",
    "                                  s_classMethod,\n",
    "                                  s_statusType,\n",
    "                                  s_statusDescription\n",
    "                                 )    \n",
    "    raise Exception(s_statusDescription)     "
   ]
  },
  {
   "cell_type": "markdown",
   "metadata": {},
   "source": [
    "#### [1.42]: Dataframe to contain the delivery performance parameters to be pickled."
   ]
  },
  {
   "cell_type": "code",
   "execution_count": 16,
   "metadata": {},
   "outputs": [],
   "source": [
    "dfPickleDeliveryPerformance = dfDataVendorFinal[['Material','VendorCode','Deviation_DeliveryDate',\\\n",
    "                                                 'Deviation_DeliveredQty','Deviation_DeliveredValue', \\\n",
    "                                                 'MaterialCountByVendor']].copy()"
   ]
  },
  {
   "cell_type": "markdown",
   "metadata": {},
   "source": [
    "#### [1.43]: Generate the class label."
   ]
  },
  {
   "cell_type": "code",
   "execution_count": 17,
   "metadata": {},
   "outputs": [],
   "source": [
    "# Function to generate the class Label.\n",
    "def getClassDelivery(dfClassDelivery):\n",
    "    # Store the actual index.\n",
    "    dfIndex = dfClassDelivery.index\n",
    "    # Set the index to 'Material' to partition the dataset.\n",
    "    dfClassDelivery.set_index('Material', inplace=True)\n",
    "    # Loop through the distinct partition value.\n",
    "    for i in (set(dfClassDelivery.index)):\n",
    "        # Apply partition, on the 'Material' column.\n",
    "        slicer = (dfClassDelivery.index.values == i)\n",
    "        # No deviation in delivery dates and quantity delivered, set the class \n",
    "        # label to 1.\n",
    "        dfClassDelivery.loc[( (slicer) & \\\n",
    "                              (dfClassDelivery['Deviation_DeliveryDate']   <= 0.0) & \\\n",
    "                              (dfClassDelivery['Deviation_DeliveredQty']   == 0.0) \\\n",
    "                             \n",
    "                            ),  \\\n",
    "                            'classDelivery'] = 1\n",
    "\n",
    "    dfClassDelivery['Material'] = dfClassDelivery.index\n",
    "    dfClassDelivery.index = dfIndex\n",
    "    dfClassDelivery = dfClassDelivery[['Doc. Date','Material','VendorCode','Sum of      Net Price', \\\n",
    "                                       'Sum of GRN Qty','Sum of GRN Val','Sum of PO Quantity','Sum of PO Value', \\\n",
    "                                       'Deviation_DeliveryDate','Deviation_DeliveredQty','MaterialCountByVendor', \\\n",
    "                                       'Rank','classDelivery']]\n",
    "    return dfClassDelivery"
   ]
  },
  {
   "cell_type": "markdown",
   "metadata": {},
   "source": [
    "#### [1.44]: Prepare the Class labels"
   ]
  },
  {
   "cell_type": "code",
   "execution_count": 18,
   "metadata": {},
   "outputs": [],
   "source": [
    "try:\n",
    "    s_classMethod       = 'Generate Rank and Class Labels'\n",
    "    s_statusType        = 'Success'        \n",
    "    # prepare the rank data by hard coding the weights. \n",
    "    dfDataVendorFinal['Rank'] = ( (dfDataVendorFinal['Deviation_DeliveryDate']*0.4) + \\\n",
    "                                  (dfDataVendorFinal['Deviation_DeliveredQty']*0.4) + \\\n",
    "                                  (dfDataVendorFinal['MaterialCountByVendor']*0.2) \n",
    "                                )\n",
    "\n",
    "    # Call the function to generate the class label.\n",
    "    # Set the flag to 'Has Deviation'\n",
    "    # class_0_Has_Deviation | class_1_Has_No_Deviation\n",
    "    dfDataVendorFinal['classDelivery'] = 0\n",
    "    dfDataVendorFinal = getClassDelivery(dfDataVendorFinal.copy())\n",
    "except:\n",
    "    s_statusType        = 'Error'\n",
    "    s_statusDescription = str(sys.exc_info())\n",
    "    applConfig.WriteToActivityLog(s_classApplication,\n",
    "                                  s_classMethod,\n",
    "                                  s_statusType,\n",
    "                                  s_statusDescription\n",
    "                                 )    \n",
    "    raise Exception(s_statusDescription)         "
   ]
  },
  {
   "cell_type": "code",
   "execution_count": 19,
   "metadata": {},
   "outputs": [],
   "source": [
    "dfDataVendorFinal[['Doc. Date','VendorCode','Material','Sum of      Net Price', \\\n",
    "                    'Sum of GRN Qty','Sum of GRN Val','Sum of PO Quantity','Sum of PO Value', \\\n",
    "                    'Deviation_DeliveryDate','Deviation_DeliveredQty','MaterialCountByVendor', \\\n",
    "                    'Rank','classDelivery']].to_csv('MaterialVendor_before_Upsampling.csv')"
   ]
  },
  {
   "cell_type": "markdown",
   "metadata": {},
   "source": [
    "#### [1.45] : Upsample minority class\n",
    "#### TO DO LIST :\n",
    "#### Important Note\n",
    "    Always split into test and train sets BEFORE trying oversampling techniques! Oversampling before splitting \n",
    "    the data can allow the exact same observations to be present in both the test and train sets. \n",
    "    This can allow our model to simply memorize specific data points and cause overfitting and \n",
    "    poor generalization to the test data."
   ]
  },
  {
   "cell_type": "code",
   "execution_count": 20,
   "metadata": {},
   "outputs": [],
   "source": [
    "# Function used to upsample minority class.\n",
    "def Upsample(dfSample,replace=True):\n",
    "    dfYOut = dfSample['classDelivery'].value_counts()\n",
    "    lstClassLabelIndex = list(dfYOut.index)\n",
    "    lstClassLabelNames = list(dfYOut)\n",
    "    intDominantClass   = int(lstClassLabelNames[0])\n",
    "\n",
    "    lstDataframes = []\n",
    "    for index,classNm in enumerate(lstClassLabelNames):\n",
    "        #print(index,classNm,lstClassLabelIndex[index])\n",
    "        dfClassPartition = dfSample[dfSample['classDelivery'] == lstClassLabelIndex[index]]\n",
    "        if index != 0:\n",
    "            # Upsample minority class\n",
    "            dfClassPartition = resample(dfClassPartition, \n",
    "                                        replace=replace,     # sample with replacement\n",
    "                                        n_samples=intDominantClass,    # to match majority class\n",
    "                                        random_state=123) # reproducible results\n",
    "        # Append the dataframe to the list\n",
    "        lstDataframes.append(dfClassPartition)\n",
    "\n",
    "    # Combine majority class with upsampled minority class\n",
    "    dfSampleUpsampled = pd.concat(lstDataframes)\n",
    "    return dfSampleUpsampled"
   ]
  },
  {
   "cell_type": "markdown",
   "metadata": {},
   "source": [
    "#### [1.46]: Export the data with class Label for analysis."
   ]
  },
  {
   "cell_type": "code",
   "execution_count": 21,
   "metadata": {},
   "outputs": [],
   "source": [
    "# Export the data with the assigned class label for inspection.\n",
    "dfDataVendorFinal[['Material','VendorCode','Sum of      Net Price','Deviation_DeliveryDate', \\\n",
    "                   'Deviation_DeliveredQty','MaterialCountByVendor','Rank','classDelivery']] \\\n",
    ".to_csv('inspect_classAssignment.csv')"
   ]
  },
  {
   "cell_type": "markdown",
   "metadata": {},
   "source": [
    "### [1.50]: Treat categorical variables."
   ]
  },
  {
   "cell_type": "code",
   "execution_count": 22,
   "metadata": {},
   "outputs": [],
   "source": [
    "try:\n",
    "    s_classMethod       = 'Treat Categorical Varaibles'\n",
    "    s_statusType        = 'Success' \n",
    "    # Build the dataframe with the encoded column for the categorical data.\n",
    "    dfMaterialOHE = pd.get_dummies(dfDataVendorFinal['Material'])\n",
    "    dfVendorOHE   = pd.get_dummies(dfDataVendorFinal['VendorCode'])\n",
    "    # Add the encoded columns to the existing upsampled dataframe.\n",
    "    dfDataVendorFinal = pd.concat([dfDataVendorFinal,dfMaterialOHE,dfVendorOHE],axis=1)    \n",
    "except:\n",
    "    s_statusType        = 'Error'\n",
    "    s_statusDescription = str(sys.exc_info())\n",
    "    applConfig.WriteToActivityLog(s_classApplication,\n",
    "                                  s_classMethod,\n",
    "                                  s_statusType,\n",
    "                                  s_statusDescription\n",
    "                                 )    \n",
    "    raise Exception(s_statusDescription)         "
   ]
  },
  {
   "cell_type": "code",
   "execution_count": 23,
   "metadata": {},
   "outputs": [
    {
     "data": {
      "text/plain": [
       "0    647\n",
       "1    105\n",
       "Name: classDelivery, dtype: int64"
      ]
     },
     "execution_count": 23,
     "metadata": {},
     "output_type": "execute_result"
    }
   ],
   "source": [
    "dfDataVendorFinal['classDelivery'].value_counts()\n",
    "#class_1 : 14%\n",
    "#class_0 : 86%"
   ]
  },
  {
   "cell_type": "markdown",
   "metadata": {},
   "source": [
    "### [1.60]: Machine Learning Modelling"
   ]
  },
  {
   "cell_type": "markdown",
   "metadata": {},
   "source": [
    "#### [1.61]: Split the dataset into training, cross-validation and test."
   ]
  },
  {
   "cell_type": "code",
   "execution_count": 24,
   "metadata": {},
   "outputs": [],
   "source": [
    "try:\n",
    "    s_classMethod       = 'Perform Data Split'\n",
    "    s_statusType        = 'Success' \n",
    "\n",
    "    # Copy the dataframe.\n",
    "    dfDataVendorML = dfDataVendorFinal.copy()\n",
    "\n",
    "    # Extract the dependent variable.\n",
    "    Y_Output = dfDataVendorML[['classDelivery']].copy()\n",
    "    # Remove features not useful for the modelling.\n",
    "    featureDrop = ['classDelivery', \\\n",
    "                   'Doc. Date', \\\n",
    "                   'Material', \\\n",
    "                   'VendorCode', \\\n",
    "                   'Rank' \\\n",
    "                   ,'Sum of      Net Price' \\\n",
    "                   ,'Sum of PO Quantity' \\\n",
    "                   ,'Sum of PO Value' \\\n",
    "                   ,'Sum of GRN Qty' \\\n",
    "                   ,'Sum of GRN Val'\n",
    "                   ,'MaterialCountByVendor'\n",
    "                   ]\n",
    "    dfDataVendorML.drop(featureDrop, axis=1,inplace=True)\n",
    "    # Extract the independent variable.\n",
    "    X_Input = dfDataVendorML.copy()\n",
    "\n",
    "    # Get the total row count.\n",
    "    total_rowCount = len(X_Input)\n",
    "    # Is time based splitting of dataset required.\n",
    "    IsTimeBasedSplitting = 0\n",
    "    # Data split ratio for train, cv and test set.\n",
    "    Training_split_ratio = 0.60\n",
    "    Crossvalidation_split_ratio = 0.20\n",
    "    Test_split_ratio = 0.20\n",
    "\n",
    "    # Call the method to split the data.\n",
    "    X_train,X_cv,X_test,Y_train,Y_cv,Y_test = applConfig.split_data(dfX = X_Input,\n",
    "                                                                    dfY = Y_Output,\n",
    "                                                                    total_rowCount = total_rowCount,\n",
    "                                                                    IsTimeBasedSplitting = IsTimeBasedSplitting,\n",
    "                                                                    Training_split_ratio = Training_split_ratio,\n",
    "                                                                    Crossvalidation_split_ratio = Crossvalidation_split_ratio,\n",
    "                                                                    Test_split_ratio = Test_split_ratio)\n",
    "except:\n",
    "    s_statusType        = 'Error'\n",
    "    s_statusDescription = str(sys.exc_info())\n",
    "    applConfig.WriteToActivityLog(s_classApplication,\n",
    "                                  s_classMethod,\n",
    "                                  s_statusType,\n",
    "                                  s_statusDescription\n",
    "                                 )    \n",
    "    raise Exception(s_statusDescription)             "
   ]
  },
  {
   "cell_type": "markdown",
   "metadata": {},
   "source": [
    "#### [1.62]: Upsample the minority class in the training set."
   ]
  },
  {
   "cell_type": "code",
   "execution_count": 25,
   "metadata": {},
   "outputs": [
    {
     "data": {
      "text/plain": [
       "\"\\n# Merge the input and output before upsamping the minority class.\\ndfTrainUpsampled = pd.concat([X_train,Y_train],axis=1)    \\n# Upsample the minority class.\\ndfTrainUpsampled = Upsample(dfTrainUpsampled,replace=True)\\n# Split the input and output features into separate dataframes.\\nY_train = dfTrainUpsampled['classDelivery']\\nX_train = dfTrainUpsampled.drop('classDelivery', axis=1,inplace=False)\\n\""
      ]
     },
     "execution_count": 25,
     "metadata": {},
     "output_type": "execute_result"
    }
   ],
   "source": [
    "'''\n",
    "# Merge the input and output before upsamping the minority class.\n",
    "dfTrainUpsampled = pd.concat([X_train,Y_train],axis=1)    \n",
    "# Upsample the minority class.\n",
    "dfTrainUpsampled = Upsample(dfTrainUpsampled,replace=True)\n",
    "# Split the input and output features into separate dataframes.\n",
    "Y_train = dfTrainUpsampled['classDelivery']\n",
    "X_train = dfTrainUpsampled.drop('classDelivery', axis=1,inplace=False)\n",
    "'''"
   ]
  },
  {
   "cell_type": "code",
   "execution_count": 26,
   "metadata": {},
   "outputs": [
    {
     "name": "stdout",
     "output_type": "stream",
     "text": [
      "0    386\n",
      "1     65\n",
      "Name: classDelivery, dtype: int64\n",
      "0    128\n",
      "1     22\n",
      "Name: classDelivery, dtype: int64\n",
      "0    133\n",
      "1     18\n",
      "Name: classDelivery, dtype: int64\n"
     ]
    }
   ],
   "source": [
    "#Y_train.value_counts()\n",
    "print(Y_train['classDelivery'].value_counts())\n",
    "print(Y_cv['classDelivery'].value_counts())\n",
    "print(Y_test['classDelivery'].value_counts())"
   ]
  },
  {
   "cell_type": "markdown",
   "metadata": {},
   "source": [
    "#### [1.62]: Standardize the data."
   ]
  },
  {
   "cell_type": "code",
   "execution_count": 27,
   "metadata": {},
   "outputs": [],
   "source": [
    "try:\n",
    "    s_classMethod       = 'Perform Data Split'\n",
    "    s_statusType        = 'Success' \n",
    "    IsNormalize         = 1\n",
    "    \n",
    "    # Standardize the data.\n",
    "    normalizer,X_train_stdzd,X_cv_stdzd, X_test_stdzd, \\\n",
    "    Y_train_ravel,Y_cv_ravel,Y_test_ravel = applConfig.standardize_data( X_train,\n",
    "                                                                         X_cv,\n",
    "                                                                         X_test,\n",
    "                                                                         Y_train,\n",
    "                                                                         Y_cv,\n",
    "                                                                         Y_test,\n",
    "                                                                         IsNormalize=IsNormalize)\n",
    "except:\n",
    "    s_statusType        = 'Error'\n",
    "    s_statusDescription = str(sys.exc_info())\n",
    "    applConfig.WriteToActivityLog(s_classApplication,\n",
    "                                  s_classMethod,\n",
    "                                  s_statusType,\n",
    "                                  s_statusDescription\n",
    "                                 )    \n",
    "    raise Exception(s_statusDescription)             "
   ]
  },
  {
   "cell_type": "markdown",
   "metadata": {},
   "source": [
    "#### [1.63]: Hyper-parameter Tuning"
   ]
  },
  {
   "cell_type": "code",
   "execution_count": 28,
   "metadata": {},
   "outputs": [
    {
     "name": "stdout",
     "output_type": "stream",
     "text": [
      "GridSearchCV(cv=5, error_score='raise-deprecating',\n",
      "       estimator=LogisticRegression(C=1.0, class_weight='balanced', dual=False,\n",
      "          fit_intercept=True, intercept_scaling=1, max_iter=1000,\n",
      "          multi_class='warn', n_jobs=None, penalty='l2', random_state=None,\n",
      "          solver='warn', tol=0.0001, verbose=0, warm_start=False),\n",
      "       fit_params=None, iid='warn', n_jobs=-1,\n",
      "       param_grid={'C': [0.001, 0.01, 0.1, 1, 10, 100, 1000, 10000, 100000, 1000000, 10000000]},\n",
      "       pre_dispatch='2*n_jobs', refit=True, return_train_score='warn',\n",
      "       scoring=None, verbose=0)\n",
      "0.8337028824833703\n",
      "10000000\n"
     ]
    }
   ],
   "source": [
    "try:\n",
    "    s_classMethod       = 'Perform Hyper-parameter tuning'\n",
    "    s_statusType        = 'Success' \n",
    "\n",
    "    # Set the parameters to determine the model hyper parameters.\n",
    "    classWt = 1      # 0=>None|1=>Balanced\n",
    "    penalty = 'l2'   # optimizer\n",
    "    cv      = 5      # Sampling epochs.\n",
    "    solver  = 'liblinear' # Solver.\n",
    "\n",
    "    # Get the model hyper-parameters.\n",
    "    gridResults,bestScore, \\\n",
    "    optimal_HyperParameter = applConfig.GetModelHyperParameters(X_train_stdzd\n",
    "                                                                ,Y_train_ravel\n",
    "                                                                ,penalty  # Optimizer.\n",
    "                                                                ,cv       # GridSearchCV cv sample size\n",
    "                                                                ,classWt  # class-weight: 0=>None|1=>'balanced'\n",
    "                                                                ,solver # solver.\n",
    "                                                               )\n",
    "    print(gridResults)\n",
    "    print(bestScore)\n",
    "    print(optimal_HyperParameter)\n",
    "except:\n",
    "    s_statusType        = 'Error'\n",
    "    s_statusDescription = str(sys.exc_info())\n",
    "    applConfig.WriteToActivityLog(s_classApplication,\n",
    "                                  s_classMethod,\n",
    "                                  s_statusType,\n",
    "                                  s_statusDescription\n",
    "                                 )    \n",
    "    raise Exception(s_statusDescription)                 "
   ]
  },
  {
   "cell_type": "markdown",
   "metadata": {},
   "source": [
    "#### [1.64]: Model Training"
   ]
  },
  {
   "cell_type": "code",
   "execution_count": 29,
   "metadata": {},
   "outputs": [
    {
     "name": "stdout",
     "output_type": "stream",
     "text": [
      "classWt==balanced\n"
     ]
    },
    {
     "data": {
      "image/png": "[encoded data removed]",
      "text/plain": [
       "<Figure size 360x360 with 2 Axes>"
      ]
     },
     "metadata": {
      "needs_background": "light"
     },
     "output_type": "display_data"
    }
   ],
   "source": [
    "try:\n",
    "    s_classMethod       = 'Perform Model training'\n",
    "    s_statusType        = 'Success' \n",
    "\n",
    "    # Get the trained model with the optimal hyperparameter.\n",
    "    lr_optimal = applConfig.GetTrainedModel(X_train_stdzd,\n",
    "                                            Y_train_ravel,\n",
    "                                            optimal_HyperParameter,\n",
    "                                            penalty,     # Optimizer\n",
    "                                            solver,      # Solver\n",
    "                                            classWt      # classWeight\n",
    "                                           )\n",
    "\n",
    "    # Get the calibrated model.\n",
    "    calibratedCCV = applConfig.GetCalibratedModel( lr_optimal,\n",
    "                                                   X_train_stdzd,\n",
    "                                                   Y_train_ravel)\n",
    "\n",
    "    # Get the predictions from the test set.\n",
    "    Y_pred_test = applConfig.GetPredictions( lr_optimal,\n",
    "                                             X_test_stdzd)\n",
    "\n",
    "    # Get the calibrated predictions from the test set.\n",
    "    Y_pred_calib = applConfig.GetCalibratedPredictions( calibratedCCV,\n",
    "                                                        X_test_stdzd)\n",
    "\n",
    "    # Get the model confusion matrix\n",
    "    #tickLabels = ['Deviation','No Deviation']\n",
    "    plt , confmat, \\\n",
    "    tn, fp, fn, tp = applConfig.GetModelConfusionMatrixForBinaryClass(Y_test,\n",
    "                                                                      Y_pred_test)\n",
    "except:\n",
    "    s_statusType        = 'Error'\n",
    "    s_statusDescription = str(sys.exc_info())\n",
    "    applConfig.WriteToActivityLog(s_classApplication,\n",
    "                                  s_classMethod,\n",
    "                                  s_statusType,\n",
    "                                  s_statusDescription\n",
    "                                 )    \n",
    "    raise Exception(s_statusDescription)  "
   ]
  },
  {
   "cell_type": "code",
   "execution_count": null,
   "metadata": {},
   "outputs": [],
   "source": []
  },
  {
   "cell_type": "code",
   "execution_count": 30,
   "metadata": {},
   "outputs": [
    {
     "name": "stdout",
     "output_type": "stream",
     "text": [
      "(1, 414)\n",
      "(451, 414)\n",
      "(150, 414)\n",
      "(151, 414)\n",
      "752\n",
      "752\n"
     ]
    },
    {
     "data": {
      "text/plain": [
       "Index(['Deviation_DeliveryDate', 'Deviation_DeliveredQty', '272TWROSHT',\n",
       "       '272TWROSMS', 'HT1-100X100X10', 'HT1-100X100X10P', 'HT1-100X100X6',\n",
       "       'HT1-100X100X6P', 'HT1-100X100X7', 'HT1-100X100X7P',\n",
       "       ...\n",
       "       '201039', '201262', '201356', '201373', '201386', '201420', '3801013',\n",
       "       '3801809', '3808130', '5313755'],\n",
       "      dtype='object', length=414)"
      ]
     },
     "execution_count": 30,
     "metadata": {},
     "output_type": "execute_result"
    }
   ],
   "source": [
    "# Weights of the learnt model.\n",
    "print(lr_optimal.coef_.shape)\n",
    "print(X_train_stdzd.shape)\n",
    "print(X_cv_stdzd.shape)\n",
    "print(X_test_stdzd.shape)\n",
    "print(len(X_Input))\n",
    "print(len(Y_Output))\n",
    "X_Input.columns"
   ]
  },
  {
   "cell_type": "markdown",
   "metadata": {},
   "source": [
    "#### [1.65]: Model Evaluation"
   ]
  },
  {
   "cell_type": "code",
   "execution_count": 31,
   "metadata": {},
   "outputs": [
    {
     "data": {
      "image/png": "[encoded data removed]",
      "text/plain": [
       "<Figure size 432x288 with 1 Axes>"
      ]
     },
     "metadata": {
      "needs_background": "light"
     },
     "output_type": "display_data"
    }
   ],
   "source": [
    "try:\n",
    "    s_classMethod       = 'Perform Model evaluation'\n",
    "    s_statusType        = 'Success' \n",
    "    \n",
    "    # Plot the Roc curve\n",
    "    # Get the actual class distribution from the test set.\n",
    "    negative_class = Y_test['classDelivery'].value_counts()[0]\n",
    "    positive_class = Y_test['classDelivery'].value_counts()[1]\n",
    "    #print(\"Actual Negative Class: \",negative_class)\n",
    "    #print(\"Actual Positive Class: \",positive_class)\n",
    "\n",
    "    # Get the ROC value.\n",
    "    plt,roc_score = applConfig.GetModelROCForBinaryClass(Y_test_ravel,Y_pred_calib)\n",
    "    plt.show()\n",
    "\n",
    "    #print(\"ROC AUC Score:\",roc_score)\n",
    "except:\n",
    "    s_statusType        = 'Error'\n",
    "    s_statusDescription = str(sys.exc_info())\n",
    "    applConfig.WriteToActivityLog(s_classApplication,\n",
    "                                  s_classMethod,\n",
    "                                  s_statusType,\n",
    "                                  s_statusDescription\n",
    "                                 )    \n",
    "    raise Exception(s_statusDescription)      "
   ]
  },
  {
   "cell_type": "markdown",
   "metadata": {},
   "source": [
    "#### [1.66]: Write Model Metrics To Log."
   ]
  },
  {
   "cell_type": "code",
   "execution_count": 32,
   "metadata": {},
   "outputs": [],
   "source": [
    "try:\n",
    "    s_classMethod       = 'Log Model Metrics'\n",
    "    s_statusType        = 'Success'\n",
    "    \n",
    "    # Generate Model trace.\n",
    "    # Set the model trace parameters.\n",
    "    modelTrace = \"[ModelHyperParameters]:[\" + str(gridResults) + \"];\"\n",
    "    modelTrace = modelTrace + \"[ModelOptimalHyperParameter]:[\" + str(optimal_HyperParameter) + \"];\"\n",
    "    modelTrace = modelTrace + \"[Class_Labels]:[0|1];\"\n",
    "    modelTrace = modelTrace + \"[ModelConfusionMatrix]:[\" + str(confmat) + \"];\"\n",
    "    modelTrace = modelTrace + \"[ModelROC_AUC]:[\" + str(roc_score) + \"];\"\n",
    "    modelTrace = modelTrace + \"[Actual_ClassDistribution]:[\" + str(positive_class) + \"|\" + str(negative_class) + \"];\"\n",
    "\n",
    "    # Call method to write the model trace to log.\n",
    "    applConfig.WriteToActivityLog(classApplication  = s_classApplication,\n",
    "                                  classMethod       = 'Log Model Metrics',\n",
    "                                  statusType        = 'Success',\n",
    "                                  statusDescription = modelTrace)\n",
    "except:\n",
    "    s_statusType        = 'Error'\n",
    "    s_statusDescription = str(sys.exc_info())\n",
    "    applConfig.WriteToActivityLog(s_classApplication,\n",
    "                                  s_classMethod,\n",
    "                                  s_statusType,\n",
    "                                  s_statusDescription\n",
    "                                 )    \n",
    "    raise Exception(s_statusDescription)  "
   ]
  },
  {
   "cell_type": "markdown",
   "metadata": {},
   "source": [
    "#### [1.67]: Pickle the trained model."
   ]
  },
  {
   "cell_type": "code",
   "execution_count": 33,
   "metadata": {},
   "outputs": [],
   "source": [
    "try:\n",
    "    s_classMethod       = 'Pickle Trained Model'\n",
    "    s_statusType        = 'Success'\n",
    "    # Pickle the standardizer.\n",
    "    pklTrainedStandardizer = applConfig.PickleTrainedObject('TN',normalizer)\n",
    "    # Pickle the trained Model.\n",
    "    pklTrainedModel = applConfig.PickleTrainedObject('TM',lr_optimal)\n",
    "    #print(pklTrainedModel)\n",
    "    pklTrainedCalibratedModel = applConfig.PickleTrainedObject('TCM',calibratedCCV)\n",
    "    #print(pklTrainedCalibratedModel)\n",
    "    pklDeliveryPerformanceParameters = applConfig.PickleDataframes(dfPickleDeliveryPerformance)\n",
    "    #print(pklDeliveryPerformanceParameters)\n",
    "except:\n",
    "    s_statusType        = 'Error'\n",
    "    s_statusDescription = str(sys.exc_info())\n",
    "    applConfig.WriteToActivityLog(s_classApplication,\n",
    "                                  s_classMethod,\n",
    "                                  s_statusType,\n",
    "                                  s_statusDescription\n",
    "                                 )    \n",
    "    raise Exception(s_statusDescription)  "
   ]
  }
 ],
 "metadata": {
  "kernelspec": {
   "display_name": "Python 3",
   "language": "python",
   "name": "python3"
  },
  "language_info": {
   "codemirror_mode": {
    "name": "ipython",
    "version": 3
   },
   "file_extension": ".py",
   "mimetype": "text/x-python",
   "name": "python",
   "nbconvert_exporter": "python",
   "pygments_lexer": "ipython3",
   "version": "3.7.3"
  }
 },
 "nbformat": 4,
 "nbformat_minor": 2
}
