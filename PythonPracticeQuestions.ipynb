{
 "cells": [
  {
   "cell_type": "markdown",
   "metadata": {},
   "source": [
    "#### Question 1 : Write a function that inputs a number and prints the multiplication table of that number."
   ]
  },
  {
   "cell_type": "code",
   "execution_count": 100,
   "metadata": {},
   "outputs": [
    {
     "name": "stdout",
     "output_type": "stream",
     "text": [
      "Enter numeric values : 10\n",
      "The table for 10 is : \n",
      "10 X 1  =  10\n",
      "10 X 2  =  20\n",
      "10 X 3  =  30\n",
      "10 X 4  =  40\n",
      "10 X 5  =  50\n",
      "10 X 6  =  60\n",
      "10 X 7  =  70\n",
      "10 X 8  =  80\n",
      "10 X 9  =  90\n",
      "10 X 10  =  100\n"
     ]
    }
   ],
   "source": [
    "#Enter numeric values only.\n",
    "try:\n",
    "    n = int(input(\"Enter numeric values : \"))\n",
    "    #print the output.\n",
    "    print(\"The table for {0} is : \".format(n))\n",
    "    for i in range(1,11):\n",
    "        print(\"{} X {} {} {}\".format(n,i,\" = \",(n*i)))\n",
    "\n",
    "except(ValueError):\n",
    "    print(\"Enter numeric values only.\")\n"
   ]
  },
  {
   "cell_type": "code",
   "execution_count": null,
   "metadata": {},
   "outputs": [],
   "source": []
  },
  {
   "cell_type": "markdown",
   "metadata": {},
   "source": [
    "#### Question 2 : Write a program to print twin primes less than 1000. If two consecutive odd numbers are both prime then they are       known as twin primes."
   ]
  },
  {
   "cell_type": "code",
   "execution_count": 101,
   "metadata": {},
   "outputs": [
    {
     "name": "stdout",
     "output_type": "stream",
     "text": [
      "The twin primes less than 1000 are :\n",
      " [1, 3, 5, 7, 11, 13, 17, 19, 29, 31, 41, 43, 59, 61, 71, 73, 101, 103, 107, 109, 137, 139, 149, 151, 179, 181, 191, 193, 197, 199, 227, 229, 239, 241, 269, 271, 281, 283, 311, 313, 347, 349, 419, 421, 431, 433, 461, 463, 521, 523, 569, 571, 599, 601, 617, 619, 641, 643, 659, 661, 809, 811, 821, 823, 827, 829, 857, 859, 881, 883].\n"
     ]
    }
   ],
   "source": [
    "import numpy as np\n",
    "\n",
    "# Extract odd numbers less than 1000.\n",
    "lstOddNumbers = np.arange(3,1000,2)\n",
    "lstOddAndPrime = [3]\n",
    "lstTwinPrime = [1,3]\n",
    "firstNum = 3\n",
    "\n",
    "# Extract prime numbers from the above list.\n",
    "for i in lstOddNumbers[1:]:\n",
    "    isPrime = False\n",
    "    for j in np.arange(2,i):\n",
    "        if ((i % j) == 0):\n",
    "            isPrime = True\n",
    "    if (isPrime == False):\n",
    "        lstOddAndPrime.append(i)\n",
    "\n",
    "# Check and extract, if the prime nubers in the above list are TwinPrimes.\n",
    "for i in lstOddAndPrime[1:]:\n",
    "    secondNum = i\n",
    "    #print(\"The first and second numbers are {} and {}.\".format(firstNum,secondNum))\n",
    "    if (secondNum - firstNum) == 2:\n",
    "        lstTwinPrime.append(firstNum)\n",
    "        lstTwinPrime.append(secondNum)\n",
    "    firstNum = secondNum\n",
    "\n",
    "lstTwinPrime = set(lstTwinPrime)\n",
    "\n",
    "\n",
    "print(\"The twin primes less than 1000 are :\\n {}.\".format(sorted(lstTwinPrime)))\n"
   ]
  },
  {
   "cell_type": "code",
   "execution_count": null,
   "metadata": {},
   "outputs": [],
   "source": []
  },
  {
   "cell_type": "markdown",
   "metadata": {},
   "source": [
    "#### Question 3 : Write a program to find the prime factors of a number. "
   ]
  },
  {
   "cell_type": "code",
   "execution_count": 102,
   "metadata": {},
   "outputs": [
    {
     "name": "stdout",
     "output_type": "stream",
     "text": [
      "Enter a number greater than 1.\n",
      " Ex: 2,3,4,...... : 72\n",
      "The prime factors are : [2, 2, 2, 3, 3]\n"
     ]
    }
   ],
   "source": [
    "#Task : Given a number, extract its Prime Factors.\n",
    "\n",
    "# module initialization.\n",
    "import numpy as np\n",
    "\n",
    "# List that contains the prime factors. Initialize it to empty.\n",
    "lstPrimeFactors = []\n",
    "\n",
    "#Quotient / Number being entered. Initialize it to 1.\n",
    "#Need two variables , one to store the user entered number and the other is when we divide the given number by its prime factor,\n",
    "#we need to store its quotient into a another variable, so that the prime factors can be found for the new quotient.\n",
    "#This is repeated , until the quotient equals 1.\n",
    "quotient = 1\n",
    "\n",
    "#Error handling for invalid user entries.\n",
    "try:\n",
    "    #prompt the user to enter the number.\n",
    "    n = int(input(\"Enter a number greater than 1.\\n Ex: 2,3,4,...... : \"))\n",
    "    #Assign the value of the entered number to the quotient, and find prime factors. \n",
    "    quotient = n\n",
    "    # Start by 2 , since 1 is a prime factor by default.\n",
    "    if quotient > 2:\n",
    "        #print(\"The quotient value at start is : {}\".format(quotient))\n",
    "        # Loop through all the values starting from 2 till the given number -1, to check for prime factors.\n",
    "        for i in np.arange(2,(quotient-1)):\n",
    "            #print(\"The value of i is : {}\".format(i))\n",
    "            while quotient > 1:\n",
    "                #print(\"The value of quotient within the while loop is : {}\".format(quotient))\n",
    "                #print(\"quotient % {} is : {}\".format(i,(quotient % i)))\n",
    "                # If the quotient value is divisible by iterator, then its a prime factor.\n",
    "                if (quotient % i) == 0:\n",
    "                    #Append the prime factor to the List.\n",
    "                    lstPrimeFactors.append(i)\n",
    "                    \n",
    "                    #Since the smallest prime factor is found, divide the quotient value by the prime factor \n",
    "                    # to get the new value. Proceed to find the prime factor of the new value.\n",
    "                    # when the quotient value equals 1, Stop. While loop condition would be satisfied.\n",
    "                    quotient = divmod(quotient,i)[0]\n",
    "                    #print(\"quotient after divmod is : {}\".format(quotient))\n",
    "                else:\n",
    "                    # If the current iterator is not a prime factor, move to the next smallest one.\n",
    "                    #print(\"break\")\n",
    "                    break\n",
    "    #Once all the prime factors are found, print them.\n",
    "    if len(lstPrimeFactors) == 0:\n",
    "        lstPrimeFactors = [1,n]\n",
    "    print(\"The prime factors are : {}\".format(lstPrimeFactors))\n",
    "\n",
    "except(ValueError):\n",
    "    print(\"Enter numeric values only.\")\n"
   ]
  },
  {
   "cell_type": "code",
   "execution_count": null,
   "metadata": {},
   "outputs": [],
   "source": []
  },
  {
   "cell_type": "markdown",
   "metadata": {},
   "source": [
    "#### Question 4 : Program to impement formula of Permutation and Combination."
   ]
  },
  {
   "cell_type": "code",
   "execution_count": 103,
   "metadata": {},
   "outputs": [
    {
     "name": "stdout",
     "output_type": "stream",
     "text": [
      "Enter the value for n : 5\n",
      "Enter the value for r : 2\n",
      "The permuation of 5 objects taken 2 at a time is = 20.0\n"
     ]
    }
   ],
   "source": [
    "# Number of permutations of n objects taken r at a time : nPr = n! / (n-1)!\n",
    "def factorial(num):\n",
    "    return 1 if num == 1 else ( num * factorial(num-1)) \n",
    "\n",
    "try:\n",
    "    n = int(input(\"Enter the value for n : \"))\n",
    "    r = int(input(\"Enter the value for r : \"))\n",
    "\n",
    "    if n >= r:\n",
    "        nPr = factorial(n) / (factorial(n-r))\n",
    "        print(\"The permuation of {} objects taken {} at a time is = {}\".format(n,r,nPr))\n",
    "    else:\n",
    "        print(\"The value of n should be greater than or equal to r\")\n",
    "except(ValueError):\n",
    "    print(\"Enter numeric values only.\")"
   ]
  },
  {
   "cell_type": "code",
   "execution_count": 104,
   "metadata": {},
   "outputs": [
    {
     "name": "stdout",
     "output_type": "stream",
     "text": [
      "Enter the value for n : 5\n",
      "Enter the value for r : 2\n",
      "The combination of 5 objects taken 2 at a time is = 10.0\n"
     ]
    }
   ],
   "source": [
    "# Number of combinations of n objects taken r at a time : nCr = n! / ((n-r)! * r!)\n",
    "def factorial(num):\n",
    "    return 1 if num == 1 else ( num * factorial(num-1)) \n",
    "\n",
    "try:\n",
    "    n = int(input(\"Enter the value for n : \"))\n",
    "    r = int(input(\"Enter the value for r : \"))\n",
    "\n",
    "    if n > r:\n",
    "        nCr = factorial(n) / ( (factorial(n-r)) * (factorial(r) ) )\n",
    "        print(\"The combination of {} objects taken {} at a time is = {}\".format(n,r,nCr))\n",
    "    else:\n",
    "        print(\"The value of n should be greater than r\")\n",
    "except(ValueError):\n",
    "    print(\"Enter numeric values only.\")"
   ]
  },
  {
   "cell_type": "code",
   "execution_count": null,
   "metadata": {},
   "outputs": [],
   "source": []
  },
  {
   "cell_type": "markdown",
   "metadata": {},
   "source": [
    "#### Question 5 : Write a function that converts a decimal number to binary number."
   ]
  },
  {
   "cell_type": "code",
   "execution_count": 105,
   "metadata": {},
   "outputs": [
    {
     "name": "stdout",
     "output_type": "stream",
     "text": [
      "Enter the integer value : 10\n",
      "The binary value of 10 is : 1010\n"
     ]
    }
   ],
   "source": [
    "def convertDecimalToBinary(num):\n",
    "    d = num\n",
    "    r = 0\n",
    "    b = \"\"\n",
    "    c = \"\"\n",
    "    while d > 1:\n",
    "        d,r = divmod(d,2)\n",
    "        if d > 1:\n",
    "            b = b + str(r)\n",
    "        else:\n",
    "            b = b + str(r) + str(d)\n",
    "\n",
    "    for i in list(reversed(b)):\n",
    "        c = c + i\n",
    "        \n",
    "    return c    \n",
    "\n",
    "# Function Call.\n",
    "try:\n",
    "    n = int(input(\"Enter the integer value : \"))\n",
    "    if n > 0:\n",
    "        print(\"The binary value of {} is : {}\".format(n,convertDecimalToBinary(n)))\n",
    "    else:\n",
    "        print(\"Enter integer value greater than zero.\")\n",
    "except(ValueError):\n",
    "    print(\"Enter numeric values only.\")\n"
   ]
  },
  {
   "cell_type": "markdown",
   "metadata": {},
   "source": [
    "#### Question 6 : Write a function cubesum() that accepts an integer and returns the sum of the cube of the individual digits of that number. "
   ]
  },
  {
   "cell_type": "code",
   "execution_count": 106,
   "metadata": {},
   "outputs": [],
   "source": [
    "def cubesum(num):\n",
    "    sum = 0\n",
    "    numString = str(num)\n",
    "    for i in list(numString):\n",
    "        sum += (int(i)**3)\n",
    "    return sum\n",
    "\n",
    "#If the sum of the cube of digits is equal to the original number, the number is an Armstrong number. \n",
    "def isArmstrong(num):\n",
    "    csum = cubesum(num);\n",
    "    if int(num) == int(csum):\n",
    "        return True\n",
    "    else:\n",
    "        return False\n",
    "\n",
    "def PrintArmstrong(n):\n",
    "    if isArmstrong(n) == True:\n",
    "        print(\"The entered number {} is an Armstrong number.\".format(n))\n",
    "    else:\n",
    "        print(\"The entered number {} is not an Armstrong number.\".format(n))\n"
   ]
  },
  {
   "cell_type": "code",
   "execution_count": 107,
   "metadata": {},
   "outputs": [
    {
     "name": "stdout",
     "output_type": "stream",
     "text": [
      "Enter the integer value: 23\n",
      "The sum of the cube of the individual digits of 23 is 35\n"
     ]
    }
   ],
   "source": [
    "# Call the cubesum function to display the sum of the cube of the individual digits of a given number.\n",
    "try:\n",
    "    cm = int(input(\"Enter the integer value: \"))\n",
    "    print(\"The sum of the cube of the individual digits of {} is {}\".format(cm,cubesum(cm)))\n",
    "except(ValueError):\n",
    "    print(\"Enter integer value only.\")"
   ]
  },
  {
   "cell_type": "code",
   "execution_count": 108,
   "metadata": {},
   "outputs": [
    {
     "name": "stdout",
     "output_type": "stream",
     "text": [
      "Enter the number :23\n",
      "The entered number 23 is not an Armstrong number.\n"
     ]
    }
   ],
   "source": [
    "# Input a number, check and print if it is an armstrong number or not.\n",
    "try:\n",
    "    n = int(input(\"Enter the number :\"))\n",
    "    PrintArmstrong(n)\n",
    "except(ValueError):\n",
    "    print(\"Enter integer value only.\")"
   ]
  },
  {
   "cell_type": "code",
   "execution_count": null,
   "metadata": {},
   "outputs": [],
   "source": []
  },
  {
   "cell_type": "markdown",
   "metadata": {},
   "source": [
    "#### Question 7 : Write a function prodDigits() that inputs a number and returns the product of digits of that number."
   ]
  },
  {
   "cell_type": "code",
   "execution_count": 109,
   "metadata": {},
   "outputs": [
    {
     "name": "stdout",
     "output_type": "stream",
     "text": [
      "Enter the number : 123\n",
      "The product of digits of the entered number 123 is 6 .\n"
     ]
    }
   ],
   "source": [
    "def prodDigits(num):\n",
    "    prod = 1\n",
    "    numString = str(num)\n",
    "    for i in list(numString):\n",
    "        prod *= (int(i))\n",
    "    return prod\n",
    "\n",
    "try:\n",
    "    pD = int(input(\"Enter the number : \"))\n",
    "    print(\"The product of digits of the entered number {} is {} .\".format(pD,prodDigits(pD)))\n",
    "except(ValueError):\n",
    "    print(\"Enter integer value only.\")\n"
   ]
  },
  {
   "cell_type": "code",
   "execution_count": null,
   "metadata": {},
   "outputs": [],
   "source": []
  },
  {
   "cell_type": "markdown",
   "metadata": {},
   "source": [
    "#### Question 8 :  Using the function prodDigit() , write functions MDR() and MPersistence() that input a number and returns its multiplicate digital root and multiplicative persistence respectively."
   ]
  },
  {
   "cell_type": "code",
   "execution_count": 110,
   "metadata": {},
   "outputs": [
    {
     "name": "stdout",
     "output_type": "stream",
     "text": [
      "Enter the number : 23\n",
      "num: 23\n",
      "The multiplicative digital root of 23 is 6 \n",
      "The multiplicative persistence of 23 is 1 \n"
     ]
    }
   ],
   "source": [
    "# MULTIPLICATIVE DIGITAL ROOT : \n",
    "# If all digits of a number n are multiplied by each other repeating with the product, \n",
    "# the one digit number obtaned at last is called the Multiplicative Digital Root of n.\n",
    "\n",
    "# MULTIPLICATIVE PERSISTENCE :\n",
    "# The number of times digits need to be multiplied to reach one digit is called the Multiplicative\n",
    "# Persistence of n.\n",
    "\n",
    "def MDR(num):\n",
    "    print(\"num: {}\".format(num))\n",
    "    mr = num\n",
    "    while len(str(mr)) > 1:\n",
    "        mr = prodDigits(mr)\n",
    "    return mr\n",
    "\n",
    "def MPersistence(num):\n",
    "    iCount = 0\n",
    "    mr = num\n",
    "    while len(str(mr)) > 1:\n",
    "        mr = prodDigits(mr)\n",
    "        iCount += 1\n",
    "    return iCount\n",
    "\n",
    "\n",
    "try:\n",
    "    n = int(input(\"Enter the number : \"))\n",
    "    print(\"The multiplicative digital root of {} is {} \".format(n,MDR(n)))\n",
    "    print(\"The multiplicative persistence of {} is {} \".format(n,MPersistence(n)))\n",
    "except(ValueError):\n",
    "    print(\"Enter integer value only.\")\n"
   ]
  },
  {
   "cell_type": "code",
   "execution_count": null,
   "metadata": {},
   "outputs": [],
   "source": []
  },
  {
   "cell_type": "markdown",
   "metadata": {},
   "source": [
    "#### Question 9 : Write a function sumPdivisors() that finds the sum of proper divisors of that number."
   ]
  },
  {
   "cell_type": "code",
   "execution_count": 111,
   "metadata": {},
   "outputs": [
    {
     "name": "stdout",
     "output_type": "stream",
     "text": [
      "Enter the number : 34\n",
      "The proper divisor of 34 are 20\n"
     ]
    }
   ],
   "source": [
    "import numpy as np\n",
    "\n",
    "# Proper divisors of a number are those numbers by which the number is divisible, except the number itself.\n",
    "def sumPdivisors(num):\n",
    "    # List to hold the proper divisors of a number.\n",
    "    properdivisor = 0\n",
    "    # loop through all the discrete values less than the entered number in steps of 1.\n",
    "    for i in np.arange(1,num):\n",
    "        # If the entered number is divisible.\n",
    "        if (num % i) == 0:\n",
    "            # sum up the proper divisor values.\n",
    "            properdivisor += i\n",
    "    # finally, return the list holding the proper divisors.        \n",
    "    return properdivisor\n",
    "\n",
    "try:\n",
    "    n = int(input(\"Enter the number : \"))\n",
    "    if n > 0:\n",
    "        print(\"The proper divisor of {} are {}\".format(n,sumPdivisors(n)))\n",
    "    else:\n",
    "        print(\"Enter a number greater than zero.\")\n",
    "except(ValueError):\n",
    "    print(\"Enter integer value only.\")\n"
   ]
  },
  {
   "cell_type": "code",
   "execution_count": null,
   "metadata": {},
   "outputs": [],
   "source": []
  },
  {
   "cell_type": "markdown",
   "metadata": {},
   "source": [
    "#### Question 10 : Write a program to print all the perfect numbers in a given range."
   ]
  },
  {
   "cell_type": "code",
   "execution_count": 112,
   "metadata": {},
   "outputs": [
    {
     "name": "stdout",
     "output_type": "stream",
     "text": [
      "Enter the start range value. Must be an integer : 10\n",
      "Enter the ending range value. Must be an integer : 50\n",
      "The perfect numbers in the range between 10 and 50 is [28]\n"
     ]
    }
   ],
   "source": [
    "# A number is called Perfect, if the sum of proper divisors of that number is equal to the number.\n",
    "try:\n",
    "    startrange = int(input(\"Enter the start range value. Must be an integer : \"))\n",
    "    endrange = int(input(\"Enter the ending range value. Must be an integer : \"))\n",
    "    if ((startrange > 0) and (endrange > 0)):\n",
    "        lstPerfect = []\n",
    "        for i in np.arange(startrange, (endrange+1)):\n",
    "            if sumPdivisors(i) == i:\n",
    "                lstPerfect.append(i)\n",
    "        if len(lstPerfect) > 0:\n",
    "            print(\"The perfect numbers in the range between {} and {} is {}\".format(startrange,endrange,lstPerfect))\n",
    "        else:\n",
    "            print(\"Perfect numbers in the range between {} and {} does not exist.\".format(startrange,endrange,lstPerfect))\n",
    "    else:\n",
    "        print(\"Start range / Ending range must be greater than zero.\")\n",
    "except(ValueError):\n",
    "    print(\"Enter integer values only.\")\n"
   ]
  },
  {
   "cell_type": "code",
   "execution_count": null,
   "metadata": {},
   "outputs": [],
   "source": []
  },
  {
   "cell_type": "markdown",
   "metadata": {},
   "source": [
    "#### Question 11 : Two different numbers are called Amicable numbers, if the sum of the proper divisors of each is equal to the other number.\n"
   ]
  },
  {
   "cell_type": "code",
   "execution_count": 113,
   "metadata": {},
   "outputs": [
    {
     "name": "stdout",
     "output_type": "stream",
     "text": [
      "Enter the start range value. Must be an integer : 219\n",
      "Enter the ending range value. Must be an integer : 290\n",
      "The Amicable numbers in the range between 219 and 290 is :\n",
      "             (220,284),(222,234),(224,280),(246,258),(248,232),(256,255),(258,270),(272,286),(284,220),(290,250)\n"
     ]
    }
   ],
   "source": [
    "# Write a function to print pairs of Amicable numbers in a given range.\n",
    "\n",
    "def Amicablenumbers(lstNum):\n",
    "    amicableNums = ()\n",
    "    stramicableNums = \"\"\n",
    "    for i in lstNum:\n",
    "        aNum = sumPdivisors(i)\n",
    "        if aNum in lstNum:\n",
    "            stramicableNums = stramicableNums + \",(\" + str(i) + \",\" + str(aNum) + \")\"\n",
    "    amicableNums = (stramicableNums[1:])\n",
    "    return amicableNums\n",
    "\n",
    "# Function call :\n",
    "\n",
    "try:\n",
    "    startrange = int(input(\"Enter the start range value. Must be an integer : \"))\n",
    "    endrange = int(input(\"Enter the ending range value. Must be an integer : \"))\n",
    "    if ((startrange > 0) and (endrange > 0)):\n",
    "        lstNumbers = np.arange(startrange, (endrange+1))\n",
    "        if len(lstNumbers) > 0:\n",
    "            print(\"The Amicable numbers in the range between {} and {} is :\\n \\\n",
    "            {}\".format(startrange,endrange,Amicablenumbers(lstNumbers)))\n",
    "        else:\n",
    "            print(\"The Amicable numbers in the range between {} and {} does not exist.\")\n",
    "    else:\n",
    "        print(\"Start range / Ending range must be greater than zero.\")\n",
    "except(ValueError):\n",
    "    print(\"Enter integer values only.\")\n"
   ]
  },
  {
   "cell_type": "code",
   "execution_count": null,
   "metadata": {},
   "outputs": [],
   "source": []
  },
  {
   "cell_type": "markdown",
   "metadata": {},
   "source": [
    "#### Question 12 : Write a program which can filter odd numbers in a list by using filter function."
   ]
  },
  {
   "cell_type": "code",
   "execution_count": 114,
   "metadata": {},
   "outputs": [
    {
     "name": "stdout",
     "output_type": "stream",
     "text": [
      "The Odd numbers in the list [1, 2, 3, 4, 5, 6, 7, 8, 9, 10] are :\n",
      " [1, 3, 5, 7, 9]\n"
     ]
    }
   ],
   "source": [
    "lstMain = [1,2,3,4,5,6,7,8,9,10]\n",
    "lstOddNumber = list(filter(lambda x: (x%2 != 0),lstMain))\n",
    "print(\"The Odd numbers in the list {} are :\\n {}\".format(lstMain,lstOddNumber))"
   ]
  },
  {
   "cell_type": "code",
   "execution_count": null,
   "metadata": {},
   "outputs": [],
   "source": []
  },
  {
   "cell_type": "markdown",
   "metadata": {},
   "source": [
    "#### Question 13 : Write a program which can map() to make a list whose elements are cube of elements in a given list."
   ]
  },
  {
   "cell_type": "code",
   "execution_count": 115,
   "metadata": {},
   "outputs": [
    {
     "name": "stdout",
     "output_type": "stream",
     "text": [
      "The cube of the elements in the list [1, 2, 3, 4, 5, 6, 7, 8, 9, 10] are :\n",
      " [1, 8, 27, 64, 125, 216, 343, 512, 729, 1000]\n"
     ]
    }
   ],
   "source": [
    "lstMain = [1,2,3,4,5,6,7,8,9,10]\n",
    "lstCubes = list(map(lambda x: (x**3),lstMain))\n",
    "print(\"The cube of the elements in the list {} are :\\n {}\".format(lstMain,lstCubes))"
   ]
  },
  {
   "cell_type": "code",
   "execution_count": null,
   "metadata": {},
   "outputs": [],
   "source": []
  },
  {
   "cell_type": "markdown",
   "metadata": {},
   "source": [
    "#### Question 14 : Write a program which can map() and filter() to make a list whose elements are cube of even numbers in a given list."
   ]
  },
  {
   "cell_type": "code",
   "execution_count": 116,
   "metadata": {},
   "outputs": [
    {
     "name": "stdout",
     "output_type": "stream",
     "text": [
      "The cube of the even numbers present in the list [1, 2, 3, 4, 5, 6, 7, 8, 9, 10] are :\n",
      " [8, 64, 216, 512, 1000]\n"
     ]
    }
   ],
   "source": [
    "lstMain = [1,2,3,4,5,6,7,8,9,10]\n",
    "lstEvenNumbers = list(filter(lambda x: (x%2 == 0),lstMain))\n",
    "lstCubes = list(map(lambda x: (x**3),lstEvenNumbers))\n",
    "print(\"The cube of the even numbers present in the list {} are :\\n {}\".format(lstMain,lstCubes))"
   ]
  },
  {
   "cell_type": "code",
   "execution_count": null,
   "metadata": {},
   "outputs": [],
   "source": []
  },
  {
   "cell_type": "code",
   "execution_count": null,
   "metadata": {},
   "outputs": [],
   "source": []
  }
 ],
 "metadata": {
  "kernelspec": {
   "display_name": "Python 3",
   "language": "python",
   "name": "python3"
  },
  "language_info": {
   "codemirror_mode": {
    "name": "ipython",
    "version": 3
   },
   "file_extension": ".py",
   "mimetype": "text/x-python",
   "name": "python",
   "nbconvert_exporter": "python",
   "pygments_lexer": "ipython3",
   "version": "3.6.4"
  }
 },
 "nbformat": 4,
 "nbformat_minor": 2
}
